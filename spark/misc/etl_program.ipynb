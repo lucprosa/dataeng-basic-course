{
  "cells": [
    {
      "cell_type": "markdown",
      "metadata": {
        "id": "1eYDKU0O-BvH"
      },
      "source": [
        "<a href=\"https://colab.research.google.com/github/lucprosa/dataeng-basic-course/blob/main/spark/misc/etl_program.ipynb\" target=\"_parent\"><img src=\"https://colab.research.google.com/assets/colab-badge.svg\" alt=\"Open In Colab\"/></a>"
      ]
    },
    {
      "cell_type": "code",
      "source": [
        "from pyspark.sql import DataFrame, SparkSession\n",
        "from pyspark.sql.functions import *\n",
        "import pyspark.sql.functions as F\n",
        "from pyspark.sql.types import *\n",
        "import requests\n",
        "\n",
        "class ETLFlow:\n",
        "    def __init__(self, spark: SparkSession) -> None:\n",
        "        self.spark = spark\n",
        "\n",
        "    def extract_from_file(self, format: str, path: str, **kwargs) -> DataFrame:\n",
        "        df = self.spark.read.format(format).load(path)\n",
        "        return df\n",
        "\n",
        "    def extract_from_api(self, url: str, schema: StructType = None):\n",
        "      response = requests.get(url)\n",
        "      rdd = spark.sparkContext.parallelize(response.json())\n",
        "      if schema:\n",
        "        df = spark.read.schema(schema).json(rdd)\n",
        "      else:\n",
        "        df = spark.read.json(rdd)\n",
        "      return df\n",
        "\n",
        "    def load(self, df: DataFrame, format: str, path: str, partition_column: str = None, **kwargs) -> None:\n",
        "        if partition_column:\n",
        "          df.coalesce(1).write.mode(\"overwrite\").partitionBy(partition_column).format(format).save(path)\n",
        "        else:\n",
        "          df.coalesce(1).write.mode(\"overwrite\").format(format).save(path)\n",
        "\n",
        "class ETLTask(ETLFlow):\n",
        "\n",
        "    def __init__(self, spark: SparkSession) -> None:\n",
        "        self.spark = spark\n",
        "\n",
        "    def ingestion_lines(self):\n",
        "      # schema\n",
        "      lines_schema = StructType([StructField('color', StringType(), True),\n",
        "                                 StructField('facilities', ArrayType(StringType(), True), True),\n",
        "                                 StructField('id', StringType(), True),\n",
        "                                 StructField('localities',ArrayType(StringType(), True), True),\n",
        "                                 StructField('long_name', StringType(), True),\n",
        "                                 StructField('municipalities', ArrayType(StringType(), True), True),\n",
        "                                 StructField('patterns', ArrayType(StringType(), True), True),\n",
        "                                 StructField('routes', ArrayType(StringType(), True), True),\n",
        "                                 StructField('short_name', StringType(), True), StructField('text_color', StringType(), True)])\n",
        "      # ingestion\n",
        "      df = self.extract_from_api(url=\"https://api.carrismetropolitana.pt/lines\", schema=lines_schema)\n",
        "      # load\n",
        "      self.load(df=df, format=\"parquet\", path=\"/content/lake/bronze/lines\")\n",
        "\n",
        "\n",
        "    def ingestion_vehicles(self):\n",
        "      vehicle_schema = StructType([StructField('bearing', IntegerType(), True),\n",
        "                                  StructField('block_id', StringType(), True),\n",
        "                                  StructField('current_status', StringType(), True),\n",
        "                                  StructField('id', StringType(), True),\n",
        "                                  StructField('lat', FloatType(), True),\n",
        "                                  StructField('line_id', StringType(), True),\n",
        "                                  StructField('lon', FloatType(), True),\n",
        "                                  StructField('pattern_id', StringType(), True),\n",
        "                                  StructField('route_id', StringType(), True),\n",
        "                                  StructField('schedule_relationship', StringType(), True),\n",
        "                                  StructField('shift_id', StringType(), True),\n",
        "                                  StructField('speed', FloatType(), True),\n",
        "                                  StructField('stop_id', StringType(), True),\n",
        "                                  StructField('timestamp', TimestampType(), True),\n",
        "                                  StructField('trip_id', StringType(), True)])\n",
        "\n",
        "      df = self.extract_from_api(url=\"https://api.carrismetropolitana.pt/vehicles\", schema=vehicle_schema)\n",
        "\n",
        "      # create date column\n",
        "      # date(from_unixtime(1732305594))\n",
        "      df = df.withColumn(\"date\", expr(\"date(timestamp)\"))\n",
        "\n",
        "      self.load(df=df, format=\"parquet\", path=\"/content/lake/bronze/vehicles\", partition_column=\"date\")\n",
        "\n",
        "    def cleansing_vehicles(self):\n",
        "      df = self.extract_from_file(format=\"parquet\", path=\"/content/lake/bronze/vehicles\")\n",
        "\n",
        "      # transformations\n",
        "      df = df.withColumn(\"new_column\", lit(\"test\"))\n",
        "      df = df.drop_duplicates()\n",
        "\n",
        "      self.load(df=df, format=\"parquet\", path=\"/content/lake/silver/vehicles\")\n",
        "\n",
        "    def enrich(self):\n",
        "        pass\n",
        "\n",
        "\n",
        "if __name__ == '__main__':\n",
        "\n",
        "    # init spark\n",
        "    from pyspark.sql import SparkSession\n",
        "    spark = SparkSession.builder.master('local').appName('ETL Program').getOrCreate()\n",
        "\n",
        "    print(\"Starting ETL program\")\n",
        "    etl = ETLTask(spark)\n",
        "\n",
        "    # run tasks\n",
        "    print(\"Running Task - Ingestion Vehicles\")\n",
        "    etl.ingestion_vehicles()\n",
        "\n",
        "    print(\"Running Task - Ingestion Lines\")\n",
        "    etl.ingestion_lines()\n",
        "\n",
        "    print(\"Running Task - Cleansing Vehicles\")\n",
        "    # etl.cleansing_vehicles()\n",
        "\n",
        "    #etl.enrich()\n",
        "\n",
        "    print(\"ETL program completed\")"
      ],
      "metadata": {
        "id": "nojCMG8M-CmF",
        "outputId": "8128b8b9-3979-468a-98a6-3a9a3852c952",
        "colab": {
          "base_uri": "https://localhost:8080/"
        }
      },
      "execution_count": 4,
      "outputs": [
        {
          "output_type": "stream",
          "name": "stdout",
          "text": [
            "Starting ETL program\n",
            "Running Task - Ingestion Vehicles\n",
            "Running Task - Ingestion Lines\n",
            "Running Task - Cleansing Vehicles\n",
            "ETL program completed\n"
          ]
        }
      ]
    },
    {
      "cell_type": "code",
      "source": [
        "# check results\n",
        "spark.read.parquet(\"/content/lake/bronze/vehicles\").show()\n",
        "spark.read.parquet(\"/content/lake/silver/vehicles\").show()"
      ],
      "metadata": {
        "id": "nCBaB53SAP5U",
        "outputId": "d4419dfc-31ea-44a2-929b-25d5e0d715e6",
        "colab": {
          "base_uri": "https://localhost:8080/"
        }
      },
      "execution_count": null,
      "outputs": [
        {
          "output_type": "stream",
          "name": "stdout",
          "text": [
            "+-------+--------------------+--------------+--------+---------+-------+---------+----------+--------+---------------------+------------+---------+-------+-------------------+--------------------+\n",
            "|bearing|            block_id|current_status|      id|      lat|line_id|      lon|pattern_id|route_id|schedule_relationship|    shift_id|    speed|stop_id|          timestamp|             trip_id|\n",
            "+-------+--------------------+--------------+--------+---------+-------+---------+----------+--------+---------------------+------------+---------+-------+-------------------+--------------------+\n",
            "|    347|20241114-64010153...| IN_TRANSIT_TO|44|12745|38.767624|   4715|-9.100418|  4715_0_1|  4715_0|            SCHEDULED|113280234560|      0.0| 060011|2024-11-14 23:29:38|4715_0_1|1400|233...|\n",
            "|     46|20241114-64010200...| IN_TRANSIT_TO|44|12061| 38.52086|   4438| -8.90124|  4438_1_2|  4438_1|            SCHEDULED|112500234560|      0.0| 160347|2024-11-14 23:29:52|4438_1_2|1400|233...|\n",
            "|    194|20241114-64010574...| IN_TRANSIT_TO|44|12654|38.768215|   4701|-9.100417|  4701_0_1|  4701_0|            SCHEDULED|123520234560|      0.0| 060001|2024-11-14 23:29:39|4701_0_1|1400|233...|\n",
            "|    235|20241114-64010185...| IN_TRANSIT_TO|44|12081|  38.5219|   4440|-8.900418|  4440_0_1|  4440_0|            SCHEDULED|112630234560|6.6666665| 160347|2024-11-14 23:29:46|4440_0_1|1400|230...|\n",
            "|     90|20241114-64010300...| IN_TRANSIT_TO|44|12529| 38.52353|   4453|-8.834748|  4453_0_2|  4453_0|            SCHEDULED|111600234560|      0.0| 160326|2024-11-14 23:29:42|4453_0_2|1400|231...|\n",
            "|    185|           1_1423-11| IN_TRANSIT_TO| 41|1342|38.723045|   1730|-9.266581|  1730_0_2|  1730_0|            SCHEDULED|        1505| 9.166667| 120305|2024-11-14 23:29:50|1730_0_2_2300_232...|\n",
            "|     61|20241114-64010064...| IN_TRANSIT_TO|44|12685|38.653347|   4604|-8.990706|  4604_0_1|  4604_0|            SCHEDULED|121790234560|      0.0| 090060|2024-11-14 23:29:41|4604_0_1|1400|230...|\n",
            "|    179|20241114-64010584...| IN_TRANSIT_TO|44|12655|   38.768|   4705|-9.100391|  4705_0_1|  4705_0|            SCHEDULED|123570234560|      0.0| 060002|2024-11-14 23:29:44|4705_0_1|1400|233...|\n",
            "|     21|20241114-64010053...| IN_TRANSIT_TO|44|12684|38.746914|   4512|-8.967682|  4512_0_2|  4512_0|            SCHEDULED|121900234560| 8.333333| 010082|2024-11-14 23:29:38|4512_0_2|1400|223...|\n",
            "|    265|             1752-11| IN_TRANSIT_TO| 42|2586|38.908382|   2750|-9.168661|  2750_0_1|  2750_0|            SCHEDULED|        1791|13.611111| 071001|2024-11-14 23:29:50|2750_0_1|1|1|2320...|\n",
            "|    309|             1030-11| IN_TRANSIT_TO| 42|2344|38.810085|   2708|-9.117377|  2708_0_1|  2708_0|            SCHEDULED|        1201| 8.888889| 070112|2024-11-14 23:29:39|2708_0_1|1|1|2320...|\n",
            "|    256|UNAVAILABLE_BLOCK_ID| IN_TRANSIT_TO| 42|2553|38.814213|   2812|-9.221473|  2812_1_2|  2812_1|            SCHEDULED|        1661| 9.166667| 110059|2024-11-14 23:29:05|2812_1_2|1|1|2255...|\n",
            "|     81|             1093-11|    STOPPED_AT| 42|2300|   38.871|   2317|-9.086282|  2317_0_1|  2317_0|            SCHEDULED|        1213|      0.0| 180472|2024-11-14 23:29:49|2317_0_1|1|1|2320...|\n",
            "|    132|20241114-64010196...| IN_TRANSIT_TO|44|12055|  38.5208|   4426| -8.87182|  4426_1_1|  4426_1|            SCHEDULED|112540234560| 8.333333| 160016|2024-11-14 23:29:46|4426_1_1|1400|231...|\n",
            "|      7|20241114-64010187...| IN_TRANSIT_TO|44|12615|38.529766|   4403| -8.88599|  4403_0_1|  4403_0|            SCHEDULED|112610234560|      0.0| 160067|2024-11-14 23:29:39|4403_0_1|1400|230...|\n",
            "|    187|20241114-64010061...| IN_TRANSIT_TO|44|12553|38.742256|   4513| -8.96998|  4513_0_1|  4513_0|            SCHEDULED|121820234560|     15.0| 010085|2024-11-14 23:29:49|4513_0_1|1400|232...|\n",
            "|    307|20241114-64010051...| IN_TRANSIT_TO|44|12637|38.604595|   4620| -9.06639|  4620_0_1|  4620_0|            SCHEDULED|121920234560|14.722222| 140008|2024-11-14 23:29:38|4620_0_1|1400|223...|\n",
            "|    156|20241114-64010190...|   INCOMING_AT|44|12585|38.548244|   4562|-8.885263|  4562_0_2|  4562_0|            SCHEDULED|112590234560|19.722221| 160527|2024-11-14 23:29:52|4562_0_2|1400|230...|\n",
            "|    342|20241114-64010150...| IN_TRANSIT_TO|44|12658|38.539772|   4715|-8.888198|  4715_0_2|  4715_0|            SCHEDULED|113330234560|      0.0| 161002|2024-11-14 23:29:41|4715_0_2|1400|233...|\n",
            "|    349|20241114-64010157...|   INCOMING_AT|44|12555| 38.64925|   4621|-8.991966|  4621_0_2|  4621_0|            SCHEDULED|121700230560| 8.888889| 090016|2024-11-14 23:29:49|4621_0_2|1400|222...|\n",
            "+-------+--------------------+--------------+--------+---------+-------+---------+----------+--------+---------------------+------------+---------+-------+-------------------+--------------------+\n",
            "only showing top 20 rows\n",
            "\n",
            "+-------+--------------------+--------------+--------+---------+-------+---------+----------+--------+---------------------+--------------------+---------+-------+-------------------+--------------------+----------+\n",
            "|bearing|            block_id|current_status|      id|      lat|line_id|      lon|pattern_id|route_id|schedule_relationship|            shift_id|    speed|stop_id|          timestamp|             trip_id|new_column|\n",
            "+-------+--------------------+--------------+--------+---------+-------+---------+----------+--------+---------------------+--------------------+---------+-------+-------------------+--------------------+----------+\n",
            "|    349|20241114-64010157...|   INCOMING_AT|44|12555| 38.64925|   4621|-8.991966|  4621_0_2|  4621_0|            SCHEDULED|        121700230560| 8.888889| 090016|2024-11-14 23:29:49|4621_0_2|1400|222...|      test|\n",
            "|    201|           1_1415-11|   INCOMING_AT| 41|1174| 38.72824|   1611|-9.310589|  1611_0_2|  1611_0|            SCHEDULED|                1501|5.2777777| 120994|2024-11-14 23:29:36|1611_0_2_2300_232...|      test|\n",
            "|      0|       ESC_DU_EU2058|    STOPPED_AT| 43|2315| 38.66997|   3708|-9.232446|  3708_0_1|  3708_0|            SCHEDULED|              EU2207|      0.0| 020551|2024-11-14 23:29:41|3708_0_1_2300_232...|      test|\n",
            "|      0|             1508-11|    STOPPED_AT| 42|2527| 38.77694|   2610|-9.218049|  2610_0_2|  2610_0|            SCHEDULED|           1641'_001|      0.0| 030273|2024-11-14 23:29:10|2610_0_2|1|1|2330...|      test|\n",
            "|    268|           1_1320-11| IN_TRANSIT_TO| 41|1402| 38.73601|   1608|-9.300311|  1608_0_2|  1608_0|            SCHEDULED|                1363|6.9444447| 121104|2024-11-14 23:29:32|1608_0_2_2330_235...|      test|\n",
            "|    155|             1515-11| IN_TRANSIT_TO| 42|2205| 38.80849|   2523|-9.203587|  2523_0_2|  2523_0|            SCHEDULED|                1642|      0.0| 110210|2024-11-14 23:29:40|2523_0_2|1|1|2325...|      test|\n",
            "|      0|             91_1927|   INCOMING_AT| 41|1330|38.688328|   1998|-9.316907|  1998_1_1|  1998_1|            SCHEDULED|                1927|      0.0| 126234|2024-11-14 23:28:55|1998_1_1_2300_232...|      test|\n",
            "|    174|20241114-64010152...| IN_TRANSIT_TO|44|13699|38.629128|   4710| -8.91773|  4710_0_1|  4710_0|            SCHEDULED|        113310234560|13.888889| 130453|2024-11-14 23:29:42|4710_0_1|1400|230...|      test|\n",
            "|     63|           1_1465-11|    STOPPED_AT| 41|1370| 38.71674|   1728|-9.238191|  1728_1_1|  1728_1|            SCHEDULED|                1506|0.2777778| 120173|2024-11-14 23:29:47|1728_1_1_2300_232...|      test|\n",
            "|    359|UNAVAILABLE_BLOCK_ID|    STOPPED_AT| 41|1302|38.687836|   1998|-9.331197|  1998_1_2|  1998_1|           DUPLICATED|UNAVAILABLE_SHIFT_ID|15.277778| 050050|2024-11-14 23:29:35|1998_1_2_2024-11-...|      test|\n",
            "|      0|       ESC_DU_EU1021|    STOPPED_AT|  43|755|38.610184|   3113|-9.101251|  3113_0_2|  3113_0|            SCHEDULED|              EU1151|      0.0| 140041|2024-11-14 23:29:13|3113_0_2_2300_232...|      test|\n",
            "|    251|             1537-11| IN_TRANSIT_TO| 42|2209|38.792507|   2523|-9.173344|  2523_0_1|  2523_0|            SCHEDULED|                1639|2.7777777| 110093|2024-11-14 23:29:33|2523_0_1|1|1|2330...|      test|\n",
            "|    296|           1_1313-11|   INCOMING_AT| 41|1419| 38.78307|   1209|-9.304311|  1209_1_1|  1209_1|            SCHEDULED|                1359|     10.0| 170477|2024-11-14 23:29:47|1209_1_1_2300_232...|      test|\n",
            "|    325|20241114-64010010...| IN_TRANSIT_TO|44|12694|38.704777|   4707|-8.976087|  4707_0_1|  4707_0|            SCHEDULED|        123480234560|6.6666665| 100013|2024-11-14 23:29:44|4707_0_1|1400|230...|      test|\n",
            "|     67|20241114-64010002...| IN_TRANSIT_TO|44|13599|38.684467|   4701|-8.951393|  4701_0_2|  4701_0|            SCHEDULED|        123460234560|18.333334| 060005|2024-11-14 23:29:48|4701_0_2|1400|230...|      test|\n",
            "|    157|           1_1072-11| IN_TRANSIT_TO|  41|723|38.740185|   1712|-9.268914|  1712_0_1|  1712_0|            SCHEDULED|                1027|      0.0| 030821|2024-11-14 23:29:28|1712_0_1_1900_192...|      test|\n",
            "|    162|           1_1306-11|   INCOMING_AT| 41|1210|38.692482|   1608|-9.324356|  1608_0_1|  1608_0|            SCHEDULED|                1361|10.277778| 121239|2024-11-14 23:29:37|1608_0_1_2300_232...|      test|\n",
            "|     81|             1093-11|    STOPPED_AT| 42|2300|   38.871|   2317|-9.086282|  2317_0_1|  2317_0|            SCHEDULED|                1213|      0.0| 180472|2024-11-14 23:29:49|2317_0_1|1|1|2320...|      test|\n",
            "|    107|           1_1309-11|   INCOMING_AT| 41|1217|38.768333|   1613|-9.313662|  1613_0_2|  1613_0|            SCHEDULED|                1357|7.7777777| 170675|2024-11-14 23:29:49|1613_0_2_2230_225...|      test|\n",
            "|      0|             91_1929|   INCOMING_AT| 41|1245| 38.68841|   1998|-9.317203|  1998_0_1|  1998_0|            SCHEDULED|                1929|      0.0| 126234|2024-11-14 23:28:51|1998_0_1_2300_232...|      test|\n",
            "+-------+--------------------+--------------+--------+---------+-------+---------+----------+--------+---------------------+--------------------+---------+-------+-------------------+--------------------+----------+\n",
            "only showing top 20 rows\n",
            "\n"
          ]
        }
      ]
    },
    {
      "cell_type": "code",
      "source": [],
      "metadata": {
        "id": "jUqfHj_2AT0f"
      },
      "execution_count": null,
      "outputs": []
    }
  ],
  "metadata": {
    "language_info": {
      "name": "python"
    },
    "colab": {
      "provenance": []
    },
    "kernelspec": {
      "name": "python3",
      "display_name": "Python 3"
    }
  },
  "nbformat": 4,
  "nbformat_minor": 0
}
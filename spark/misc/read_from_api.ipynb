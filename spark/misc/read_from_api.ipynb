{
  "cells": [
    {
      "cell_type": "markdown",
      "metadata": {
        "id": "view-in-github",
        "colab_type": "text"
      },
      "source": [
        "<a href=\"https://colab.research.google.com/github/lucprosa/dataeng-basic-course/blob/main/spark/misc/read_from_api.ipynb\" target=\"_parent\"><img src=\"https://colab.research.google.com/assets/colab-badge.svg\" alt=\"Open In Colab\"/></a>"
      ]
    },
    {
      "cell_type": "markdown",
      "metadata": {
        "id": "BOA_wQSmLd9z"
      },
      "source": [
        "# Read from API\n",
        "- Read data from API using requests and RDDs"
      ]
    },
    {
      "cell_type": "markdown",
      "metadata": {
        "id": "d9LeYFsPTjAb"
      },
      "source": [
        "# Setting up PySpark"
      ]
    },
    {
      "cell_type": "code",
      "execution_count": null,
      "metadata": {
        "colab": {
          "base_uri": "https://localhost:8080/"
        },
        "id": "uYXeODL0T1fO",
        "outputId": "d34dd2c6-94a9-41fa-9ce3-69b230f6ca7b"
      },
      "outputs": [
        {
          "output_type": "stream",
          "name": "stdout",
          "text": [
            "Requirement already satisfied: pyspark in /usr/local/lib/python3.10/dist-packages (3.5.3)\n",
            "Requirement already satisfied: py4j==0.10.9.7 in /usr/local/lib/python3.10/dist-packages (from pyspark) (0.10.9.7)\n"
          ]
        }
      ],
      "source": [
        "%pip install pyspark"
      ]
    },
    {
      "cell_type": "code",
      "execution_count": 1,
      "metadata": {
        "id": "637HFw00T3LP"
      },
      "outputs": [],
      "source": [
        "from pyspark.sql import SparkSession\n",
        "spark = SparkSession.builder.master('local').appName('Spark Course').config('spark.ui.port', '4050').getOrCreate()\n",
        "sc = spark.sparkContext"
      ]
    },
    {
      "cell_type": "markdown",
      "metadata": {
        "id": "FM8YQx6XGeiL"
      },
      "source": [
        "# Get data from API - Vehicles"
      ]
    },
    {
      "cell_type": "code",
      "execution_count": 2,
      "metadata": {
        "id": "0wntlQDWGeiL"
      },
      "outputs": [],
      "source": [
        "import requests\n",
        "from pyspark.sql.types import *\n",
        "\n",
        "def readFromAPI(url: str, schema: StructType = None):\n",
        "  response = requests.get(url)\n",
        "  rdd = sc.parallelize(response.json())\n",
        "\n",
        "  if schema:\n",
        "    df = spark.read.schema(schema).json(rdd)\n",
        "  else:\n",
        "    df = spark.read.json(rdd)\n",
        "  return df"
      ]
    },
    {
      "cell_type": "code",
      "source": [
        "readFromAPI(\"https://api.carrismetropolitana.pt/municipalities\").show()"
      ],
      "metadata": {
        "id": "F__plK66cZR7",
        "outputId": "3b296d4f-2272-4b69-e432-548cfadfa925",
        "colab": {
          "base_uri": "https://localhost:8080/"
        }
      },
      "execution_count": 3,
      "outputs": [
        {
          "output_type": "stream",
          "name": "stdout",
          "text": [
            "+-----------+-------------+----+--------------------+------+---------+----------------+\n",
            "|district_id|district_name|  id|                name|prefix|region_id|     region_name|\n",
            "+-----------+-------------+----+--------------------+------+---------+----------------+\n",
            "|         07|        Évora|0712|        Vendas Novas|    19|    PT187|Alentejo Central|\n",
            "|         11|       Lisboa|1101|            Alenquer|    20|    PT16B|           Oeste|\n",
            "|         11|       Lisboa|1102|   Arruda dos Vinhos|    20|    PT16B|           Oeste|\n",
            "|         11|       Lisboa|1105|             Cascais|    05|    PT170|             AML|\n",
            "|         11|       Lisboa|1106|              Lisboa|    06|    PT170|             AML|\n",
            "|         11|       Lisboa|1107|              Loures|    07|    PT170|             AML|\n",
            "|         11|       Lisboa|1109|               Mafra|    08|    PT170|             AML|\n",
            "|         11|       Lisboa|1110|              Oeiras|    12|    PT170|             AML|\n",
            "|         11|       Lisboa|1111|              Sintra|    17|    PT170|             AML|\n",
            "|         11|       Lisboa|1112|Sobral de Monte A...|    20|    PT16B|           Oeste|\n",
            "|         11|       Lisboa|1113|       Torres Vedras|    20|    PT16B|           Oeste|\n",
            "|         11|       Lisboa|1114| Vila Franca de Xira|    18|    PT170|             AML|\n",
            "|         11|       Lisboa|1115|             Amadora|    03|    PT170|             AML|\n",
            "|         11|       Lisboa|1116|            Odivelas|    11|    PT170|             AML|\n",
            "|         15|      Setúbal|1502|           Alcochete|    01|    PT170|             AML|\n",
            "|         15|      Setúbal|1503|              Almada|    02|    PT170|             AML|\n",
            "|         15|      Setúbal|1504|            Barreiro|    04|    PT170|             AML|\n",
            "|         15|      Setúbal|1506|               Moita|    09|    PT170|             AML|\n",
            "|         15|      Setúbal|1507|             Montijo|    10|    PT170|             AML|\n",
            "|         15|      Setúbal|1508|             Palmela|    13|    PT170|             AML|\n",
            "+-----------+-------------+----+--------------------+------+---------+----------------+\n",
            "only showing top 20 rows\n",
            "\n"
          ]
        }
      ]
    },
    {
      "cell_type": "markdown",
      "source": [
        "# Vehicles"
      ],
      "metadata": {
        "id": "D7iupARGb51N"
      }
    },
    {
      "cell_type": "code",
      "execution_count": 4,
      "metadata": {
        "colab": {
          "base_uri": "https://localhost:8080/"
        },
        "id": "VUI0pjsuJh5z",
        "outputId": "4789e783-1e1b-4341-9745-c02b1d654601"
      },
      "outputs": [
        {
          "output_type": "stream",
          "name": "stdout",
          "text": [
            "709\n",
            "+-------+--------------------+--------------+--------+---------+-------+---------+----------+--------+---------------------+------------+---------+-------+-------------------+--------------------+\n",
            "|bearing|            block_id|current_status|      id|      lat|line_id|      lon|pattern_id|route_id|schedule_relationship|    shift_id|    speed|stop_id|          timestamp|             trip_id|\n",
            "+-------+--------------------+--------------+--------+---------+-------+---------+----------+--------+---------------------+------------+---------+-------+-------------------+--------------------+\n",
            "|    127|         14_14213-71|   INCOMING_AT| 41|1127| 38.77032|   1211|-9.289865|  1211_0_2|  1211_0|            SCHEDULED|       14218|2.2222223| 170563|2025-06-13 14:17:17|1211_0_2_1500_152...|\n",
            "|    108|20250613-64010192...| IN_TRANSIT_TO|44|12093|38.522484|   4410|-8.851563|  4410_0_2|  4410_0|            SCHEDULED|112590234560|      0.0| 160050|2025-06-13 14:17:21|4410_0_2|1300|144...|\n",
            "|     42|20250613-64010199...| IN_TRANSIT_TO|44|12733|  38.5219|   4405|  -8.8873|  4405_0_3|  4405_0|            SCHEDULED|112620234560|      0.0| 161003|2025-06-13 14:17:10|4405_0_3|1300|150...|\n",
            "|     29|20250613-64010281...|   INCOMING_AT|44|12635|38.621128|   4320| -8.91543|  4320_0_3|  4320_0|            SCHEDULED|111420234560|1.9444444| 130365|2025-06-13 14:17:19|4320_0_3|1300|150...|\n",
            "|    225|20250613-64010294...| IN_TRANSIT_TO|44|12562|38.529835|   4562|-8.991722|  4562_0_1|  4562_0|            SCHEDULED|111290234560|      0.0| 160601|2025-06-13 14:17:20|4562_0_1|1300|141...|\n",
            "|      0|20250613-64010241...| IN_TRANSIT_TO|44|12055| 38.52666|   4426|-8.898517|  4426_0_2|  4426_0|            SCHEDULED|112110234560|3.0555556| 160256|2025-06-13 14:17:12|4426_0_2|1300|144...|\n",
            "|     66|        1090-11'_001| IN_TRANSIT_TO| 42|2343|38.860687|   2532|-9.123228|  2532_0_2|  2532_0|            SCHEDULED|        1090| 8.611111| 070851|2025-06-13 14:17:20|2532_0_2|1|1|1500...|\n",
            "|     99|20250613-64010332...| IN_TRANSIT_TO|44|12640|38.524193|   4464| -8.99971|  4464_0_3|  4464_0|            SCHEDULED|111100234560| 8.333333| 160747|2025-06-13 14:17:08|4464_0_3|1300|151...|\n",
            "|     56|20250613-64010226...| IN_TRANSIT_TO|44|12058| 38.52986|   4441| -8.87512|  4441_0_1|  4441_0|            SCHEDULED|112250234560|7.7777777| 160026|2025-06-13 14:17:22|4441_0_1|1300|150...|\n",
            "|    354|20250613-64010389...|   INCOMING_AT|44|12636|38.642715|   4107|-9.004441|  4107_0_3|  4107_0|            SCHEDULED|121450234560|     10.0| 090050|2025-06-13 14:17:17|4107_0_3|1300|150...|\n",
            "|    330|        1609-11'_001|    STOPPED_AT| 42|2555|38.797882|   2220|-9.162321|  2220_0_3|  2220_0|            SCHEDULED|        1581|      0.0| 110557|2025-06-13 14:17:02|2220_0_3|1|1|1510...|\n",
            "|    266|         14_14229-71| IN_TRANSIT_TO| 41|1323|38.770603|   1211|-9.287375|  1211_0_1|  1211_0|            SCHEDULED|       14206|6.9444447| 170559|2025-06-13 14:17:21|1211_0_1_1500_152...|\n",
            "|      0|         14_14445-71|    STOPPED_AT| 41|1710| 38.71999|   1109|-9.227525|  1109_0_3|  1109_0|            SCHEDULED|       14419|      0.0| 120113|2025-06-13 14:17:13|1109_0_3_1430_145...|\n",
            "|      0|             1512-11|    STOPPED_AT| 42|2530|38.824203|   2605|-9.171594|  2605_0_1|  2605_0|            SCHEDULED|        1604|      0.0| 070472|2025-06-13 14:17:08|2605_0_1|1|1|1420...|\n",
            "|    189|             1104-11| IN_TRANSIT_TO| 42|2309|38.842842|   2722|-9.091398|  2722_0_2|  2722_0|            SCHEDULED|        1104| 8.333333| 071243|2025-06-13 14:17:05|2722_0_2|1|1|1510...|\n",
            "|      0|       ESC_DU_EU3024|    STOPPED_AT| 43|2606|38.585663|   3106| -9.05214|  3106_0_1|  3106_0|            SCHEDULED|      EU3025|      0.0| 140027|2025-06-13 14:16:25|3106_0_1_1500_152...|\n",
            "|      0|         14_14837-71|    STOPPED_AT| 41|1885|38.802105|   1251|-9.376647|  1251_0_1|  1251_0|            SCHEDULED|       14837|      0.0| 170821|2025-06-13 14:17:05|1251_0_1_1500_152...|\n",
            "|    112|         14_14601-71| IN_TRANSIT_TO| 41|1371| 38.75691|   1717| -9.22236|  1717_0_2|  1717_0|            SCHEDULED|       14674|3.6111112| 030609|2025-06-13 14:17:02|1717_0_2_1430_145...|\n",
            "|    275|         14_14642-71| IN_TRANSIT_TO| 41|1382|38.758087|   1721|-9.225215|  1721_0_1|  1721_0|            SCHEDULED|       14625|      0.0| 030606|2025-06-13 14:17:01|1721_0_1_1500_152...|\n",
            "|      0|       ESC_DU_EU1057|    STOPPED_AT| 43|2207| 38.61678|   3508|-9.110917|  3508_0_2|  3508_0|            SCHEDULED|      EU1058|      0.0| 140129|2025-06-13 14:17:13|3508_0_2_1430_145...|\n",
            "+-------+--------------------+--------------+--------+---------+-------+---------+----------+--------+---------------------+------------+---------+-------+-------------------+--------------------+\n",
            "only showing top 20 rows\n",
            "\n"
          ]
        }
      ],
      "source": [
        "vehicle_schema = StructType([StructField('bearing', IntegerType(), True),\n",
        "                             StructField('block_id', StringType(), True),\n",
        "                             StructField('current_status', StringType(), True),\n",
        "                             StructField('id', StringType(), True),\n",
        "                             StructField('lat', FloatType(), True),\n",
        "                             StructField('line_id', StringType(), True),\n",
        "                             StructField('lon', FloatType(), True),\n",
        "                             StructField('pattern_id', StringType(), True),\n",
        "                             StructField('route_id', StringType(), True),\n",
        "                             StructField('schedule_relationship', StringType(), True),\n",
        "                             StructField('shift_id', StringType(), True),\n",
        "                             StructField('speed', FloatType(), True),\n",
        "                             StructField('stop_id', StringType(), True),\n",
        "                             StructField('timestamp', TimestampType(), True),\n",
        "                             StructField('trip_id', StringType(), True)])\n",
        "\n",
        "vehicles = readFromAPI(\"https://api.carrismetropolitana.pt/vehicles\", vehicle_schema)\n",
        "print(vehicles.count())\n",
        "vehicles.show()"
      ]
    },
    {
      "cell_type": "markdown",
      "source": [
        "# Routes"
      ],
      "metadata": {
        "id": "wY3qFrIsd59o"
      }
    },
    {
      "cell_type": "code",
      "source": [
        "from pyspark.sql.functions import *\n",
        "routes = readFromAPI(\"https://api.carrismetropolitana.pt/routes\")\n",
        "print(routes.count())\n",
        "routes.filter(array_contains(col(\"localities\"), \"Colégio Militar\") & array_contains(col(\"localities\"), \"Brandoa\")).show(100, False)"
      ],
      "metadata": {
        "colab": {
          "base_uri": "https://localhost:8080/"
        },
        "id": "61ctySGTcWKQ",
        "outputId": "77fd7ee0-088e-4a6d-e52d-6e81cba2020a"
      },
      "execution_count": 5,
      "outputs": [
        {
          "output_type": "stream",
          "name": "stdout",
          "text": [
            "933\n",
            "+---------------+-------+----------+------+-------+-----------------------------------------------------------------------------------------+------------------------------------------------------------------+--------------+--------------------+----------+----------+\n",
            "|_corrupt_record|color  |facilities|id    |line_id|localities                                                                               |long_name                                                         |municipalities|patterns            |short_name|text_color|\n",
            "+---------------+-------+----------+------+-------+-----------------------------------------------------------------------------------------+------------------------------------------------------------------+--------------+--------------------+----------+----------+\n",
            "|NULL           |#C61D23|[]        |1706_0|1706   |[Casal da Mira, Amadora, Brandoa, Alfornelos, Lisboa, Benfica, Colégio Militar]          |Colégio Militar (Metro) - UBBO via Brandoa                        |[1115, 1106]  |[1706_0_2, 1706_0_1]|1706      |#FFFFFF   |\n",
            "|NULL           |#C61D23|[]        |1706_2|1706   |[Brandoa, Amadora, Alfornelos, Lisboa, Benfica, Colégio Militar]                         |Colégio Militar (Metro) - Brandoa (Alto)                          |[1115, 1106]  |[1706_2_2, 1706_2_1]|1706      |#FFFFFF   |\n",
            "|NULL           |#C61D23|[]        |1708_0|1708   |[Casal da Mira, Amadora, Brandoa, Alfornelos, Lisboa, Benfica, Colégio Militar, Pontinha]|Casal Mira (Centro Comercial) | Circular                          |[1115, 1106]  |[1708_0_3]          |1708      |#FFFFFF   |\n",
            "|NULL           |#C61D23|[]        |1708_1|1708   |[Brandoa, Amadora, Alfornelos, Lisboa, Benfica, Colégio Militar, Pontinha]               |Brandoa (Alto) – Circular                                         |[1115, 1106]  |[1708_1_3]          |1708      |#FFFFFF   |\n",
            "|NULL           |#C61D23|[]        |1708_2|1708   |[Casal da Mira, Amadora, Brandoa, Alfornelos, Lisboa, Benfica, Colégio Militar, Pontinha]|Casal Mira (Centro Comercial) – Brandoa (Alto) via Colégio Militar|[1115, 1106]  |[1708_2_1]          |1708      |#FFFFFF   |\n",
            "+---------------+-------+----------+------+-------+-----------------------------------------------------------------------------------------+------------------------------------------------------------------+--------------+--------------------+----------+----------+\n",
            "\n"
          ]
        }
      ]
    },
    {
      "cell_type": "code",
      "source": [],
      "metadata": {
        "id": "bq35jBZjre3z"
      },
      "execution_count": null,
      "outputs": []
    },
    {
      "cell_type": "markdown",
      "source": [
        "# Questions"
      ],
      "metadata": {
        "id": "fD94isDGeYOD"
      }
    },
    {
      "cell_type": "markdown",
      "source": [
        "# Q1\n",
        "- adjust ROUTE dataframe\n",
        "  - use correct schema to get the data (StructField)\n",
        "  - make sure _corrupt_record is removed from schema\n",
        "- find the routes that pass through the localities \"Brandoa\" and \"Colégio Militar\""
      ],
      "metadata": {
        "id": "c3KKfwbQebwt"
      }
    },
    {
      "cell_type": "markdown",
      "metadata": {
        "id": "4oONLIeBS8JQ"
      },
      "source": [
        "### API - https://github.com/carrismetropolitana/api"
      ]
    }
  ],
  "metadata": {
    "colab": {
      "provenance": [],
      "include_colab_link": true
    },
    "kernelspec": {
      "display_name": "Python 3",
      "name": "python3"
    },
    "language_info": {
      "name": "python"
    }
  },
  "nbformat": 4,
  "nbformat_minor": 0
}
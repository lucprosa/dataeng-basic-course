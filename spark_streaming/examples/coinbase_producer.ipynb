{
  "cells": [
    {
      "cell_type": "markdown",
      "metadata": {
        "id": "view-in-github",
        "colab_type": "text"
      },
      "source": [
        "<a href=\"https://colab.research.google.com/github/lucprosa/dataeng-basic-course/blob/main/spark_streaming/examples/coinbase_producer.ipynb\" target=\"_parent\"><img src=\"https://colab.research.google.com/assets/colab-badge.svg\" alt=\"Open In Colab\"/></a>"
      ]
    },
    {
      "cell_type": "markdown",
      "metadata": {
        "id": "elb5o95556r8"
      },
      "source": [
        "<a href=\"https://colab.research.google.com/github/lucprosa/dataeng-basic-course/blob/main/spark_streaming/dataproc/producer_collab.ipynb\" target=\"_parent\"><img src=\"https://colab.research.google.com/assets/colab-badge.svg\" alt=\"Open In Colab\"/></a>"
      ]
    },
    {
      "cell_type": "markdown",
      "metadata": {
        "id": "2IZVtSO5sqa8"
      },
      "source": [
        "\n",
        "\n",
        "```\n",
        "# Isto está formatado como código\n",
        "```\n",
        "\n",
        "## Producer Coinbase\n",
        "\n",
        "- To be executed in Google Colab\n",
        "- Connect to GCLOUD\n",
        "- Fetch data from Coinbase via WebSocket\n",
        "- Copy data to GC bucket"
      ]
    },
    {
      "cell_type": "code",
      "execution_count": 1,
      "metadata": {
        "colab": {
          "base_uri": "https://localhost:8080/"
        },
        "id": "Z8fK3AR9Nier",
        "outputId": "9268d7f2-28db-472a-97e6-86b9c95e1532"
      },
      "outputs": [
        {
          "output_type": "stream",
          "name": "stdout",
          "text": [
            "Updated property [core/project].\n"
          ]
        }
      ],
      "source": [
        "from google.colab import auth\n",
        "auth.authenticate_user()\n",
        "\n",
        "project_id = 'data-eng-dev-437916'\n",
        "!gcloud config set project {project_id}"
      ]
    },
    {
      "cell_type": "code",
      "source": [
        "!pip install websocket-client"
      ],
      "metadata": {
        "id": "_xN3HiDzqVMb"
      },
      "execution_count": null,
      "outputs": []
    },
    {
      "cell_type": "code",
      "source": [
        "!rm -r /content/btc_stream\n",
        "!mkdir -p /content/btc_stream/landing"
      ],
      "metadata": {
        "id": "hMFKYUttu6eP"
      },
      "execution_count": null,
      "outputs": []
    },
    {
      "cell_type": "code",
      "source": [
        "import websocket\n",
        "import json\n",
        "import os\n",
        "import time\n",
        "from datetime import datetime\n",
        "\n",
        "OUTPUT_DIR = \"/content/btc_stream/landing\"\n",
        "os.makedirs(OUTPUT_DIR, exist_ok=True)\n",
        "\n",
        "def on_message(ws, message):\n",
        "    data = json.loads(message)\n",
        "    if data.get(\"type\") == \"ticker\":\n",
        "        timestamp = datetime.utcnow().strftime(\"%Y%m%d%H%M%S%f\")\n",
        "        filename = f\"{OUTPUT_DIR}/btc_{timestamp}.json\"\n",
        "        with open(filename, \"w\") as f:\n",
        "            json.dump(data, f)\n",
        "        time.sleep(5)\n",
        "        landing_path=f\"gs://edit-data-eng-dev/datalake/landing/btc/btc_{timestamp}.json\"\n",
        "        !gsutil cp {filename} {landing_path}\n",
        "\n",
        "def on_open(ws):\n",
        "    subscribe_message = {\n",
        "        \"type\": \"subscribe\",\n",
        "        \"channels\": [{\"name\": \"ticker\", \"product_ids\": [\"BTC-USD\", \"ETH-USD\", \"DOGE-USD\"]}]\n",
        "    }\n",
        "    ws.send(json.dumps(subscribe_message))\n",
        "\n",
        "ws = websocket.WebSocketApp(\n",
        "    \"wss://ws-feed.exchange.coinbase.com\",\n",
        "    on_open=on_open,\n",
        "    on_message=on_message\n",
        ")\n",
        "\n",
        "ws.run_forever()"
      ],
      "metadata": {
        "id": "54NgSI65sDGG"
      },
      "execution_count": null,
      "outputs": []
    },
    {
      "cell_type": "code",
      "source": [
        "from pyspark.sql import SparkSession\n",
        "#spark = SparkSession.builder.master(\"local[*]\").getOrCreate()\n",
        "spark.read.json(\"/content/btc_stream/landing/*\").show(1000, False)"
      ],
      "metadata": {
        "id": "lO6x0mHWsNIr"
      },
      "execution_count": null,
      "outputs": []
    },
    {
      "cell_type": "code",
      "source": [
        "!apt-get install openjdk-11-jdk -y\n",
        "!pip install pyspark gcsfs"
      ],
      "metadata": {
        "id": "6cT6z5lr2pXP",
        "outputId": "e3ce90f7-6e19-470e-9333-25979e5c531b",
        "colab": {
          "base_uri": "https://localhost:8080/"
        }
      },
      "execution_count": 2,
      "outputs": [
        {
          "output_type": "stream",
          "name": "stdout",
          "text": [
            "Reading package lists... Done\n",
            "Building dependency tree... Done\n",
            "Reading state information... Done\n",
            "openjdk-11-jdk is already the newest version (11.0.27+6~us1-0ubuntu1~22.04).\n",
            "0 upgraded, 0 newly installed, 0 to remove and 35 not upgraded.\n",
            "Requirement already satisfied: pyspark in /usr/local/lib/python3.11/dist-packages (3.5.1)\n",
            "Requirement already satisfied: gcsfs in /usr/local/lib/python3.11/dist-packages (2025.3.2)\n",
            "Requirement already satisfied: py4j==0.10.9.7 in /usr/local/lib/python3.11/dist-packages (from pyspark) (0.10.9.7)\n",
            "Requirement already satisfied: aiohttp!=4.0.0a0,!=4.0.0a1 in /usr/local/lib/python3.11/dist-packages (from gcsfs) (3.11.15)\n",
            "Requirement already satisfied: decorator>4.1.2 in /usr/local/lib/python3.11/dist-packages (from gcsfs) (4.4.2)\n",
            "Requirement already satisfied: fsspec==2025.3.2 in /usr/local/lib/python3.11/dist-packages (from gcsfs) (2025.3.2)\n",
            "Requirement already satisfied: google-auth>=1.2 in /usr/local/lib/python3.11/dist-packages (from gcsfs) (2.38.0)\n",
            "Requirement already satisfied: google-auth-oauthlib in /usr/local/lib/python3.11/dist-packages (from gcsfs) (1.2.2)\n",
            "Requirement already satisfied: google-cloud-storage in /usr/local/lib/python3.11/dist-packages (from gcsfs) (2.19.0)\n",
            "Requirement already satisfied: requests in /usr/local/lib/python3.11/dist-packages (from gcsfs) (2.32.3)\n",
            "Requirement already satisfied: aiohappyeyeballs>=2.3.0 in /usr/local/lib/python3.11/dist-packages (from aiohttp!=4.0.0a0,!=4.0.0a1->gcsfs) (2.6.1)\n",
            "Requirement already satisfied: aiosignal>=1.1.2 in /usr/local/lib/python3.11/dist-packages (from aiohttp!=4.0.0a0,!=4.0.0a1->gcsfs) (1.3.2)\n",
            "Requirement already satisfied: attrs>=17.3.0 in /usr/local/lib/python3.11/dist-packages (from aiohttp!=4.0.0a0,!=4.0.0a1->gcsfs) (25.3.0)\n",
            "Requirement already satisfied: frozenlist>=1.1.1 in /usr/local/lib/python3.11/dist-packages (from aiohttp!=4.0.0a0,!=4.0.0a1->gcsfs) (1.7.0)\n",
            "Requirement already satisfied: multidict<7.0,>=4.5 in /usr/local/lib/python3.11/dist-packages (from aiohttp!=4.0.0a0,!=4.0.0a1->gcsfs) (6.6.3)\n",
            "Requirement already satisfied: propcache>=0.2.0 in /usr/local/lib/python3.11/dist-packages (from aiohttp!=4.0.0a0,!=4.0.0a1->gcsfs) (0.3.2)\n",
            "Requirement already satisfied: yarl<2.0,>=1.17.0 in /usr/local/lib/python3.11/dist-packages (from aiohttp!=4.0.0a0,!=4.0.0a1->gcsfs) (1.20.1)\n",
            "Requirement already satisfied: cachetools<6.0,>=2.0.0 in /usr/local/lib/python3.11/dist-packages (from google-auth>=1.2->gcsfs) (5.5.2)\n",
            "Requirement already satisfied: pyasn1-modules>=0.2.1 in /usr/local/lib/python3.11/dist-packages (from google-auth>=1.2->gcsfs) (0.4.2)\n",
            "Requirement already satisfied: rsa<5,>=3.1.4 in /usr/local/lib/python3.11/dist-packages (from google-auth>=1.2->gcsfs) (4.9.1)\n",
            "Requirement already satisfied: requests-oauthlib>=0.7.0 in /usr/local/lib/python3.11/dist-packages (from google-auth-oauthlib->gcsfs) (2.0.0)\n",
            "Requirement already satisfied: google-api-core<3.0.0dev,>=2.15.0 in /usr/local/lib/python3.11/dist-packages (from google-cloud-storage->gcsfs) (2.25.1)\n",
            "Requirement already satisfied: google-cloud-core<3.0dev,>=2.3.0 in /usr/local/lib/python3.11/dist-packages (from google-cloud-storage->gcsfs) (2.4.3)\n",
            "Requirement already satisfied: google-resumable-media>=2.7.2 in /usr/local/lib/python3.11/dist-packages (from google-cloud-storage->gcsfs) (2.7.2)\n",
            "Requirement already satisfied: google-crc32c<2.0dev,>=1.0 in /usr/local/lib/python3.11/dist-packages (from google-cloud-storage->gcsfs) (1.7.1)\n",
            "Requirement already satisfied: charset-normalizer<4,>=2 in /usr/local/lib/python3.11/dist-packages (from requests->gcsfs) (3.4.2)\n",
            "Requirement already satisfied: idna<4,>=2.5 in /usr/local/lib/python3.11/dist-packages (from requests->gcsfs) (3.10)\n",
            "Requirement already satisfied: urllib3<3,>=1.21.1 in /usr/local/lib/python3.11/dist-packages (from requests->gcsfs) (2.4.0)\n",
            "Requirement already satisfied: certifi>=2017.4.17 in /usr/local/lib/python3.11/dist-packages (from requests->gcsfs) (2025.6.15)\n",
            "Requirement already satisfied: googleapis-common-protos<2.0.0,>=1.56.2 in /usr/local/lib/python3.11/dist-packages (from google-api-core<3.0.0dev,>=2.15.0->google-cloud-storage->gcsfs) (1.70.0)\n",
            "Requirement already satisfied: protobuf!=3.20.0,!=3.20.1,!=4.21.0,!=4.21.1,!=4.21.2,!=4.21.3,!=4.21.4,!=4.21.5,<7.0.0,>=3.19.5 in /usr/local/lib/python3.11/dist-packages (from google-api-core<3.0.0dev,>=2.15.0->google-cloud-storage->gcsfs) (5.29.5)\n",
            "Requirement already satisfied: proto-plus<2.0.0,>=1.22.3 in /usr/local/lib/python3.11/dist-packages (from google-api-core<3.0.0dev,>=2.15.0->google-cloud-storage->gcsfs) (1.26.1)\n",
            "Requirement already satisfied: pyasn1<0.7.0,>=0.6.1 in /usr/local/lib/python3.11/dist-packages (from pyasn1-modules>=0.2.1->google-auth>=1.2->gcsfs) (0.6.1)\n",
            "Requirement already satisfied: oauthlib>=3.0.0 in /usr/local/lib/python3.11/dist-packages (from requests-oauthlib>=0.7.0->google-auth-oauthlib->gcsfs) (3.3.1)\n"
          ]
        }
      ]
    },
    {
      "cell_type": "code",
      "source": [
        "from pyspark.sql import SparkSession\n",
        "\n",
        "GCS_JAR = \"https://repo1.maven.org/maven2/com/google/cloud/bigdataoss/gcs-connector/hadoop3-2.2.9/gcs-connector-hadoop3-2.2.9-shaded.jar\"\n",
        "\n",
        "spark = SparkSession.builder \\\n",
        "    .appName(\"GCSStreamingDemo\") \\\n",
        "    .config(\"spark.jars\", GCS_JAR) \\\n",
        "    .config(\"spark.hadoop.fs.gs.impl\", \"com.google.cloud.hadoop.fs.gcs.GoogleHadoopFileSystem\") \\\n",
        "    .config(\"spark.hadoop.fs.AbstractFileSystem.gs.impl\", \"com.google.cloud.hadoop.fs.gcs.GoogleHadoopFS\") \\\n",
        "    .getOrCreate()"
      ],
      "metadata": {
        "id": "a1ZMmma311bT"
      },
      "execution_count": 4,
      "outputs": []
    },
    {
      "cell_type": "code",
      "source": [
        "df = spark.read.json(\"gs://edit-data-eng-dev/datalake/landing/btc\")\n",
        "df.show()"
      ],
      "metadata": {
        "id": "LK64fltIwhAG",
        "outputId": "c0f2bd16-01a1-450b-f2c4-582fb94916f5",
        "colab": {
          "base_uri": "https://localhost:8080/"
        }
      },
      "execution_count": 5,
      "outputs": [
        {
          "output_type": "stream",
          "name": "stdout",
          "text": [
            "+---------+-------------+---------+-------------+--------+----------+--------+---------+---------+----------+------------+----+--------------------+---------+------+--------------+----------------+\n",
            "| best_ask|best_ask_size| best_bid|best_bid_size|high_24h| last_size| low_24h| open_24h|    price|product_id|    sequence|side|                time| trade_id|  type|    volume_24h|      volume_30d|\n",
            "+---------+-------------+---------+-------------+--------+----------+--------+---------+---------+----------+------------+----+--------------------+---------+------+--------------+----------------+\n",
            "|107511.51|   0.03519702|107511.50|   0.04657998|  110040|0.00017045|107378.1|109834.12|107511.51|   BTC-USD|108077026285| buy|2025-07-04T19:07:...|845094015|ticker| 3243.85984948| 160661.52509002|\n",
            "|  2487.23|   0.10279113|  2487.03|   0.20104301|  2604.5| 0.0178256|    2475|   2587.2|  2487.23|   ETH-USD| 83103319763| buy|2025-07-04T19:07:...|662988458|ticker|77056.33623492|3811262.58320407|\n",
            "+---------+-------------+---------+-------------+--------+----------+--------+---------+---------+----------+------------+----+--------------------+---------+------+--------------+----------------+\n",
            "\n"
          ]
        }
      ]
    },
    {
      "cell_type": "code",
      "source": [
        "from pyspark.sql import SparkSession\n",
        "from pyspark.sql.functions import col\n",
        "\n",
        "spark = SparkSession.builder.appName(\"BTCPriceStream\").getOrCreate()\n",
        "\n",
        "schema = \"type STRING, sequence LONG, product_id STRING, price STRING, time STRING\"\n",
        "\n",
        "df = spark.readStream.schema(schema).json(\"gs://edit-data-eng-dev/datalake/landing/btc/\")\n",
        "\n",
        "stream = df.select(\"time\", \"product_id\", col(\"price\").cast(\"double\")) \\\n",
        "  .writeStream \\\n",
        "  .outputMode(\"append\") \\\n",
        "  .queryName(\"btc_price_stream4\") \\\n",
        "  .format(\"memory\") \\\n",
        "  .start()"
      ],
      "metadata": {
        "id": "sI5QvFufsYMl"
      },
      "execution_count": 6,
      "outputs": []
    },
    {
      "cell_type": "code",
      "source": [
        "df = spark.sql(\"select * from btc_price_stream4\")\n",
        "df.show()"
      ],
      "metadata": {
        "id": "14Qs0vD9soxp",
        "outputId": "79774681-cf97-4618-f108-e8104c9828c5",
        "colab": {
          "base_uri": "https://localhost:8080/"
        }
      },
      "execution_count": 10,
      "outputs": [
        {
          "output_type": "stream",
          "name": "stdout",
          "text": [
            "+--------------------+----------+---------+\n",
            "|                time|product_id|    price|\n",
            "+--------------------+----------+---------+\n",
            "|2025-07-04T19:07:...|   BTC-USD|107511.51|\n",
            "|2025-07-04T19:07:...|   ETH-USD|  2487.23|\n",
            "+--------------------+----------+---------+\n",
            "\n"
          ]
        }
      ]
    },
    {
      "cell_type": "code",
      "source": [
        "\n",
        "# analysis\n",
        "\n",
        "# Latest Bitcoin price\n",
        "# Calculate average BTC price per minute\n",
        "# Calculate standard deviation of price over time\n",
        "# How many price tickets per minute?\n",
        "# Find anomalies (price == nulls or with strange values)"
      ],
      "metadata": {
        "id": "9nFC7Sqbw_NF"
      },
      "execution_count": null,
      "outputs": []
    },
    {
      "cell_type": "code",
      "source": [
        "from pyspark.sql.functions import *\n",
        "df.groupBy(window(\"time\", \"30 seconds\")).agg(stddev(\"price\").alias(\"volatility\")).show()"
      ],
      "metadata": {
        "id": "3T8FXkV6xhsg"
      },
      "execution_count": null,
      "outputs": []
    },
    {
      "cell_type": "code",
      "source": [
        "df.groupBy(window(\"time\", \"30 seconds\"), \"product_id\") \\\n",
        "  .agg(stddev(\"price\").alias(\"volatility\")).show()"
      ],
      "metadata": {
        "id": "cXMqbEGoxnei"
      },
      "execution_count": null,
      "outputs": []
    },
    {
      "cell_type": "code",
      "source": [],
      "metadata": {
        "id": "sHA1DJvVy1cb"
      },
      "execution_count": null,
      "outputs": []
    }
  ],
  "metadata": {
    "colab": {
      "provenance": [],
      "include_colab_link": true
    },
    "kernelspec": {
      "display_name": "Python 3",
      "name": "python3"
    },
    "language_info": {
      "name": "python"
    }
  },
  "nbformat": 4,
  "nbformat_minor": 0
}
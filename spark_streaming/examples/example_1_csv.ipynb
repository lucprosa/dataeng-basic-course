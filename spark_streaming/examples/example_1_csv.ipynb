{
  "cells": [
    {
      "cell_type": "markdown",
      "metadata": {
        "id": "view-in-github",
        "colab_type": "text"
      },
      "source": [
        "<a href=\"https://colab.research.google.com/github/lucprosa/dataeng-basic-course/blob/main/spark_streaming/examples/example_1_csv.ipynb\" target=\"_parent\"><img src=\"https://colab.research.google.com/assets/colab-badge.svg\" alt=\"Open In Colab\"/></a>"
      ]
    },
    {
      "cell_type": "markdown",
      "metadata": {
        "id": "4_GBE9UsyxwK"
      },
      "source": []
    },
    {
      "cell_type": "markdown",
      "metadata": {
        "id": "QBUTFW0NTs-T"
      },
      "source": [
        "# Usecase 1\n",
        "- Defining a sample dataset\n",
        "- Splitting dataset in many CSVs and uploading them in the input folder in async mode\n",
        "- Use Spark streaming to read from input folder\n",
        "- Checking results from query in memory"
      ]
    },
    {
      "cell_type": "markdown",
      "metadata": {
        "id": "d9LeYFsPTjAb"
      },
      "source": [
        "# Setting up PySpark"
      ]
    },
    {
      "cell_type": "code",
      "execution_count": null,
      "metadata": {
        "colab": {
          "base_uri": "https://localhost:8080/"
        },
        "id": "uYXeODL0T1fO",
        "outputId": "74ae8b9e-6591-466b-eb59-4bb4f8be67fe"
      },
      "outputs": [
        {
          "name": "stdout",
          "output_type": "stream",
          "text": [
            "Requirement already satisfied: pyspark in /usr/local/lib/python3.10/dist-packages (3.5.3)\n",
            "Requirement already satisfied: py4j==0.10.9.7 in /usr/local/lib/python3.10/dist-packages (from pyspark) (0.10.9.7)\n"
          ]
        }
      ],
      "source": [
        "%pip install pyspark"
      ]
    },
    {
      "cell_type": "code",
      "execution_count": 1,
      "metadata": {
        "id": "637HFw00T3LP"
      },
      "outputs": [],
      "source": [
        "from pyspark.sql import SparkSession\n",
        "\n",
        "spark = SparkSession.builder.master('local').appName('Test streaming').getOrCreate()"
      ]
    },
    {
      "cell_type": "markdown",
      "metadata": {
        "id": "x-faGlZP36_A"
      },
      "source": [
        "# Reading sample dataset"
      ]
    },
    {
      "cell_type": "code",
      "execution_count": 2,
      "metadata": {
        "colab": {
          "base_uri": "https://localhost:8080/"
        },
        "id": "11XHuPFBgh9x",
        "outputId": "83e65dad-a2dc-443d-9686-bd727fb0d0f1"
      },
      "outputs": [
        {
          "output_type": "stream",
          "name": "stdout",
          "text": [
            "+---------------+-------+-------------------+-------+-----------+-----------------+-----------------------+-----------+------------+-----------------------------+-----------------+--------------------+------------------------+-----------------------------+-------------------------------+\n",
            "|      Area Name|Area ID|          Park Name|Park ID|Squirrel ID|Primary Fur Color|Highlights in Fur Color|Color Notes|    Location|Above Ground (Height in Feet)|Specific Location|          Activities|Interactions with Humans|Squirrel Latitude (DD.DDDDDD)|Squirrel Longitude (-DD.DDDDDD)|\n",
            "+---------------+-------+-------------------+-------+-----------+-----------------+-----------------------+-----------+------------+-----------------------------+-----------------+--------------------+------------------------+-----------------------------+-------------------------------+\n",
            "|UPPER MANHATTAN|      A|    Fort Tryon Park|     01|    A-01-01|             Gray|                  White|       NULL|Ground Plane|                         NULL|             NULL|            Foraging|             Indifferent|                         NULL|                       40.85941|\n",
            "|UPPER MANHATTAN|      A|    Fort Tryon Park|     01|    A-01-02|             Gray|                  White|       NULL|Ground Plane|                         NULL|             NULL|            Foraging|             Indifferent|                 Looks skinny|                      40.859436|\n",
            "|UPPER MANHATTAN|      A|    Fort Tryon Park|     01|    A-01-03|             Gray|                  White|       NULL|Ground Plane|                         NULL|             NULL|Eating, Digging s...|             Indifferent|                         NULL|                      40.859416|\n",
            "|UPPER MANHATTAN|      A|    Fort Tryon Park|     01|    A-01-04|             Gray|                  White|       NULL|Ground Plane|                         NULL|             NULL|             Running|             Indifferent|                         NULL|                      40.859418|\n",
            "|UPPER MANHATTAN|      A|    Fort Tryon Park|     01|    A-01-05|             Gray|               Cinnamon|       NULL|Ground Plane|                         NULL|             NULL|     Running, Eating|             Indifferent|                She left food|                      40.859493|\n",
            "|UPPER MANHATTAN|      A|    Fort Tryon Park|     01|    A-01-06|             Gray|               Cinnamon|       NULL|Ground Plane|                         NULL|             NULL|            Climbing|             Indifferent|                         NULL|                      40.860825|\n",
            "|UPPER MANHATTAN|      A|    Fort Tryon Park|     01|    A-01-07|             Gray|                  White|       NULL|Ground Plane|                         NULL|             NULL|            Foraging|             Indifferent|                         NULL|                      40.860225|\n",
            "|UPPER MANHATTAN|      A|    Fort Tryon Park|     01|    A-01-08|            Black|                   Gray|       NULL|Above Ground|                           10|             NULL|            Climbing|               Runs From|                         NULL|                      40.859965|\n",
            "|UPPER MANHATTAN|      A|    Fort Tryon Park|     01|    A-01-09|             Gray|                  White|       NULL|Ground Plane|                         NULL|             NULL|            Foraging|             Indifferent|                         NULL|                      40.859892|\n",
            "|UPPER MANHATTAN|      A|    Fort Tryon Park|     01|    A-01-10|             Gray|                  White|       NULL|Ground Plane|                         NULL|             NULL|     Eating, Digging|             Indifferent|                         NULL|                      40.859636|\n",
            "|UPPER MANHATTAN|      A|    Fort Tryon Park|     01|    A-01-11|             Gray|                  Black|       NULL|Ground Plane|                         NULL|             NULL|     Eating, Digging|             Indifferent|         was intimidated b...|                      40.859576|\n",
            "|UPPER MANHATTAN|      A|    Fort Tryon Park|     01|    A-01-12|             Gray|                  White|       NULL|Ground Plane|                         NULL|             NULL|             Running|               Runs From|                         NULL|                      40.859989|\n",
            "|UPPER MANHATTAN|      A|J. Hood Wright Park|     02|    A-02-01|             Gray|                   Gray|       NULL|Ground Plane|                         NULL|             NULL|             Running|             Indifferent|                         NULL|                      40.845749|\n",
            "|UPPER MANHATTAN|      A|J. Hood Wright Park|     02|    A-02-02|             Gray|               Cinnamon|       NULL|Above Ground|                            2|             NULL|            Foraging|             Indifferent|                         NULL|                      40.845875|\n",
            "|UPPER MANHATTAN|      A|J. Hood Wright Park|     02|    A-02-03|             Gray|               Cinnamon|       NULL|Ground Plane|                         NULL|             NULL|            Foraging|                    NULL|                         NULL|                      40.845875|\n",
            "|UPPER MANHATTAN|      A|J. Hood Wright Park|     02|    A-02-04|             Gray|               Cinnamon|       NULL|Ground Plane|                         NULL|             NULL|             Running|             Indifferent|                         NULL|                      40.846088|\n",
            "|UPPER MANHATTAN|      A|J. Hood Wright Park|     02|    A-02-05|             Gray|               Cinnamon|       NULL|Ground Plane|                         NULL|             NULL|             Running|               Runs From|                         NULL|                      40.846088|\n",
            "|UPPER MANHATTAN|      A|J. Hood Wright Park|     02|    A-02-06|             Gray|               Cinnamon|       NULL|Ground Plane|                         NULL|             NULL|            Foraging|             Indifferent|                         NULL|                      40.846088|\n",
            "|UPPER MANHATTAN|      A|J. Hood Wright Park|     02|    A-02-07|             Gray|                   Gray|       NULL|Ground Plane|                         NULL|             NULL|                NULL|               Runs From|                         NULL|                      40.846222|\n",
            "|UPPER MANHATTAN|      A|J. Hood Wright Park|     02|    A-02-08|             Gray|               Cinnamon|       NULL|Ground Plane|                         NULL|             NULL|Foraging, Nesting...|             Indifferent|                         NULL|                      40.846222|\n",
            "+---------------+-------+-------------------+-------+-----------+-----------------+-----------------------+-----------+------------+-----------------------------+-----------------+--------------------+------------------------+-----------------------------+-------------------------------+\n",
            "only showing top 20 rows\n",
            "\n"
          ]
        }
      ],
      "source": [
        "from pyspark import SparkFiles\n",
        "url = \"https://raw.githubusercontent.com/lucprosa/dataeng-basic-course/main/data/squirrel-data/squirrel-data.csv\"\n",
        "\n",
        "from pyspark.sql.types import *\n",
        "schema = StructType([\n",
        "StructField('Area Name',StringType(),True),\n",
        "StructField('Area ID',StringType(),True),\n",
        "StructField('Park Name',StringType(),True),\n",
        "StructField('Park ID', StringType(), True),\n",
        "StructField('Squirrel ID', StringType(), True),\n",
        "StructField('Primary Fur Color', StringType(), True),\n",
        "StructField('Highlights in Fur Color', StringType(), True),\n",
        "StructField('Color Notes', StringType(), True),\n",
        "StructField('Location', StringType(), True),\n",
        "StructField('Above Ground (Height in Feet)', StringType(), True),\n",
        "StructField('Specific Location', StringType(), True),\n",
        "StructField('Activities', StringType(), True),\n",
        "StructField('Interactions with Humans', StringType(), True),\n",
        "StructField('Squirrel Latitude (DD.DDDDDD)', StringType(), True),\n",
        "StructField('Squirrel Longitude (-DD.DDDDDD)', StringType(), True)\n",
        "])\n",
        "\n",
        "spark.sparkContext.addFile(url)\n",
        "df = spark.read.csv(SparkFiles.get(\"squirrel-data.csv\"), header=True, schema=schema)\n",
        "\n",
        "df.show()"
      ]
    },
    {
      "cell_type": "markdown",
      "metadata": {
        "id": "5WUcNclY4CSO"
      },
      "source": [
        "# Splitting dataset in many CSVs and uploading them in async mode"
      ]
    },
    {
      "cell_type": "code",
      "execution_count": 10,
      "metadata": {
        "id": "ZBitKAbAhr6k"
      },
      "outputs": [],
      "source": [
        "from pyspark.sql import DataFrame\n",
        "import time\n",
        "import asyncio\n",
        "\n",
        "# Function to split csv into many files (assync)\n",
        "async def splitDf(df: DataFrame, weight: float, files: int):\n",
        "  weights = [weight for i in range(files)]\n",
        "  dfs = df.randomSplit(weights)\n",
        "  return dfs\n",
        "\n",
        "# Function to write data as csv (assync)\n",
        "async def writeFile(dfs: list[DataFrame], path: str, seconds_per_file: int):\n",
        "  for i in range(len(dfs)):\n",
        "    df = dfs[i]\n",
        "    #print(f\"Writing file {path}file_{i}.csv with {df.count()} lines\")\n",
        "    df.write.mode(\"overwrite\").format(\"csv\").save(path)\n",
        "    await asyncio.sleep(seconds_per_file)\n",
        "\n",
        "async def main(df):\n",
        "  files = 10\n",
        "  seconds_per_file = 5\n",
        "  df = df.cache()\n",
        "  dfs = await splitDf(df, 1.0, files)\n",
        "  #asyncio.create_task(writeFile(dfs, \"/content/input/\", seconds_per_file))\n",
        "  await writeFile(dfs, \"/content/input/\", seconds_per_file)\n"
      ]
    },
    {
      "cell_type": "code",
      "source": [
        "loop = asyncio.get_event_loop()\n",
        "loop.run_until_complete(main(df))"
      ],
      "metadata": {
        "id": "m6r7L4ZTAUO5",
        "outputId": "10834cd0-6f60-4282-c89f-2371dcbf373e",
        "colab": {
          "base_uri": "https://localhost:8080/",
          "height": 311
        }
      },
      "execution_count": 11,
      "outputs": [
        {
          "output_type": "error",
          "ename": "RuntimeError",
          "evalue": "This event loop is already running",
          "traceback": [
            "\u001b[0;31m---------------------------------------------------------------------------\u001b[0m",
            "\u001b[0;31mRuntimeError\u001b[0m                              Traceback (most recent call last)",
            "\u001b[0;32m<ipython-input-11-d821a4adcc19>\u001b[0m in \u001b[0;36m<cell line: 2>\u001b[0;34m()\u001b[0m\n\u001b[1;32m      1\u001b[0m \u001b[0mloop\u001b[0m \u001b[0;34m=\u001b[0m \u001b[0masyncio\u001b[0m\u001b[0;34m.\u001b[0m\u001b[0mget_event_loop\u001b[0m\u001b[0;34m(\u001b[0m\u001b[0;34m)\u001b[0m\u001b[0;34m\u001b[0m\u001b[0;34m\u001b[0m\u001b[0m\n\u001b[0;32m----> 2\u001b[0;31m \u001b[0mloop\u001b[0m\u001b[0;34m.\u001b[0m\u001b[0mrun_until_complete\u001b[0m\u001b[0;34m(\u001b[0m\u001b[0mmain\u001b[0m\u001b[0;34m(\u001b[0m\u001b[0mdf\u001b[0m\u001b[0;34m)\u001b[0m\u001b[0;34m)\u001b[0m\u001b[0;34m\u001b[0m\u001b[0;34m\u001b[0m\u001b[0m\n\u001b[0m",
            "\u001b[0;32m/usr/lib/python3.10/asyncio/base_events.py\u001b[0m in \u001b[0;36mrun_until_complete\u001b[0;34m(self, future)\u001b[0m\n\u001b[1;32m    623\u001b[0m         \"\"\"\n\u001b[1;32m    624\u001b[0m         \u001b[0mself\u001b[0m\u001b[0;34m.\u001b[0m\u001b[0m_check_closed\u001b[0m\u001b[0;34m(\u001b[0m\u001b[0;34m)\u001b[0m\u001b[0;34m\u001b[0m\u001b[0;34m\u001b[0m\u001b[0m\n\u001b[0;32m--> 625\u001b[0;31m         \u001b[0mself\u001b[0m\u001b[0;34m.\u001b[0m\u001b[0m_check_running\u001b[0m\u001b[0;34m(\u001b[0m\u001b[0;34m)\u001b[0m\u001b[0;34m\u001b[0m\u001b[0;34m\u001b[0m\u001b[0m\n\u001b[0m\u001b[1;32m    626\u001b[0m \u001b[0;34m\u001b[0m\u001b[0m\n\u001b[1;32m    627\u001b[0m         \u001b[0mnew_task\u001b[0m \u001b[0;34m=\u001b[0m \u001b[0;32mnot\u001b[0m \u001b[0mfutures\u001b[0m\u001b[0;34m.\u001b[0m\u001b[0misfuture\u001b[0m\u001b[0;34m(\u001b[0m\u001b[0mfuture\u001b[0m\u001b[0;34m)\u001b[0m\u001b[0;34m\u001b[0m\u001b[0;34m\u001b[0m\u001b[0m\n",
            "\u001b[0;32m/usr/lib/python3.10/asyncio/base_events.py\u001b[0m in \u001b[0;36m_check_running\u001b[0;34m(self)\u001b[0m\n\u001b[1;32m    582\u001b[0m     \u001b[0;32mdef\u001b[0m \u001b[0m_check_running\u001b[0m\u001b[0;34m(\u001b[0m\u001b[0mself\u001b[0m\u001b[0;34m)\u001b[0m\u001b[0;34m:\u001b[0m\u001b[0;34m\u001b[0m\u001b[0;34m\u001b[0m\u001b[0m\n\u001b[1;32m    583\u001b[0m         \u001b[0;32mif\u001b[0m \u001b[0mself\u001b[0m\u001b[0;34m.\u001b[0m\u001b[0mis_running\u001b[0m\u001b[0;34m(\u001b[0m\u001b[0;34m)\u001b[0m\u001b[0;34m:\u001b[0m\u001b[0;34m\u001b[0m\u001b[0;34m\u001b[0m\u001b[0m\n\u001b[0;32m--> 584\u001b[0;31m             \u001b[0;32mraise\u001b[0m \u001b[0mRuntimeError\u001b[0m\u001b[0;34m(\u001b[0m\u001b[0;34m'This event loop is already running'\u001b[0m\u001b[0;34m)\u001b[0m\u001b[0;34m\u001b[0m\u001b[0;34m\u001b[0m\u001b[0m\n\u001b[0m\u001b[1;32m    585\u001b[0m         \u001b[0;32mif\u001b[0m \u001b[0mevents\u001b[0m\u001b[0;34m.\u001b[0m\u001b[0m_get_running_loop\u001b[0m\u001b[0;34m(\u001b[0m\u001b[0;34m)\u001b[0m \u001b[0;32mis\u001b[0m \u001b[0;32mnot\u001b[0m \u001b[0;32mNone\u001b[0m\u001b[0;34m:\u001b[0m\u001b[0;34m\u001b[0m\u001b[0;34m\u001b[0m\u001b[0m\n\u001b[1;32m    586\u001b[0m             raise RuntimeError(\n",
            "\u001b[0;31mRuntimeError\u001b[0m: This event loop is already running"
          ]
        }
      ]
    },
    {
      "cell_type": "code",
      "source": [
        "asyncio.run(main(df))"
      ],
      "metadata": {
        "id": "Qt6ugo9vAFau",
        "outputId": "ea02daba-b4bc-4acf-f77d-b556df2750b9",
        "colab": {
          "base_uri": "https://localhost:8080/",
          "height": 270
        }
      },
      "execution_count": 6,
      "outputs": [
        {
          "output_type": "error",
          "ename": "RuntimeError",
          "evalue": "asyncio.run() cannot be called from a running event loop",
          "traceback": [
            "\u001b[0;31m---------------------------------------------------------------------------\u001b[0m",
            "\u001b[0;31mRuntimeError\u001b[0m                              Traceback (most recent call last)",
            "\u001b[0;32m<ipython-input-6-a5fa8858319f>\u001b[0m in \u001b[0;36m<cell line: 1>\u001b[0;34m()\u001b[0m\n\u001b[0;32m----> 1\u001b[0;31m \u001b[0masyncio\u001b[0m\u001b[0;34m.\u001b[0m\u001b[0mrun\u001b[0m\u001b[0;34m(\u001b[0m\u001b[0mmain\u001b[0m\u001b[0;34m(\u001b[0m\u001b[0mdf\u001b[0m\u001b[0;34m)\u001b[0m\u001b[0;34m)\u001b[0m\u001b[0;34m\u001b[0m\u001b[0;34m\u001b[0m\u001b[0m\n\u001b[0m",
            "\u001b[0;32m/usr/lib/python3.10/asyncio/runners.py\u001b[0m in \u001b[0;36mrun\u001b[0;34m(main, debug)\u001b[0m\n\u001b[1;32m     31\u001b[0m     \"\"\"\n\u001b[1;32m     32\u001b[0m     \u001b[0;32mif\u001b[0m \u001b[0mevents\u001b[0m\u001b[0;34m.\u001b[0m\u001b[0m_get_running_loop\u001b[0m\u001b[0;34m(\u001b[0m\u001b[0;34m)\u001b[0m \u001b[0;32mis\u001b[0m \u001b[0;32mnot\u001b[0m \u001b[0;32mNone\u001b[0m\u001b[0;34m:\u001b[0m\u001b[0;34m\u001b[0m\u001b[0;34m\u001b[0m\u001b[0m\n\u001b[0;32m---> 33\u001b[0;31m         raise RuntimeError(\n\u001b[0m\u001b[1;32m     34\u001b[0m             \"asyncio.run() cannot be called from a running event loop\")\n\u001b[1;32m     35\u001b[0m \u001b[0;34m\u001b[0m\u001b[0m\n",
            "\u001b[0;31mRuntimeError\u001b[0m: asyncio.run() cannot be called from a running event loop"
          ]
        }
      ]
    },
    {
      "cell_type": "markdown",
      "metadata": {
        "id": "WJr9P--oUl9N"
      },
      "source": [
        "# Read CSVs as streaming"
      ]
    },
    {
      "cell_type": "code",
      "execution_count": null,
      "metadata": {
        "id": "Gck3fKOxW7BM"
      },
      "outputs": [],
      "source": [
        "# delete input folder\n",
        "#! rm -rf /content/input\n",
        "#! rm -rf /content/checkpoint"
      ]
    },
    {
      "cell_type": "code",
      "execution_count": null,
      "metadata": {
        "id": "aQuwtLOWUqGa"
      },
      "outputs": [],
      "source": [
        "# Start read of file stream (csv) from input folder\n",
        "stream1 = spark.readStream.format('csv').schema(schema).option('header', True).load('/content/input/*')\n",
        "\n",
        "# Check if dataframe is streaming\n",
        "print(stream1.isStreaming)\n",
        "\n",
        "# Start write as streaming into memory\n",
        "query = (stream1.writeStream\n",
        ".format('memory')\n",
        ".queryName('my_query')\n",
        ".outputMode('append')\n",
        ".start()\n",
        ")"
      ]
    },
    {
      "cell_type": "markdown",
      "metadata": {
        "id": "iF9H8Yij6AWi"
      },
      "source": [
        "# Checking results using query in memory"
      ]
    },
    {
      "cell_type": "code",
      "execution_count": null,
      "metadata": {
        "colab": {
          "base_uri": "https://localhost:8080/"
        },
        "id": "mkqrNcOwVSWO",
        "outputId": "28879278-1b19-45c5-df86-6217ca548c18"
      },
      "outputs": [
        {
          "name": "stdout",
          "output_type": "stream",
          "text": [
            "Writing file /content/input/file_8.csv with 60 lines\n",
            "+-----------------+-------+--------------------+-------+-----------+-----------------+-----------------------+-----------+--------------------+-----------------------------+-----------------+----------------+------------------------+-----------------------------+-------------------------------+\n",
            "|        Area Name|Area ID|           Park Name|Park ID|Squirrel ID|Primary Fur Color|Highlights in Fur Color|Color Notes|            Location|Above Ground (Height in Feet)|Specific Location|      Activities|Interactions with Humans|Squirrel Latitude (DD.DDDDDD)|Squirrel Longitude (-DD.DDDDDD)|\n",
            "+-----------------+-------+--------------------+-------+-----------+-----------------+-----------------------+-----------+--------------------+-----------------------------+-----------------+----------------+------------------------+-----------------------------+-------------------------------+\n",
            "|         BROOKLYN|      D|       McCarren Park|     22|    D-22-08|         Cinnamon|                  White|       NULL|        Ground Plane|                         NULL|             NULL|         Running|               Runs From|                         NULL|                      40.721713|\n",
            "|         BROOKLYN|      D|       McCarren Park|     22|    D-22-15|             Gray|                  White|       NULL|Above Ground, Spe...|                         NULL|          in tree|          Eating|             Indifferent|                         NULL|                      40.723071|\n",
            "|         BROOKLYN|      D|       McCarren Park|     22|    D-22-35|         Cinnamon|               Cinnamon|       NULL|        Above Ground|                           15|             NULL|Sleeping (Dead?)|                    NULL|         Curled up togethe...|                      40.721181|\n",
            "|         BROOKLYN|      D|Msgr. McGolrick Park|     21|    D-21-09|             Gray|                   NULL|       NULL|        Ground Plane|                         NULL|             NULL| Climbing (down)|                    NULL|                         NULL|                      40.723974|\n",
            "|         BROOKLYN|      D|Msgr. McGolrick Park|     21|    D-21-10|             Gray|                   NULL|       NULL|        Ground Plane|                         NULL|             NULL| Climbing (down)|                    NULL|                         NULL|                      40.723462|\n",
            "|         BROOKLYN|      D|Msgr. McGolrick Park|     21|    D-21-11|             Gray|                   NULL|       NULL|        Ground Plane|                         NULL|             NULL| Climbing (down)|                    NULL|                         NULL|                      40.725372|\n",
            "|CENTRAL MANHATTAN|      B|John V. Lindsay E...|     12|    B-12-01|             Gray|                   Gray|       NULL|        Ground Plane|                         NULL|             NULL| Running, Eating|             Indifferent|          Nibbling on shrubs?|                      40.725738|\n",
            "|CENTRAL MANHATTAN|      B|Stuyvesant Square...|     09|    B-09-05|             Gray|               Cinnamon|       NULL|        Above Ground|                           30|             NULL|        Climbing|                    NULL|                         NULL|                      40.733591|\n",
            "|CENTRAL MANHATTAN|      B|Stuyvesant Square...|     09|    B-09-06|             Gray|               Cinnamon|       NULL|        Above Ground|                           15|             NULL|Climbing, Eating|             Indifferent|                         NULL|                      40.733648|\n",
            "|CENTRAL MANHATTAN|      B|Stuyvesant Square...|     09|    B-09-18|             Gray|               Cinnamon|       NULL|        Ground Plane|                         NULL|             NULL|        Foraging|             Indifferent|                         NULL|                       40.73403|\n",
            "|CENTRAL MANHATTAN|      B|Tompkins Square Park|     11|    B-11-25|             Gray|                   Gray|       NULL|        Ground Plane|                         NULL|             NULL|        Foraging|              Approaches|                         NULL|                           NULL|\n",
            "|CENTRAL MANHATTAN|      B|Tompkins Square Park|     11|    B-11-26|             Gray|                   Gray|       NULL|        Ground Plane|                         NULL|             NULL|        Foraging|              Approaches|                         NULL|                           NULL|\n",
            "|CENTRAL MANHATTAN|      B|Tompkins Square Park|     11|    B-11-34|             Gray|                   Gray|       NULL|   Specific Location|                         NULL|             Tree|        Climbing|              Approaches|                         NULL|                           NULL|\n",
            "|CENTRAL MANHATTAN|      B|Tompkins Square Park|     11|    B-11-42|             Gray|                   Gray|       NULL|        Ground Plane|                         NULL|             NULL|        Foraging|             Indifferent|                         NULL|                           NULL|\n",
            "|CENTRAL MANHATTAN|      B|Tompkins Square Park|     11|    B-11-51|            Black|                  Black|       NULL|        Ground Plane|                         NULL|             NULL|         Chasing|             Indifferent|                         NULL|                           NULL|\n",
            "|CENTRAL MANHATTAN|      B|   Union Square Park|     08|    B-08-04|             Gray|                   NULL|       NULL|        Ground Plane|                         NULL|             NULL|        Foraging|             Indifferent|                         NULL|                       40.73579|\n",
            "|CENTRAL MANHATTAN|      B|Washington Square...|     10|    B-10-03|             Gray|                   Gray|       NULL|        Ground Plane|                         NULL|             NULL|        Foraging|             Indifferent|                         NULL|                      40.730528|\n",
            "|CENTRAL MANHATTAN|      B|Washington Square...|     10|    B-10-09|             Gray|                   Gray|       NULL|        Ground Plane|                         NULL|             NULL|        Foraging|             Indifferent|                         NULL|                      40.730223|\n",
            "|CENTRAL MANHATTAN|      B|Washington Square...|     10|    B-10-18|             Gray|                   NULL|       NULL|                NULL|                         NULL|             NULL|         Chasing|             Indifferent|                         NULL|                      40.729809|\n",
            "|CENTRAL MANHATTAN|      B|Washington Square...|     10|    B-10-23|             Gray|                   NULL|       NULL|        Ground Plane|                         NULL|             NULL|            NULL|             Indifferent|                         NULL|                      40.729988|\n",
            "+-----------------+-------+--------------------+-------+-----------+-----------------+-----------------------+-----------+--------------------+-----------------------------+-----------------+----------------+------------------------+-----------------------------+-------------------------------+\n",
            "only showing top 20 rows\n",
            "\n"
          ]
        }
      ],
      "source": [
        "spark.sql(\"select * from my_query\").show()"
      ]
    },
    {
      "cell_type": "markdown",
      "metadata": {
        "id": "hYHLg6DX6EMB"
      },
      "source": [
        "# Stop writeStreaming"
      ]
    },
    {
      "cell_type": "code",
      "execution_count": null,
      "metadata": {
        "id": "lxEOqAOOVdFS"
      },
      "outputs": [],
      "source": [
        "query.stop()"
      ]
    },
    {
      "cell_type": "code",
      "execution_count": null,
      "metadata": {
        "id": "v180mzIciVZH"
      },
      "outputs": [],
      "source": [
        "# Tasks/questions\n",
        "- aggregate data by ...\n",
        "- implement checkpoint?\n",
        "- save results as parquet?\n",
        "\n"
      ]
    }
  ],
  "metadata": {
    "colab": {
      "provenance": [],
      "include_colab_link": true
    },
    "kernelspec": {
      "display_name": "Python 3",
      "name": "python3"
    },
    "language_info": {
      "name": "python"
    }
  },
  "nbformat": 4,
  "nbformat_minor": 0
}
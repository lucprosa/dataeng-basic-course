{
  "cells": [
    {
      "cell_type": "markdown",
      "metadata": {
        "id": "view-in-github",
        "colab_type": "text"
      },
      "source": [
        "<a href=\"https://colab.research.google.com/github/lucprosa/dataeng-basic-course/blob/main/spark_streaming/examples/example_1_csv.ipynb\" target=\"_parent\"><img src=\"https://colab.research.google.com/assets/colab-badge.svg\" alt=\"Open In Colab\"/></a>"
      ]
    },
    {
      "cell_type": "markdown",
      "metadata": {
        "id": "4_GBE9UsyxwK"
      },
      "source": []
    },
    {
      "cell_type": "markdown",
      "metadata": {
        "id": "QBUTFW0NTs-T"
      },
      "source": [
        "# Usecase 1\n",
        "- Defining a sample dataset\n",
        "- Splitting dataset in many CSVs and uploading them in the input folder in async mode\n",
        "- Use Spark streaming to read from input folder\n",
        "- Checking results from query in memory"
      ]
    },
    {
      "cell_type": "markdown",
      "metadata": {
        "id": "d9LeYFsPTjAb"
      },
      "source": [
        "# Setting up PySpark"
      ]
    },
    {
      "cell_type": "code",
      "execution_count": 1,
      "metadata": {
        "colab": {
          "base_uri": "https://localhost:8080/"
        },
        "id": "uYXeODL0T1fO",
        "outputId": "9f669849-005d-4ba7-9f54-cf522501b597"
      },
      "outputs": [
        {
          "output_type": "stream",
          "name": "stdout",
          "text": [
            "Requirement already satisfied: pyspark in /usr/local/lib/python3.10/dist-packages (3.5.3)\n",
            "Requirement already satisfied: py4j==0.10.9.7 in /usr/local/lib/python3.10/dist-packages (from pyspark) (0.10.9.7)\n"
          ]
        }
      ],
      "source": [
        "%pip install pyspark"
      ]
    },
    {
      "cell_type": "code",
      "execution_count": 312,
      "metadata": {
        "id": "637HFw00T3LP"
      },
      "outputs": [],
      "source": [
        "from pyspark.sql import SparkSession\n",
        "\n",
        "spark = SparkSession.builder.master('local').appName('Test streaming').getOrCreate()\n",
        "sc = spark.sparkContext"
      ]
    },
    {
      "cell_type": "markdown",
      "metadata": {
        "id": "x-faGlZP36_A"
      },
      "source": [
        "# Reading sample dataset"
      ]
    },
    {
      "cell_type": "code",
      "execution_count": 339,
      "metadata": {
        "colab": {
          "base_uri": "https://localhost:8080/"
        },
        "id": "11XHuPFBgh9x",
        "outputId": "a30e60f3-4984-4346-92cc-089aaaafd950"
      },
      "outputs": [
        {
          "output_type": "stream",
          "name": "stdout",
          "text": [
            "+---------------+-------+-------------------+-------+-----------+-----------------+-----------------------+-----------+------------+-----------------------------+-----------------+--------------------+------------------------+-----------------------------+-------------------------------+\n",
            "|      Area Name|Area ID|          Park Name|Park ID|Squirrel ID|Primary Fur Color|Highlights in Fur Color|Color Notes|    Location|Above Ground (Height in Feet)|Specific Location|          Activities|Interactions with Humans|Squirrel Latitude (DD.DDDDDD)|Squirrel Longitude (-DD.DDDDDD)|\n",
            "+---------------+-------+-------------------+-------+-----------+-----------------+-----------------------+-----------+------------+-----------------------------+-----------------+--------------------+------------------------+-----------------------------+-------------------------------+\n",
            "|UPPER MANHATTAN|      A|    Fort Tryon Park|     01|    A-01-02|             Gray|                  White|       NULL|Ground Plane|                         NULL|             NULL|            Foraging|             Indifferent|                 Looks skinny|                      40.859436|\n",
            "|UPPER MANHATTAN|      A|    Fort Tryon Park|     01|    A-01-03|             Gray|                  White|       NULL|Ground Plane|                         NULL|             NULL|Eating, Digging s...|             Indifferent|                         NULL|                      40.859416|\n",
            "|UPPER MANHATTAN|      A|    Fort Tryon Park|     01|    A-01-04|             Gray|                  White|       NULL|Ground Plane|                         NULL|             NULL|             Running|             Indifferent|                         NULL|                      40.859418|\n",
            "|UPPER MANHATTAN|      A|    Fort Tryon Park|     01|    A-01-05|             Gray|               Cinnamon|       NULL|Ground Plane|                         NULL|             NULL|     Running, Eating|             Indifferent|                She left food|                      40.859493|\n",
            "|UPPER MANHATTAN|      A|    Fort Tryon Park|     01|    A-01-06|             Gray|               Cinnamon|       NULL|Ground Plane|                         NULL|             NULL|            Climbing|             Indifferent|                         NULL|                      40.860825|\n",
            "|UPPER MANHATTAN|      A|    Fort Tryon Park|     01|    A-01-07|             Gray|                  White|       NULL|Ground Plane|                         NULL|             NULL|            Foraging|             Indifferent|                         NULL|                      40.860225|\n",
            "|UPPER MANHATTAN|      A|    Fort Tryon Park|     01|    A-01-08|            Black|                   Gray|       NULL|Above Ground|                           10|             NULL|            Climbing|               Runs From|                         NULL|                      40.859965|\n",
            "|UPPER MANHATTAN|      A|    Fort Tryon Park|     01|    A-01-09|             Gray|                  White|       NULL|Ground Plane|                         NULL|             NULL|            Foraging|             Indifferent|                         NULL|                      40.859892|\n",
            "|UPPER MANHATTAN|      A|    Fort Tryon Park|     01|    A-01-10|             Gray|                  White|       NULL|Ground Plane|                         NULL|             NULL|     Eating, Digging|             Indifferent|                         NULL|                      40.859636|\n",
            "|UPPER MANHATTAN|      A|    Fort Tryon Park|     01|    A-01-11|             Gray|                  Black|       NULL|Ground Plane|                         NULL|             NULL|     Eating, Digging|             Indifferent|         was intimidated b...|                      40.859576|\n",
            "|UPPER MANHATTAN|      A|    Fort Tryon Park|     01|    A-01-12|             Gray|                  White|       NULL|Ground Plane|                         NULL|             NULL|             Running|               Runs From|                         NULL|                      40.859989|\n",
            "|UPPER MANHATTAN|      A|J. Hood Wright Park|     02|    A-02-01|             Gray|                   Gray|       NULL|Ground Plane|                         NULL|             NULL|             Running|             Indifferent|                         NULL|                      40.845749|\n",
            "|UPPER MANHATTAN|      A|J. Hood Wright Park|     02|    A-02-02|             Gray|               Cinnamon|       NULL|Above Ground|                            2|             NULL|            Foraging|             Indifferent|                         NULL|                      40.845875|\n",
            "|UPPER MANHATTAN|      A|J. Hood Wright Park|     02|    A-02-03|             Gray|               Cinnamon|       NULL|Ground Plane|                         NULL|             NULL|            Foraging|                    NULL|                         NULL|                      40.845875|\n",
            "|UPPER MANHATTAN|      A|J. Hood Wright Park|     02|    A-02-04|             Gray|               Cinnamon|       NULL|Ground Plane|                         NULL|             NULL|             Running|             Indifferent|                         NULL|                      40.846088|\n",
            "|UPPER MANHATTAN|      A|J. Hood Wright Park|     02|    A-02-05|             Gray|               Cinnamon|       NULL|Ground Plane|                         NULL|             NULL|             Running|               Runs From|                         NULL|                      40.846088|\n",
            "|UPPER MANHATTAN|      A|J. Hood Wright Park|     02|    A-02-06|             Gray|               Cinnamon|       NULL|Ground Plane|                         NULL|             NULL|            Foraging|             Indifferent|                         NULL|                      40.846088|\n",
            "|UPPER MANHATTAN|      A|J. Hood Wright Park|     02|    A-02-07|             Gray|                   Gray|       NULL|Ground Plane|                         NULL|             NULL|                NULL|               Runs From|                         NULL|                      40.846222|\n",
            "|UPPER MANHATTAN|      A|J. Hood Wright Park|     02|    A-02-08|             Gray|               Cinnamon|       NULL|Ground Plane|                         NULL|             NULL|Foraging, Nesting...|             Indifferent|                         NULL|                      40.846222|\n",
            "|UPPER MANHATTAN|      A|J. Hood Wright Park|     02|    A-02-09|             Gray|               Cinnamon|       NULL|Ground Plane|                         NULL|             NULL|             Chasing|             Indifferent|                         NULL|                      40.846197|\n",
            "+---------------+-------+-------------------+-------+-----------+-----------------+-----------------------+-----------+------------+-----------------------------+-----------------+--------------------+------------------------+-----------------------------+-------------------------------+\n",
            "only showing top 20 rows\n",
            "\n"
          ]
        }
      ],
      "source": [
        "from pyspark import SparkFiles\n",
        "url = \"https://raw.githubusercontent.com/lucprosa/dataeng-basic-course/main/data/squirrel-data/squirrel-data.csv\"\n",
        "\n",
        "from pyspark.sql.types import *\n",
        "schema = StructType([\n",
        "StructField('Area Name',StringType(),True),\n",
        "StructField('Area ID',StringType(),True),\n",
        "StructField('Park Name',StringType(),True),\n",
        "StructField('Park ID', StringType(), True),\n",
        "StructField('Squirrel ID', StringType(), True),\n",
        "StructField('Primary Fur Color', StringType(), True),\n",
        "StructField('Highlights in Fur Color', StringType(), True),\n",
        "StructField('Color Notes', StringType(), True),\n",
        "StructField('Location', StringType(), True),\n",
        "StructField('Above Ground (Height in Feet)', StringType(), True),\n",
        "StructField('Specific Location', StringType(), True),\n",
        "StructField('Activities', StringType(), True),\n",
        "StructField('Interactions with Humans', StringType(), True),\n",
        "StructField('Squirrel Latitude (DD.DDDDDD)', StringType(), True),\n",
        "StructField('Squirrel Longitude (-DD.DDDDDD)', StringType(), True)\n",
        "])\n",
        "\n",
        "data = sc.textFile(SparkFiles.get(\"squirrel-data.csv\"))\n",
        "\n",
        "header = data.first()\n",
        "data = data.filter(lambda line: line != header)\n",
        "\n",
        "# spark.sparkContext.addFile(url)\n",
        "# df = spark.read.csv(SparkFiles.get(\"squirrel-data.csv\"), header=True, schema=schema)\n",
        "\n",
        "df = spark.read.csv(data, header=True, schema=schema)\n",
        "\n",
        "df.show()"
      ]
    },
    {
      "cell_type": "code",
      "source": [
        "import uuid\n",
        "from pyspark.sql.functions import udf\n",
        "\n",
        "@udf\n",
        "def generate_uuid():\n",
        "  return str(uuid.uuid4())\n",
        "\n",
        "df = df.withColumn(\"hash\", generate_uuid())\n",
        "\n",
        "df = df.cache()\n",
        "df.count()"
      ],
      "metadata": {
        "id": "ac_gFxztJ5kH",
        "outputId": "b0b3983a-6889-47ff-ad5d-c5daa978b92f",
        "colab": {
          "base_uri": "https://localhost:8080/"
        }
      },
      "execution_count": 265,
      "outputs": [
        {
          "output_type": "execute_result",
          "data": {
            "text/plain": [
              "433"
            ]
          },
          "metadata": {},
          "execution_count": 265
        }
      ]
    },
    {
      "cell_type": "code",
      "source": [
        "!rm -rf /content/input/\n",
        "!rm -rf /content/output/\n",
        "!rm -rf /content/checkpoint/"
      ],
      "metadata": {
        "id": "IoZvB2a5C2px"
      },
      "execution_count": 266,
      "outputs": []
    },
    {
      "cell_type": "markdown",
      "metadata": {
        "id": "5WUcNclY4CSO"
      },
      "source": [
        "# Splitting dataset in many CSVs and uploading them in async mode"
      ]
    },
    {
      "cell_type": "code",
      "execution_count": 267,
      "metadata": {
        "id": "ZBitKAbAhr6k"
      },
      "outputs": [],
      "source": [
        "from pyspark.sql import DataFrame\n",
        "import time\n",
        "import asyncio\n",
        "\n",
        "# Function to split csv into many files (assync)\n",
        "async def splitDf(df: DataFrame, weight: float, files: int):\n",
        "  weights = [weight for i in range(files)]\n",
        "  dfs = df.randomSplit(weights)\n",
        "  return dfs\n",
        "\n",
        "# Function to write data as csv (assync)\n",
        "async def writeFile(dfs: list[DataFrame], path: str, seconds_per_file: int):\n",
        "  for i in range(len(dfs)):\n",
        "    df = dfs[i]\n",
        "    #print(f\"Writing file {path}file_{i}.csv with {df.count()} lines\")\n",
        "    df.write.mode(\"append\").format(\"csv\").save(path)\n",
        "    await asyncio.sleep(seconds_per_file)\n",
        "\n",
        "async def main(df):\n",
        "  files = 20\n",
        "  seconds_per_file = 10\n",
        "  dfs = await splitDf(df, 1.0, files)\n",
        "  asyncio.create_task(writeFile(dfs, \"/content/input/\", seconds_per_file))\n",
        "  #await writeFile(dfs, \"/content/input/\", seconds_per_file)\n"
      ]
    },
    {
      "cell_type": "code",
      "source": [
        "await main(df)"
      ],
      "metadata": {
        "id": "V3aWcu0eCWio"
      },
      "execution_count": 268,
      "outputs": []
    },
    {
      "cell_type": "markdown",
      "metadata": {
        "id": "WJr9P--oUl9N"
      },
      "source": [
        "# Read CSVs as streaming"
      ]
    },
    {
      "cell_type": "code",
      "execution_count": null,
      "metadata": {
        "id": "Gck3fKOxW7BM"
      },
      "outputs": [],
      "source": [
        "# delete input folder\n",
        "#! rm -rf /content/input\n",
        "#! rm -rf /content/checkpoint"
      ]
    },
    {
      "cell_type": "code",
      "execution_count": 19,
      "metadata": {
        "id": "aQuwtLOWUqGa",
        "outputId": "2f0b24e0-e626-4662-8b3b-e26d70d0d032",
        "colab": {
          "base_uri": "https://localhost:8080/"
        }
      },
      "outputs": [
        {
          "output_type": "stream",
          "name": "stdout",
          "text": [
            "True\n"
          ]
        }
      ],
      "source": [
        "# Start read of file stream (csv) from input folder\n",
        "stream1 = spark.readStream.format('csv').schema(schema).option('header', True).load('/content/input/')\n",
        "\n",
        "# Check if dataframe is streaming\n",
        "print(stream1.isStreaming)\n",
        "\n",
        "# Start write as streaming into memory\n",
        "query = (stream1.writeStream\n",
        ".format('memory')\n",
        ".queryName('my_query')\n",
        ".outputMode('append')\n",
        ".start()\n",
        ")"
      ]
    },
    {
      "cell_type": "markdown",
      "metadata": {
        "id": "iF9H8Yij6AWi"
      },
      "source": [
        "# Checking results using query in memory"
      ]
    },
    {
      "cell_type": "code",
      "execution_count": 52,
      "metadata": {
        "colab": {
          "base_uri": "https://localhost:8080/"
        },
        "id": "mkqrNcOwVSWO",
        "outputId": "57148dd7-eb18-4d1b-9171-4d23d9dcc302"
      },
      "outputs": [
        {
          "output_type": "stream",
          "name": "stdout",
          "text": [
            "+--------+\n",
            "|count(1)|\n",
            "+--------+\n",
            "|     175|\n",
            "+--------+\n",
            "\n"
          ]
        }
      ],
      "source": [
        "spark.sql(\"select count(1) from my_query\").show()"
      ]
    },
    {
      "cell_type": "markdown",
      "metadata": {
        "id": "hYHLg6DX6EMB"
      },
      "source": [
        "# Stop writeStreaming"
      ]
    },
    {
      "cell_type": "code",
      "execution_count": 32,
      "metadata": {
        "id": "lxEOqAOOVdFS"
      },
      "outputs": [],
      "source": [
        "query.stop()"
      ]
    },
    {
      "cell_type": "code",
      "source": [
        "# Start read of file stream (csv) from input folder\n",
        "stream1 = spark.readStream.format('csv').schema(schema).option('header', True).load('/content/input/')\n",
        "\n",
        "# Check if dataframe is streaming\n",
        "print(stream1.isStreaming)\n",
        "\n",
        "# Start write as streaming into memory\n",
        "query = (stream1.writeStream\n",
        ".format('parquet')\n",
        ".option('path', '/content/output')\n",
        ".option('checkpointLocation', '/content/checkpoint')\n",
        ".trigger(processingTime='5 seconds')\n",
        ".outputMode('append')\n",
        ".start()\n",
        ")"
      ],
      "metadata": {
        "id": "EEpMmQXiDwsT",
        "outputId": "41676166-59db-483e-bffa-92345c16d965",
        "colab": {
          "base_uri": "https://localhost:8080/"
        }
      },
      "execution_count": 269,
      "outputs": [
        {
          "output_type": "stream",
          "name": "stdout",
          "text": [
            "True\n"
          ]
        }
      ]
    },
    {
      "cell_type": "code",
      "source": [
        "input = spark.read.format(\"csv\").load(\"/content/input/*\")\n",
        "output = spark.read.format(\"parquet\").load(\"/content/output/*\")\n",
        "\n",
        "print(f\"input - {input.count()}\")\n",
        "print(f\"output - {output.count()}\")\n"
      ],
      "metadata": {
        "id": "x5kdA8TuDb3D",
        "outputId": "72c85345-4b34-4183-f946-9fdd3d75e5f3",
        "colab": {
          "base_uri": "https://localhost:8080/"
        }
      },
      "execution_count": 287,
      "outputs": [
        {
          "output_type": "stream",
          "name": "stdout",
          "text": [
            "input - 433\n",
            "output - 413\n"
          ]
        }
      ]
    },
    {
      "cell_type": "code",
      "source": [
        "!ls -l /content/input | grep .csv | wc -l"
      ],
      "metadata": {
        "id": "_ibDWoh2JLa8",
        "outputId": "8420eebe-fdf3-4667-cbeb-4cb0c56766f6",
        "colab": {
          "base_uri": "https://localhost:8080/"
        }
      },
      "execution_count": 288,
      "outputs": [
        {
          "output_type": "stream",
          "name": "stdout",
          "text": [
            "20\n"
          ]
        }
      ]
    },
    {
      "cell_type": "code",
      "source": [
        "query.stop"
      ],
      "metadata": {
        "id": "_kctG7TSIDfx",
        "outputId": "99b6e79c-872a-4c10-9e3d-d554aeecc004",
        "colab": {
          "base_uri": "https://localhost:8080/",
          "height": 186
        }
      },
      "execution_count": 188,
      "outputs": [
        {
          "output_type": "execute_result",
          "data": {
            "text/plain": [
              "<bound method StreamingQuery.stop of <pyspark.sql.streaming.query.StreamingQuery object at 0x7d24d2151bd0>>"
            ],
            "text/html": [
              "<div style=\"max-width:800px; border: 1px solid var(--colab-border-color);\"><style>\n",
              "      pre.function-repr-contents {\n",
              "        overflow-x: auto;\n",
              "        padding: 8px 12px;\n",
              "        max-height: 500px;\n",
              "      }\n",
              "\n",
              "      pre.function-repr-contents.function-repr-contents-collapsed {\n",
              "        cursor: pointer;\n",
              "        max-height: 100px;\n",
              "      }\n",
              "    </style>\n",
              "    <pre style=\"white-space: initial; background:\n",
              "         var(--colab-secondary-surface-color); padding: 8px 12px;\n",
              "         border-bottom: 1px solid var(--colab-border-color);\"><b>pyspark.sql.streaming.query.StreamingQuery.stop</b><br/>def stop() -&gt; None</pre><pre class=\"function-repr-contents function-repr-contents-collapsed\" style=\"\"><a class=\"filepath\" style=\"display:none\" href=\"#\">/usr/local/lib/python3.10/dist-packages/pyspark/sql/streaming/query.py</a>Stop this streaming query.\n",
              "\n",
              ".. versionadded:: 2.0.0\n",
              "\n",
              ".. versionchanged:: 3.5.0\n",
              "    Supports Spark Connect.\n",
              "\n",
              "Examples\n",
              "--------\n",
              "&gt;&gt;&gt; sdf = spark.readStream.format(&quot;rate&quot;).load()\n",
              "&gt;&gt;&gt; sq = sdf.writeStream.format(&#x27;memory&#x27;).queryName(&#x27;this_query&#x27;).start()\n",
              "&gt;&gt;&gt; sq.isActive\n",
              "True\n",
              "\n",
              "Stop streaming query\n",
              "\n",
              "&gt;&gt;&gt; sq.stop()\n",
              "\n",
              "&gt;&gt;&gt; sq.isActive\n",
              "False</pre>\n",
              "      <script>\n",
              "      if (google.colab.kernel.accessAllowed && google.colab.files && google.colab.files.view) {\n",
              "        for (const element of document.querySelectorAll('.filepath')) {\n",
              "          element.style.display = 'block'\n",
              "          element.onclick = (event) => {\n",
              "            event.preventDefault();\n",
              "            event.stopPropagation();\n",
              "            google.colab.files.view(element.textContent, 349);\n",
              "          };\n",
              "        }\n",
              "      }\n",
              "      for (const element of document.querySelectorAll('.function-repr-contents')) {\n",
              "        element.onclick = (event) => {\n",
              "          event.preventDefault();\n",
              "          event.stopPropagation();\n",
              "          element.classList.toggle('function-repr-contents-collapsed');\n",
              "        };\n",
              "      }\n",
              "      </script>\n",
              "      </div>"
            ]
          },
          "metadata": {},
          "execution_count": 188
        }
      ]
    },
    {
      "cell_type": "code",
      "source": [
        "query.lastProgress"
      ],
      "metadata": {
        "id": "fDnG7xawH-QE",
        "outputId": "6d7fe730-6877-4423-d482-383eeb8bb835",
        "colab": {
          "base_uri": "https://localhost:8080/"
        }
      },
      "execution_count": 289,
      "outputs": [
        {
          "output_type": "execute_result",
          "data": {
            "text/plain": [
              "{'id': '4518de10-4e7b-44ff-b537-5252a262662d',\n",
              " 'runId': '9bc35863-be8b-4e5e-b5b0-0200efbc29b3',\n",
              " 'name': None,\n",
              " 'timestamp': '2024-11-20T20:06:45.000Z',\n",
              " 'batchId': 19,\n",
              " 'numInputRows': 26,\n",
              " 'inputRowsPerSecond': 5.2,\n",
              " 'processedRowsPerSecond': 104.0,\n",
              " 'durationMs': {'addBatch': 145,\n",
              "  'commitOffsets': 34,\n",
              "  'getBatch': 6,\n",
              "  'latestOffset': 37,\n",
              "  'queryPlanning': 4,\n",
              "  'triggerExecution': 250,\n",
              "  'walCommit': 23},\n",
              " 'stateOperators': [],\n",
              " 'sources': [{'description': 'FileStreamSource[file:/content/input]',\n",
              "   'startOffset': {'logOffset': 18},\n",
              "   'endOffset': {'logOffset': 19},\n",
              "   'latestOffset': None,\n",
              "   'numInputRows': 26,\n",
              "   'inputRowsPerSecond': 5.2,\n",
              "   'processedRowsPerSecond': 104.0}],\n",
              " 'sink': {'description': 'FileSink[/content/output]', 'numOutputRows': -1}}"
            ]
          },
          "metadata": {},
          "execution_count": 289
        }
      ]
    },
    {
      "cell_type": "code",
      "source": [
        "!ps"
      ],
      "metadata": {
        "id": "hJh4ZnTaJEgc",
        "outputId": "e07bfb6b-e566-4705-f0c1-175ee6bce230",
        "colab": {
          "base_uri": "https://localhost:8080/"
        }
      },
      "execution_count": 244,
      "outputs": [
        {
          "output_type": "stream",
          "name": "stdout",
          "text": [
            "    PID TTY          TIME CMD\n",
            "      1 ?        00:00:00 docker-init\n",
            "      7 ?        00:00:14 node\n",
            "     17 ?        00:00:01 oom_monitor.sh\n",
            "     19 ?        00:00:00 run.sh\n",
            "     21 ?        00:00:02 kernel_manager_\n",
            "     39 ?        00:00:00 tail\n",
            "     47 ?        00:00:00 tail\n",
            "     68 ?        00:00:15 python3 <defunct>\n",
            "     69 ?        00:00:02 colab-fileshim.\n",
            "     86 ?        00:00:10 jupyter-noteboo\n",
            "     87 ?        00:00:03 dap_multiplexer\n",
            "   2451 ?        00:00:21 python3\n",
            "   2472 ?        00:00:06 python3\n",
            "   2561 ?        00:05:46 java\n",
            "   2621 ?        00:00:02 language_servic\n",
            "   2627 ?        00:01:29 node\n",
            "  21416 ?        00:00:00 sleep\n",
            "  21417 ?        00:00:00 ps\n"
          ]
        }
      ]
    },
    {
      "cell_type": "code",
      "source": [
        "query.status"
      ],
      "metadata": {
        "id": "QjjEUqJhHNKN",
        "outputId": "18098b97-8b97-4a4d-b5e7-daef9e934059",
        "colab": {
          "base_uri": "https://localhost:8080/"
        }
      },
      "execution_count": 290,
      "outputs": [
        {
          "output_type": "execute_result",
          "data": {
            "text/plain": [
              "{'message': 'Waiting for next trigger',\n",
              " 'isDataAvailable': False,\n",
              " 'isTriggerActive': False}"
            ]
          },
          "metadata": {},
          "execution_count": 290
        }
      ]
    },
    {
      "cell_type": "code",
      "source": [
        "query."
      ],
      "metadata": {
        "id": "OALHIoQ9MFnA",
        "outputId": "7fbd2402-e68d-4ec3-b70d-593d8d7569ca",
        "colab": {
          "base_uri": "https://localhost:8080/"
        }
      },
      "execution_count": 294,
      "outputs": [
        {
          "output_type": "execute_result",
          "data": {
            "text/plain": [
              "[{'id': '4518de10-4e7b-44ff-b537-5252a262662d',\n",
              "  'runId': '9bc35863-be8b-4e5e-b5b0-0200efbc29b3',\n",
              "  'name': None,\n",
              "  'timestamp': '2024-11-20T20:03:31.663Z',\n",
              "  'batchId': 0,\n",
              "  'numInputRows': 27,\n",
              "  'inputRowsPerSecond': 0.0,\n",
              "  'processedRowsPerSecond': 93.10344827586208,\n",
              "  'durationMs': {'addBatch': 155,\n",
              "   'commitOffsets': 59,\n",
              "   'getBatch': 12,\n",
              "   'latestOffset': 28,\n",
              "   'queryPlanning': 8,\n",
              "   'triggerExecution': 290,\n",
              "   'walCommit': 25},\n",
              "  'stateOperators': [],\n",
              "  'sources': [{'description': 'FileStreamSource[file:/content/input]',\n",
              "    'startOffset': None,\n",
              "    'endOffset': {'logOffset': 0},\n",
              "    'latestOffset': None,\n",
              "    'numInputRows': 27,\n",
              "    'inputRowsPerSecond': 0.0,\n",
              "    'processedRowsPerSecond': 93.10344827586208}],\n",
              "  'sink': {'description': 'FileSink[/content/output]', 'numOutputRows': -1}},\n",
              " {'id': '4518de10-4e7b-44ff-b537-5252a262662d',\n",
              "  'runId': '9bc35863-be8b-4e5e-b5b0-0200efbc29b3',\n",
              "  'name': None,\n",
              "  'timestamp': '2024-11-20T20:03:40.000Z',\n",
              "  'batchId': 1,\n",
              "  'numInputRows': 17,\n",
              "  'inputRowsPerSecond': 3.4,\n",
              "  'processedRowsPerSecond': 65.63706563706563,\n",
              "  'durationMs': {'addBatch': 167,\n",
              "   'commitOffsets': 26,\n",
              "   'getBatch': 6,\n",
              "   'latestOffset': 31,\n",
              "   'queryPlanning': 4,\n",
              "   'triggerExecution': 259,\n",
              "   'walCommit': 23},\n",
              "  'stateOperators': [],\n",
              "  'sources': [{'description': 'FileStreamSource[file:/content/input]',\n",
              "    'startOffset': {'logOffset': 0},\n",
              "    'endOffset': {'logOffset': 1},\n",
              "    'latestOffset': None,\n",
              "    'numInputRows': 17,\n",
              "    'inputRowsPerSecond': 3.4,\n",
              "    'processedRowsPerSecond': 65.63706563706563}],\n",
              "  'sink': {'description': 'FileSink[/content/output]', 'numOutputRows': -1}},\n",
              " {'id': '4518de10-4e7b-44ff-b537-5252a262662d',\n",
              "  'runId': '9bc35863-be8b-4e5e-b5b0-0200efbc29b3',\n",
              "  'name': None,\n",
              "  'timestamp': '2024-11-20T20:03:50.000Z',\n",
              "  'batchId': 2,\n",
              "  'numInputRows': 26,\n",
              "  'inputRowsPerSecond': 5.2,\n",
              "  'processedRowsPerSecond': 104.0,\n",
              "  'durationMs': {'addBatch': 152,\n",
              "   'commitOffsets': 32,\n",
              "   'getBatch': 7,\n",
              "   'latestOffset': 29,\n",
              "   'queryPlanning': 6,\n",
              "   'triggerExecution': 250,\n",
              "   'walCommit': 23},\n",
              "  'stateOperators': [],\n",
              "  'sources': [{'description': 'FileStreamSource[file:/content/input]',\n",
              "    'startOffset': {'logOffset': 1},\n",
              "    'endOffset': {'logOffset': 2},\n",
              "    'latestOffset': None,\n",
              "    'numInputRows': 26,\n",
              "    'inputRowsPerSecond': 5.2,\n",
              "    'processedRowsPerSecond': 104.0}],\n",
              "  'sink': {'description': 'FileSink[/content/output]', 'numOutputRows': -1}},\n",
              " {'id': '4518de10-4e7b-44ff-b537-5252a262662d',\n",
              "  'runId': '9bc35863-be8b-4e5e-b5b0-0200efbc29b3',\n",
              "  'name': None,\n",
              "  'timestamp': '2024-11-20T20:04:00.000Z',\n",
              "  'batchId': 3,\n",
              "  'numInputRows': 16,\n",
              "  'inputRowsPerSecond': 3.2,\n",
              "  'processedRowsPerSecond': 67.22689075630252,\n",
              "  'durationMs': {'addBatch': 144,\n",
              "   'commitOffsets': 30,\n",
              "   'getBatch': 6,\n",
              "   'latestOffset': 28,\n",
              "   'queryPlanning': 4,\n",
              "   'triggerExecution': 238,\n",
              "   'walCommit': 24},\n",
              "  'stateOperators': [],\n",
              "  'sources': [{'description': 'FileStreamSource[file:/content/input]',\n",
              "    'startOffset': {'logOffset': 2},\n",
              "    'endOffset': {'logOffset': 3},\n",
              "    'latestOffset': None,\n",
              "    'numInputRows': 16,\n",
              "    'inputRowsPerSecond': 3.2,\n",
              "    'processedRowsPerSecond': 67.22689075630252}],\n",
              "  'sink': {'description': 'FileSink[/content/output]', 'numOutputRows': -1}},\n",
              " {'id': '4518de10-4e7b-44ff-b537-5252a262662d',\n",
              "  'runId': '9bc35863-be8b-4e5e-b5b0-0200efbc29b3',\n",
              "  'name': None,\n",
              "  'timestamp': '2024-11-20T20:04:10.000Z',\n",
              "  'batchId': 4,\n",
              "  'numInputRows': 23,\n",
              "  'inputRowsPerSecond': 4.6009201840368075,\n",
              "  'processedRowsPerSecond': 68.65671641791045,\n",
              "  'durationMs': {'addBatch': 203,\n",
              "   'commitOffsets': 36,\n",
              "   'getBatch': 8,\n",
              "   'latestOffset': 42,\n",
              "   'queryPlanning': 11,\n",
              "   'triggerExecution': 335,\n",
              "   'walCommit': 34},\n",
              "  'stateOperators': [],\n",
              "  'sources': [{'description': 'FileStreamSource[file:/content/input]',\n",
              "    'startOffset': {'logOffset': 3},\n",
              "    'endOffset': {'logOffset': 4},\n",
              "    'latestOffset': None,\n",
              "    'numInputRows': 23,\n",
              "    'inputRowsPerSecond': 4.6009201840368075,\n",
              "    'processedRowsPerSecond': 68.65671641791045}],\n",
              "  'sink': {'description': 'FileSink[/content/output]', 'numOutputRows': -1}},\n",
              " {'id': '4518de10-4e7b-44ff-b537-5252a262662d',\n",
              "  'runId': '9bc35863-be8b-4e5e-b5b0-0200efbc29b3',\n",
              "  'name': None,\n",
              "  'timestamp': '2024-11-20T20:04:20.001Z',\n",
              "  'batchId': 5,\n",
              "  'numInputRows': 16,\n",
              "  'inputRowsPerSecond': 3.199360127974405,\n",
              "  'processedRowsPerSecond': 65.84362139917695,\n",
              "  'durationMs': {'addBatch': 153,\n",
              "   'commitOffsets': 23,\n",
              "   'getBatch': 7,\n",
              "   'latestOffset': 29,\n",
              "   'queryPlanning': 5,\n",
              "   'triggerExecution': 243,\n",
              "   'walCommit': 24},\n",
              "  'stateOperators': [],\n",
              "  'sources': [{'description': 'FileStreamSource[file:/content/input]',\n",
              "    'startOffset': {'logOffset': 4},\n",
              "    'endOffset': {'logOffset': 5},\n",
              "    'latestOffset': None,\n",
              "    'numInputRows': 16,\n",
              "    'inputRowsPerSecond': 3.199360127974405,\n",
              "    'processedRowsPerSecond': 65.84362139917695}],\n",
              "  'sink': {'description': 'FileSink[/content/output]', 'numOutputRows': -1}},\n",
              " {'id': '4518de10-4e7b-44ff-b537-5252a262662d',\n",
              "  'runId': '9bc35863-be8b-4e5e-b5b0-0200efbc29b3',\n",
              "  'name': None,\n",
              "  'timestamp': '2024-11-20T20:04:30.001Z',\n",
              "  'batchId': 6,\n",
              "  'numInputRows': 21,\n",
              "  'inputRowsPerSecond': 4.199160167966406,\n",
              "  'processedRowsPerSecond': 75.26881720430107,\n",
              "  'durationMs': {'addBatch': 155,\n",
              "   'commitOffsets': 32,\n",
              "   'getBatch': 8,\n",
              "   'latestOffset': 28,\n",
              "   'queryPlanning': 7,\n",
              "   'triggerExecution': 279,\n",
              "   'walCommit': 33},\n",
              "  'stateOperators': [],\n",
              "  'sources': [{'description': 'FileStreamSource[file:/content/input]',\n",
              "    'startOffset': {'logOffset': 5},\n",
              "    'endOffset': {'logOffset': 6},\n",
              "    'latestOffset': None,\n",
              "    'numInputRows': 21,\n",
              "    'inputRowsPerSecond': 4.199160167966406,\n",
              "    'processedRowsPerSecond': 75.26881720430107}],\n",
              "  'sink': {'description': 'FileSink[/content/output]', 'numOutputRows': -1}},\n",
              " {'id': '4518de10-4e7b-44ff-b537-5252a262662d',\n",
              "  'runId': '9bc35863-be8b-4e5e-b5b0-0200efbc29b3',\n",
              "  'name': None,\n",
              "  'timestamp': '2024-11-20T20:04:40.000Z',\n",
              "  'batchId': 7,\n",
              "  'numInputRows': 22,\n",
              "  'inputRowsPerSecond': 4.4,\n",
              "  'processedRowsPerSecond': 94.4206008583691,\n",
              "  'durationMs': {'addBatch': 141,\n",
              "   'commitOffsets': 25,\n",
              "   'getBatch': 5,\n",
              "   'latestOffset': 31,\n",
              "   'queryPlanning': 4,\n",
              "   'triggerExecution': 233,\n",
              "   'walCommit': 24},\n",
              "  'stateOperators': [],\n",
              "  'sources': [{'description': 'FileStreamSource[file:/content/input]',\n",
              "    'startOffset': {'logOffset': 6},\n",
              "    'endOffset': {'logOffset': 7},\n",
              "    'latestOffset': None,\n",
              "    'numInputRows': 22,\n",
              "    'inputRowsPerSecond': 4.4,\n",
              "    'processedRowsPerSecond': 94.4206008583691}],\n",
              "  'sink': {'description': 'FileSink[/content/output]', 'numOutputRows': -1}},\n",
              " {'id': '4518de10-4e7b-44ff-b537-5252a262662d',\n",
              "  'runId': '9bc35863-be8b-4e5e-b5b0-0200efbc29b3',\n",
              "  'name': None,\n",
              "  'timestamp': '2024-11-20T20:04:50.000Z',\n",
              "  'batchId': 8,\n",
              "  'numInputRows': 17,\n",
              "  'inputRowsPerSecond': 3.400680136027206,\n",
              "  'processedRowsPerSecond': 69.67213114754098,\n",
              "  'durationMs': {'addBatch': 124,\n",
              "   'commitOffsets': 33,\n",
              "   'getBatch': 6,\n",
              "   'latestOffset': 30,\n",
              "   'queryPlanning': 4,\n",
              "   'triggerExecution': 244,\n",
              "   'walCommit': 46},\n",
              "  'stateOperators': [],\n",
              "  'sources': [{'description': 'FileStreamSource[file:/content/input]',\n",
              "    'startOffset': {'logOffset': 7},\n",
              "    'endOffset': {'logOffset': 8},\n",
              "    'latestOffset': None,\n",
              "    'numInputRows': 17,\n",
              "    'inputRowsPerSecond': 3.400680136027206,\n",
              "    'processedRowsPerSecond': 69.67213114754098}],\n",
              "  'sink': {'description': 'FileSink[/content/output]', 'numOutputRows': -1}},\n",
              " {'id': '4518de10-4e7b-44ff-b537-5252a262662d',\n",
              "  'runId': '9bc35863-be8b-4e5e-b5b0-0200efbc29b3',\n",
              "  'name': None,\n",
              "  'timestamp': '2024-11-20T20:05:00.000Z',\n",
              "  'batchId': 9,\n",
              "  'numInputRows': 18,\n",
              "  'inputRowsPerSecond': 3.6,\n",
              "  'processedRowsPerSecond': 86.95652173913044,\n",
              "  'durationMs': {'addBatch': 118,\n",
              "   'commitOffsets': 24,\n",
              "   'getBatch': 6,\n",
              "   'latestOffset': 31,\n",
              "   'queryPlanning': 5,\n",
              "   'triggerExecution': 207,\n",
              "   'walCommit': 23},\n",
              "  'stateOperators': [],\n",
              "  'sources': [{'description': 'FileStreamSource[file:/content/input]',\n",
              "    'startOffset': {'logOffset': 8},\n",
              "    'endOffset': {'logOffset': 9},\n",
              "    'latestOffset': None,\n",
              "    'numInputRows': 18,\n",
              "    'inputRowsPerSecond': 3.6,\n",
              "    'processedRowsPerSecond': 86.95652173913044}],\n",
              "  'sink': {'description': 'FileSink[/content/output]', 'numOutputRows': -1}},\n",
              " {'id': '4518de10-4e7b-44ff-b537-5252a262662d',\n",
              "  'runId': '9bc35863-be8b-4e5e-b5b0-0200efbc29b3',\n",
              "  'name': None,\n",
              "  'timestamp': '2024-11-20T20:05:10.000Z',\n",
              "  'batchId': 10,\n",
              "  'numInputRows': 21,\n",
              "  'inputRowsPerSecond': 4.200840168033607,\n",
              "  'processedRowsPerSecond': 60.00000000000001,\n",
              "  'durationMs': {'addBatch': 185,\n",
              "   'commitOffsets': 46,\n",
              "   'getBatch': 8,\n",
              "   'latestOffset': 57,\n",
              "   'queryPlanning': 7,\n",
              "   'triggerExecution': 350,\n",
              "   'walCommit': 45},\n",
              "  'stateOperators': [],\n",
              "  'sources': [{'description': 'FileStreamSource[file:/content/input]',\n",
              "    'startOffset': {'logOffset': 9},\n",
              "    'endOffset': {'logOffset': 10},\n",
              "    'latestOffset': None,\n",
              "    'numInputRows': 21,\n",
              "    'inputRowsPerSecond': 4.200840168033607,\n",
              "    'processedRowsPerSecond': 60.00000000000001}],\n",
              "  'sink': {'description': 'FileSink[/content/output]', 'numOutputRows': -1}},\n",
              " {'id': '4518de10-4e7b-44ff-b537-5252a262662d',\n",
              "  'runId': '9bc35863-be8b-4e5e-b5b0-0200efbc29b3',\n",
              "  'name': None,\n",
              "  'timestamp': '2024-11-20T20:05:20.000Z',\n",
              "  'batchId': 11,\n",
              "  'numInputRows': 18,\n",
              "  'inputRowsPerSecond': 3.6,\n",
              "  'processedRowsPerSecond': 84.50704225352113,\n",
              "  'durationMs': {'addBatch': 118,\n",
              "   'commitOffsets': 23,\n",
              "   'getBatch': 13,\n",
              "   'latestOffset': 30,\n",
              "   'queryPlanning': 4,\n",
              "   'triggerExecution': 213,\n",
              "   'walCommit': 24},\n",
              "  'stateOperators': [],\n",
              "  'sources': [{'description': 'FileStreamSource[file:/content/input]',\n",
              "    'startOffset': {'logOffset': 10},\n",
              "    'endOffset': {'logOffset': 11},\n",
              "    'latestOffset': None,\n",
              "    'numInputRows': 18,\n",
              "    'inputRowsPerSecond': 3.6,\n",
              "    'processedRowsPerSecond': 84.50704225352113}],\n",
              "  'sink': {'description': 'FileSink[/content/output]', 'numOutputRows': -1}},\n",
              " {'id': '4518de10-4e7b-44ff-b537-5252a262662d',\n",
              "  'runId': '9bc35863-be8b-4e5e-b5b0-0200efbc29b3',\n",
              "  'name': None,\n",
              "  'timestamp': '2024-11-20T20:05:35.000Z',\n",
              "  'batchId': 12,\n",
              "  'numInputRows': 13,\n",
              "  'inputRowsPerSecond': 2.6,\n",
              "  'processedRowsPerSecond': 59.90783410138249,\n",
              "  'durationMs': {'addBatch': 117,\n",
              "   'commitOffsets': 37,\n",
              "   'getBatch': 6,\n",
              "   'latestOffset': 29,\n",
              "   'queryPlanning': 5,\n",
              "   'triggerExecution': 217,\n",
              "   'walCommit': 23},\n",
              "  'stateOperators': [],\n",
              "  'sources': [{'description': 'FileStreamSource[file:/content/input]',\n",
              "    'startOffset': {'logOffset': 11},\n",
              "    'endOffset': {'logOffset': 12},\n",
              "    'latestOffset': None,\n",
              "    'numInputRows': 13,\n",
              "    'inputRowsPerSecond': 2.6,\n",
              "    'processedRowsPerSecond': 59.90783410138249}],\n",
              "  'sink': {'description': 'FileSink[/content/output]', 'numOutputRows': -1}},\n",
              " {'id': '4518de10-4e7b-44ff-b537-5252a262662d',\n",
              "  'runId': '9bc35863-be8b-4e5e-b5b0-0200efbc29b3',\n",
              "  'name': None,\n",
              "  'timestamp': '2024-11-20T20:05:45.000Z',\n",
              "  'batchId': 13,\n",
              "  'numInputRows': 20,\n",
              "  'inputRowsPerSecond': 4.0,\n",
              "  'processedRowsPerSecond': 31.89792663476874,\n",
              "  'durationMs': {'addBatch': 367,\n",
              "   'commitOffsets': 171,\n",
              "   'getBatch': 9,\n",
              "   'latestOffset': 40,\n",
              "   'queryPlanning': 6,\n",
              "   'triggerExecution': 627,\n",
              "   'walCommit': 33},\n",
              "  'stateOperators': [],\n",
              "  'sources': [{'description': 'FileStreamSource[file:/content/input]',\n",
              "    'startOffset': {'logOffset': 12},\n",
              "    'endOffset': {'logOffset': 13},\n",
              "    'latestOffset': None,\n",
              "    'numInputRows': 20,\n",
              "    'inputRowsPerSecond': 4.0,\n",
              "    'processedRowsPerSecond': 31.89792663476874}],\n",
              "  'sink': {'description': 'FileSink[/content/output]', 'numOutputRows': -1}},\n",
              " {'id': '4518de10-4e7b-44ff-b537-5252a262662d',\n",
              "  'runId': '9bc35863-be8b-4e5e-b5b0-0200efbc29b3',\n",
              "  'name': None,\n",
              "  'timestamp': '2024-11-20T20:05:55.000Z',\n",
              "  'batchId': 14,\n",
              "  'numInputRows': 24,\n",
              "  'inputRowsPerSecond': 4.8,\n",
              "  'processedRowsPerSecond': 116.50485436893204,\n",
              "  'durationMs': {'addBatch': 118,\n",
              "   'commitOffsets': 23,\n",
              "   'getBatch': 5,\n",
              "   'latestOffset': 28,\n",
              "   'queryPlanning': 4,\n",
              "   'triggerExecution': 206,\n",
              "   'walCommit': 23},\n",
              "  'stateOperators': [],\n",
              "  'sources': [{'description': 'FileStreamSource[file:/content/input]',\n",
              "    'startOffset': {'logOffset': 13},\n",
              "    'endOffset': {'logOffset': 14},\n",
              "    'latestOffset': None,\n",
              "    'numInputRows': 24,\n",
              "    'inputRowsPerSecond': 4.8,\n",
              "    'processedRowsPerSecond': 116.50485436893204}],\n",
              "  'sink': {'description': 'FileSink[/content/output]', 'numOutputRows': -1}},\n",
              " {'id': '4518de10-4e7b-44ff-b537-5252a262662d',\n",
              "  'runId': '9bc35863-be8b-4e5e-b5b0-0200efbc29b3',\n",
              "  'name': None,\n",
              "  'timestamp': '2024-11-20T20:06:05.000Z',\n",
              "  'batchId': 15,\n",
              "  'numInputRows': 28,\n",
              "  'inputRowsPerSecond': 5.601120224044809,\n",
              "  'processedRowsPerSecond': 137.9310344827586,\n",
              "  'durationMs': {'addBatch': 117,\n",
              "   'commitOffsets': 24,\n",
              "   'getBatch': 5,\n",
              "   'latestOffset': 29,\n",
              "   'queryPlanning': 5,\n",
              "   'triggerExecution': 203,\n",
              "   'walCommit': 23},\n",
              "  'stateOperators': [],\n",
              "  'sources': [{'description': 'FileStreamSource[file:/content/input]',\n",
              "    'startOffset': {'logOffset': 14},\n",
              "    'endOffset': {'logOffset': 15},\n",
              "    'latestOffset': None,\n",
              "    'numInputRows': 28,\n",
              "    'inputRowsPerSecond': 5.601120224044809,\n",
              "    'processedRowsPerSecond': 137.9310344827586}],\n",
              "  'sink': {'description': 'FileSink[/content/output]', 'numOutputRows': -1}},\n",
              " {'id': '4518de10-4e7b-44ff-b537-5252a262662d',\n",
              "  'runId': '9bc35863-be8b-4e5e-b5b0-0200efbc29b3',\n",
              "  'name': None,\n",
              "  'timestamp': '2024-11-20T20:06:15.000Z',\n",
              "  'batchId': 16,\n",
              "  'numInputRows': 23,\n",
              "  'inputRowsPerSecond': 4.6,\n",
              "  'processedRowsPerSecond': 109.52380952380953,\n",
              "  'durationMs': {'addBatch': 120,\n",
              "   'commitOffsets': 23,\n",
              "   'getBatch': 7,\n",
              "   'latestOffset': 31,\n",
              "   'queryPlanning': 4,\n",
              "   'triggerExecution': 210,\n",
              "   'walCommit': 24},\n",
              "  'stateOperators': [],\n",
              "  'sources': [{'description': 'FileStreamSource[file:/content/input]',\n",
              "    'startOffset': {'logOffset': 15},\n",
              "    'endOffset': {'logOffset': 16},\n",
              "    'latestOffset': None,\n",
              "    'numInputRows': 23,\n",
              "    'inputRowsPerSecond': 4.6,\n",
              "    'processedRowsPerSecond': 109.52380952380953}],\n",
              "  'sink': {'description': 'FileSink[/content/output]', 'numOutputRows': -1}},\n",
              " {'id': '4518de10-4e7b-44ff-b537-5252a262662d',\n",
              "  'runId': '9bc35863-be8b-4e5e-b5b0-0200efbc29b3',\n",
              "  'name': None,\n",
              "  'timestamp': '2024-11-20T20:06:25.000Z',\n",
              "  'batchId': 17,\n",
              "  'numInputRows': 17,\n",
              "  'inputRowsPerSecond': 3.4,\n",
              "  'processedRowsPerSecond': 79.81220657276995,\n",
              "  'durationMs': {'addBatch': 113,\n",
              "   'commitOffsets': 24,\n",
              "   'getBatch': 6,\n",
              "   'latestOffset': 39,\n",
              "   'queryPlanning': 4,\n",
              "   'triggerExecution': 213,\n",
              "   'walCommit': 25},\n",
              "  'stateOperators': [],\n",
              "  'sources': [{'description': 'FileStreamSource[file:/content/input]',\n",
              "    'startOffset': {'logOffset': 16},\n",
              "    'endOffset': {'logOffset': 17},\n",
              "    'latestOffset': None,\n",
              "    'numInputRows': 17,\n",
              "    'inputRowsPerSecond': 3.4,\n",
              "    'processedRowsPerSecond': 79.81220657276995}],\n",
              "  'sink': {'description': 'FileSink[/content/output]', 'numOutputRows': -1}},\n",
              " {'id': '4518de10-4e7b-44ff-b537-5252a262662d',\n",
              "  'runId': '9bc35863-be8b-4e5e-b5b0-0200efbc29b3',\n",
              "  'name': None,\n",
              "  'timestamp': '2024-11-20T20:06:35.000Z',\n",
              "  'batchId': 18,\n",
              "  'numInputRows': 20,\n",
              "  'inputRowsPerSecond': 4.0,\n",
              "  'processedRowsPerSecond': 98.52216748768473,\n",
              "  'durationMs': {'addBatch': 113,\n",
              "   'commitOffsets': 23,\n",
              "   'getBatch': 6,\n",
              "   'latestOffset': 29,\n",
              "   'queryPlanning': 6,\n",
              "   'triggerExecution': 203,\n",
              "   'walCommit': 24},\n",
              "  'stateOperators': [],\n",
              "  'sources': [{'description': 'FileStreamSource[file:/content/input]',\n",
              "    'startOffset': {'logOffset': 17},\n",
              "    'endOffset': {'logOffset': 18},\n",
              "    'latestOffset': None,\n",
              "    'numInputRows': 20,\n",
              "    'inputRowsPerSecond': 4.0,\n",
              "    'processedRowsPerSecond': 98.52216748768473}],\n",
              "  'sink': {'description': 'FileSink[/content/output]', 'numOutputRows': -1}},\n",
              " {'id': '4518de10-4e7b-44ff-b537-5252a262662d',\n",
              "  'runId': '9bc35863-be8b-4e5e-b5b0-0200efbc29b3',\n",
              "  'name': None,\n",
              "  'timestamp': '2024-11-20T20:06:45.000Z',\n",
              "  'batchId': 19,\n",
              "  'numInputRows': 26,\n",
              "  'inputRowsPerSecond': 5.2,\n",
              "  'processedRowsPerSecond': 104.0,\n",
              "  'durationMs': {'addBatch': 145,\n",
              "   'commitOffsets': 34,\n",
              "   'getBatch': 6,\n",
              "   'latestOffset': 37,\n",
              "   'queryPlanning': 4,\n",
              "   'triggerExecution': 250,\n",
              "   'walCommit': 23},\n",
              "  'stateOperators': [],\n",
              "  'sources': [{'description': 'FileStreamSource[file:/content/input]',\n",
              "    'startOffset': {'logOffset': 18},\n",
              "    'endOffset': {'logOffset': 19},\n",
              "    'latestOffset': None,\n",
              "    'numInputRows': 26,\n",
              "    'inputRowsPerSecond': 5.2,\n",
              "    'processedRowsPerSecond': 104.0}],\n",
              "  'sink': {'description': 'FileSink[/content/output]', 'numOutputRows': -1}},\n",
              " {'id': '4518de10-4e7b-44ff-b537-5252a262662d',\n",
              "  'runId': '9bc35863-be8b-4e5e-b5b0-0200efbc29b3',\n",
              "  'name': None,\n",
              "  'timestamp': '2024-11-20T20:07:00.000Z',\n",
              "  'batchId': 20,\n",
              "  'numInputRows': 0,\n",
              "  'inputRowsPerSecond': 0.0,\n",
              "  'processedRowsPerSecond': 0.0,\n",
              "  'durationMs': {'latestOffset': 3, 'triggerExecution': 3},\n",
              "  'stateOperators': [],\n",
              "  'sources': [{'description': 'FileStreamSource[file:/content/input]',\n",
              "    'startOffset': {'logOffset': 19},\n",
              "    'endOffset': {'logOffset': 19},\n",
              "    'latestOffset': None,\n",
              "    'numInputRows': 0,\n",
              "    'inputRowsPerSecond': 0.0,\n",
              "    'processedRowsPerSecond': 0.0}],\n",
              "  'sink': {'description': 'FileSink[/content/output]', 'numOutputRows': -1}},\n",
              " {'id': '4518de10-4e7b-44ff-b537-5252a262662d',\n",
              "  'runId': '9bc35863-be8b-4e5e-b5b0-0200efbc29b3',\n",
              "  'name': None,\n",
              "  'timestamp': '2024-11-20T20:07:10.000Z',\n",
              "  'batchId': 20,\n",
              "  'numInputRows': 0,\n",
              "  'inputRowsPerSecond': 0.0,\n",
              "  'processedRowsPerSecond': 0.0,\n",
              "  'durationMs': {'latestOffset': 4, 'triggerExecution': 4},\n",
              "  'stateOperators': [],\n",
              "  'sources': [{'description': 'FileStreamSource[file:/content/input]',\n",
              "    'startOffset': {'logOffset': 19},\n",
              "    'endOffset': {'logOffset': 19},\n",
              "    'latestOffset': None,\n",
              "    'numInputRows': 0,\n",
              "    'inputRowsPerSecond': 0.0,\n",
              "    'processedRowsPerSecond': 0.0}],\n",
              "  'sink': {'description': 'FileSink[/content/output]', 'numOutputRows': -1}},\n",
              " {'id': '4518de10-4e7b-44ff-b537-5252a262662d',\n",
              "  'runId': '9bc35863-be8b-4e5e-b5b0-0200efbc29b3',\n",
              "  'name': None,\n",
              "  'timestamp': '2024-11-20T20:07:20.000Z',\n",
              "  'batchId': 20,\n",
              "  'numInputRows': 0,\n",
              "  'inputRowsPerSecond': 0.0,\n",
              "  'processedRowsPerSecond': 0.0,\n",
              "  'durationMs': {'latestOffset': 4, 'triggerExecution': 5},\n",
              "  'stateOperators': [],\n",
              "  'sources': [{'description': 'FileStreamSource[file:/content/input]',\n",
              "    'startOffset': {'logOffset': 19},\n",
              "    'endOffset': {'logOffset': 19},\n",
              "    'latestOffset': None,\n",
              "    'numInputRows': 0,\n",
              "    'inputRowsPerSecond': 0.0,\n",
              "    'processedRowsPerSecond': 0.0}],\n",
              "  'sink': {'description': 'FileSink[/content/output]', 'numOutputRows': -1}},\n",
              " {'id': '4518de10-4e7b-44ff-b537-5252a262662d',\n",
              "  'runId': '9bc35863-be8b-4e5e-b5b0-0200efbc29b3',\n",
              "  'name': None,\n",
              "  'timestamp': '2024-11-20T20:07:35.001Z',\n",
              "  'batchId': 20,\n",
              "  'numInputRows': 0,\n",
              "  'inputRowsPerSecond': 0.0,\n",
              "  'processedRowsPerSecond': 0.0,\n",
              "  'durationMs': {'latestOffset': 4, 'triggerExecution': 4},\n",
              "  'stateOperators': [],\n",
              "  'sources': [{'description': 'FileStreamSource[file:/content/input]',\n",
              "    'startOffset': {'logOffset': 19},\n",
              "    'endOffset': {'logOffset': 19},\n",
              "    'latestOffset': None,\n",
              "    'numInputRows': 0,\n",
              "    'inputRowsPerSecond': 0.0,\n",
              "    'processedRowsPerSecond': 0.0}],\n",
              "  'sink': {'description': 'FileSink[/content/output]', 'numOutputRows': -1}},\n",
              " {'id': '4518de10-4e7b-44ff-b537-5252a262662d',\n",
              "  'runId': '9bc35863-be8b-4e5e-b5b0-0200efbc29b3',\n",
              "  'name': None,\n",
              "  'timestamp': '2024-11-20T20:07:50.000Z',\n",
              "  'batchId': 20,\n",
              "  'numInputRows': 0,\n",
              "  'inputRowsPerSecond': 0.0,\n",
              "  'processedRowsPerSecond': 0.0,\n",
              "  'durationMs': {'latestOffset': 4, 'triggerExecution': 4},\n",
              "  'stateOperators': [],\n",
              "  'sources': [{'description': 'FileStreamSource[file:/content/input]',\n",
              "    'startOffset': {'logOffset': 19},\n",
              "    'endOffset': {'logOffset': 19},\n",
              "    'latestOffset': None,\n",
              "    'numInputRows': 0,\n",
              "    'inputRowsPerSecond': 0.0,\n",
              "    'processedRowsPerSecond': 0.0}],\n",
              "  'sink': {'description': 'FileSink[/content/output]', 'numOutputRows': -1}},\n",
              " {'id': '4518de10-4e7b-44ff-b537-5252a262662d',\n",
              "  'runId': '9bc35863-be8b-4e5e-b5b0-0200efbc29b3',\n",
              "  'name': None,\n",
              "  'timestamp': '2024-11-20T20:08:05.000Z',\n",
              "  'batchId': 20,\n",
              "  'numInputRows': 0,\n",
              "  'inputRowsPerSecond': 0.0,\n",
              "  'processedRowsPerSecond': 0.0,\n",
              "  'durationMs': {'latestOffset': 3, 'triggerExecution': 3},\n",
              "  'stateOperators': [],\n",
              "  'sources': [{'description': 'FileStreamSource[file:/content/input]',\n",
              "    'startOffset': {'logOffset': 19},\n",
              "    'endOffset': {'logOffset': 19},\n",
              "    'latestOffset': None,\n",
              "    'numInputRows': 0,\n",
              "    'inputRowsPerSecond': 0.0,\n",
              "    'processedRowsPerSecond': 0.0}],\n",
              "  'sink': {'description': 'FileSink[/content/output]', 'numOutputRows': -1}}]"
            ]
          },
          "metadata": {},
          "execution_count": 294
        }
      ]
    },
    {
      "cell_type": "code",
      "source": [
        "c = 0\n",
        "for i in query.recentProgress:\n",
        "  c += i['numInputRows']\n",
        "\n",
        "print(c)"
      ],
      "metadata": {
        "id": "7bA1nrjiIhjj",
        "outputId": "69239997-3bfe-42e7-a451-f2fa0263e9e0",
        "colab": {
          "base_uri": "https://localhost:8080/"
        }
      },
      "execution_count": 297,
      "outputs": [
        {
          "output_type": "stream",
          "name": "stdout",
          "text": [
            "413\n"
          ]
        }
      ]
    },
    {
      "cell_type": "code",
      "source": [
        "df.count()"
      ],
      "metadata": {
        "id": "ILKg-paPFy65",
        "outputId": "e4113634-aa9d-4a29-fb47-f22620459e84",
        "colab": {
          "base_uri": "https://localhost:8080/"
        }
      },
      "execution_count": 253,
      "outputs": [
        {
          "output_type": "execute_result",
          "data": {
            "text/plain": [
              "433"
            ]
          },
          "metadata": {},
          "execution_count": 253
        }
      ]
    },
    {
      "cell_type": "code",
      "source": [
        "input.printSchema()"
      ],
      "metadata": {
        "id": "fUSx-6NsMwEK",
        "outputId": "c50bb390-b8c0-43ea-94d6-c8eadd9a2ad6",
        "colab": {
          "base_uri": "https://localhost:8080/"
        }
      },
      "execution_count": 300,
      "outputs": [
        {
          "output_type": "stream",
          "name": "stdout",
          "text": [
            "root\n",
            " |-- _c0: string (nullable = true)\n",
            " |-- _c1: string (nullable = true)\n",
            " |-- _c2: string (nullable = true)\n",
            " |-- _c3: string (nullable = true)\n",
            " |-- _c4: string (nullable = true)\n",
            " |-- _c5: string (nullable = true)\n",
            " |-- _c6: string (nullable = true)\n",
            " |-- _c7: string (nullable = true)\n",
            " |-- _c8: string (nullable = true)\n",
            " |-- _c9: string (nullable = true)\n",
            " |-- _c10: string (nullable = true)\n",
            " |-- _c11: string (nullable = true)\n",
            " |-- _c12: string (nullable = true)\n",
            " |-- _c13: string (nullable = true)\n",
            " |-- _c14: string (nullable = true)\n",
            " |-- _c15: string (nullable = true)\n",
            "\n"
          ]
        }
      ]
    },
    {
      "cell_type": "code",
      "source": [
        "output.join(input, output.hash == input.hash, 'leftanti').show()"
      ],
      "metadata": {
        "id": "cRnopiX4JrMl",
        "outputId": "2dd894a4-e7a4-43c6-81fe-b09ffd5cd3bc",
        "colab": {
          "base_uri": "https://localhost:8080/",
          "height": 263
        }
      },
      "execution_count": 298,
      "outputs": [
        {
          "output_type": "error",
          "ename": "AttributeError",
          "evalue": "'DataFrame' object has no attribute 'hash'",
          "traceback": [
            "\u001b[0;31m---------------------------------------------------------------------------\u001b[0m",
            "\u001b[0;31mAttributeError\u001b[0m                            Traceback (most recent call last)",
            "\u001b[0;32m<ipython-input-298-b3b1ac2c3333>\u001b[0m in \u001b[0;36m<cell line: 1>\u001b[0;34m()\u001b[0m\n\u001b[0;32m----> 1\u001b[0;31m \u001b[0moutput\u001b[0m\u001b[0;34m.\u001b[0m\u001b[0mjoin\u001b[0m\u001b[0;34m(\u001b[0m\u001b[0minput\u001b[0m\u001b[0;34m,\u001b[0m \u001b[0moutput\u001b[0m\u001b[0;34m.\u001b[0m\u001b[0mhash\u001b[0m \u001b[0;34m==\u001b[0m \u001b[0minput\u001b[0m\u001b[0;34m.\u001b[0m\u001b[0mhash\u001b[0m\u001b[0;34m,\u001b[0m \u001b[0;34m'leftanti'\u001b[0m\u001b[0;34m)\u001b[0m\u001b[0;34m.\u001b[0m\u001b[0mshow\u001b[0m\u001b[0;34m(\u001b[0m\u001b[0;34m)\u001b[0m\u001b[0;34m\u001b[0m\u001b[0;34m\u001b[0m\u001b[0m\n\u001b[0m",
            "\u001b[0;32m/usr/local/lib/python3.10/dist-packages/pyspark/sql/dataframe.py\u001b[0m in \u001b[0;36m__getattr__\u001b[0;34m(self, name)\u001b[0m\n\u001b[1;32m   3127\u001b[0m         \"\"\"\n\u001b[1;32m   3128\u001b[0m         \u001b[0;32mif\u001b[0m \u001b[0mname\u001b[0m \u001b[0;32mnot\u001b[0m \u001b[0;32min\u001b[0m \u001b[0mself\u001b[0m\u001b[0;34m.\u001b[0m\u001b[0mcolumns\u001b[0m\u001b[0;34m:\u001b[0m\u001b[0;34m\u001b[0m\u001b[0;34m\u001b[0m\u001b[0m\n\u001b[0;32m-> 3129\u001b[0;31m             raise AttributeError(\n\u001b[0m\u001b[1;32m   3130\u001b[0m                 \u001b[0;34m\"'%s' object has no attribute '%s'\"\u001b[0m \u001b[0;34m%\u001b[0m \u001b[0;34m(\u001b[0m\u001b[0mself\u001b[0m\u001b[0;34m.\u001b[0m\u001b[0m__class__\u001b[0m\u001b[0;34m.\u001b[0m\u001b[0m__name__\u001b[0m\u001b[0;34m,\u001b[0m \u001b[0mname\u001b[0m\u001b[0;34m)\u001b[0m\u001b[0;34m\u001b[0m\u001b[0;34m\u001b[0m\u001b[0m\n\u001b[1;32m   3131\u001b[0m             )\n",
            "\u001b[0;31mAttributeError\u001b[0m: 'DataFrame' object has no attribute 'hash'"
          ]
        }
      ]
    },
    {
      "cell_type": "code",
      "source": [
        "output.count()"
      ],
      "metadata": {
        "id": "0tDrFs49JslI",
        "outputId": "12d7ff5b-4a0d-4bae-a9bb-217ab6ed17e2",
        "colab": {
          "base_uri": "https://localhost:8080/"
        }
      },
      "execution_count": 255,
      "outputs": [
        {
          "output_type": "execute_result",
          "data": {
            "text/plain": [
              "413"
            ]
          },
          "metadata": {},
          "execution_count": 255
        }
      ]
    },
    {
      "cell_type": "code",
      "source": [
        "df.show()\n"
      ],
      "metadata": {
        "id": "Vk8AsqsDJuBl",
        "outputId": "e2714020-8376-4cdb-c3af-dfa525ce67a3",
        "colab": {
          "base_uri": "https://localhost:8080/"
        }
      },
      "execution_count": 256,
      "outputs": [
        {
          "output_type": "stream",
          "name": "stdout",
          "text": [
            "+---------------+-------+-------------------+-------+-----------+-----------------+-----------------------+-----------+------------+-----------------------------+-----------------+--------------------+------------------------+-----------------------------+-------------------------------+\n",
            "|      Area Name|Area ID|          Park Name|Park ID|Squirrel ID|Primary Fur Color|Highlights in Fur Color|Color Notes|    Location|Above Ground (Height in Feet)|Specific Location|          Activities|Interactions with Humans|Squirrel Latitude (DD.DDDDDD)|Squirrel Longitude (-DD.DDDDDD)|\n",
            "+---------------+-------+-------------------+-------+-----------+-----------------+-----------------------+-----------+------------+-----------------------------+-----------------+--------------------+------------------------+-----------------------------+-------------------------------+\n",
            "|UPPER MANHATTAN|      A|    Fort Tryon Park|     01|    A-01-01|             Gray|                  White|       NULL|Ground Plane|                         NULL|             NULL|            Foraging|             Indifferent|                         NULL|                       40.85941|\n",
            "|UPPER MANHATTAN|      A|    Fort Tryon Park|     01|    A-01-02|             Gray|                  White|       NULL|Ground Plane|                         NULL|             NULL|            Foraging|             Indifferent|                 Looks skinny|                      40.859436|\n",
            "|UPPER MANHATTAN|      A|    Fort Tryon Park|     01|    A-01-03|             Gray|                  White|       NULL|Ground Plane|                         NULL|             NULL|Eating, Digging s...|             Indifferent|                         NULL|                      40.859416|\n",
            "|UPPER MANHATTAN|      A|    Fort Tryon Park|     01|    A-01-04|             Gray|                  White|       NULL|Ground Plane|                         NULL|             NULL|             Running|             Indifferent|                         NULL|                      40.859418|\n",
            "|UPPER MANHATTAN|      A|    Fort Tryon Park|     01|    A-01-05|             Gray|               Cinnamon|       NULL|Ground Plane|                         NULL|             NULL|     Running, Eating|             Indifferent|                She left food|                      40.859493|\n",
            "|UPPER MANHATTAN|      A|    Fort Tryon Park|     01|    A-01-06|             Gray|               Cinnamon|       NULL|Ground Plane|                         NULL|             NULL|            Climbing|             Indifferent|                         NULL|                      40.860825|\n",
            "|UPPER MANHATTAN|      A|    Fort Tryon Park|     01|    A-01-07|             Gray|                  White|       NULL|Ground Plane|                         NULL|             NULL|            Foraging|             Indifferent|                         NULL|                      40.860225|\n",
            "|UPPER MANHATTAN|      A|    Fort Tryon Park|     01|    A-01-08|            Black|                   Gray|       NULL|Above Ground|                           10|             NULL|            Climbing|               Runs From|                         NULL|                      40.859965|\n",
            "|UPPER MANHATTAN|      A|    Fort Tryon Park|     01|    A-01-09|             Gray|                  White|       NULL|Ground Plane|                         NULL|             NULL|            Foraging|             Indifferent|                         NULL|                      40.859892|\n",
            "|UPPER MANHATTAN|      A|    Fort Tryon Park|     01|    A-01-10|             Gray|                  White|       NULL|Ground Plane|                         NULL|             NULL|     Eating, Digging|             Indifferent|                         NULL|                      40.859636|\n",
            "|UPPER MANHATTAN|      A|    Fort Tryon Park|     01|    A-01-11|             Gray|                  Black|       NULL|Ground Plane|                         NULL|             NULL|     Eating, Digging|             Indifferent|         was intimidated b...|                      40.859576|\n",
            "|UPPER MANHATTAN|      A|    Fort Tryon Park|     01|    A-01-12|             Gray|                  White|       NULL|Ground Plane|                         NULL|             NULL|             Running|               Runs From|                         NULL|                      40.859989|\n",
            "|UPPER MANHATTAN|      A|J. Hood Wright Park|     02|    A-02-01|             Gray|                   Gray|       NULL|Ground Plane|                         NULL|             NULL|             Running|             Indifferent|                         NULL|                      40.845749|\n",
            "|UPPER MANHATTAN|      A|J. Hood Wright Park|     02|    A-02-02|             Gray|               Cinnamon|       NULL|Above Ground|                            2|             NULL|            Foraging|             Indifferent|                         NULL|                      40.845875|\n",
            "|UPPER MANHATTAN|      A|J. Hood Wright Park|     02|    A-02-03|             Gray|               Cinnamon|       NULL|Ground Plane|                         NULL|             NULL|            Foraging|                    NULL|                         NULL|                      40.845875|\n",
            "|UPPER MANHATTAN|      A|J. Hood Wright Park|     02|    A-02-04|             Gray|               Cinnamon|       NULL|Ground Plane|                         NULL|             NULL|             Running|             Indifferent|                         NULL|                      40.846088|\n",
            "|UPPER MANHATTAN|      A|J. Hood Wright Park|     02|    A-02-05|             Gray|               Cinnamon|       NULL|Ground Plane|                         NULL|             NULL|             Running|               Runs From|                         NULL|                      40.846088|\n",
            "|UPPER MANHATTAN|      A|J. Hood Wright Park|     02|    A-02-06|             Gray|               Cinnamon|       NULL|Ground Plane|                         NULL|             NULL|            Foraging|             Indifferent|                         NULL|                      40.846088|\n",
            "|UPPER MANHATTAN|      A|J. Hood Wright Park|     02|    A-02-07|             Gray|                   Gray|       NULL|Ground Plane|                         NULL|             NULL|                NULL|               Runs From|                         NULL|                      40.846222|\n",
            "|UPPER MANHATTAN|      A|J. Hood Wright Park|     02|    A-02-08|             Gray|               Cinnamon|       NULL|Ground Plane|                         NULL|             NULL|Foraging, Nesting...|             Indifferent|                         NULL|                      40.846222|\n",
            "+---------------+-------+-------------------+-------+-----------+-----------------+-----------------------+-----------+------------+-----------------------------+-----------------+--------------------+------------------------+-----------------------------+-------------------------------+\n",
            "only showing top 20 rows\n",
            "\n"
          ]
        }
      ]
    }
  ],
  "metadata": {
    "colab": {
      "provenance": [],
      "include_colab_link": true
    },
    "kernelspec": {
      "display_name": "Python 3",
      "name": "python3"
    },
    "language_info": {
      "name": "python"
    }
  },
  "nbformat": 4,
  "nbformat_minor": 0
}
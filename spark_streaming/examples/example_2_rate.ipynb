{
  "cells": [
    {
      "cell_type": "markdown",
      "metadata": {
        "id": "view-in-github",
        "colab_type": "text"
      },
      "source": [
        "<a href=\"https://colab.research.google.com/github/lucprosa/dataeng-basic-course/blob/main/spark_streaming/examples/example_2_rate.ipynb\" target=\"_parent\"><img src=\"https://colab.research.google.com/assets/colab-badge.svg\" alt=\"Open In Colab\"/></a>"
      ]
    },
    {
      "cell_type": "markdown",
      "metadata": {
        "id": "4_GBE9UsyxwK"
      },
      "source": []
    },
    {
      "cell_type": "markdown",
      "metadata": {
        "id": "BOA_wQSmLd9z"
      },
      "source": [
        "# Usecase 2\n",
        "- Reading data from \"rate\"\n",
        "- Aggregating data by window time\n",
        "- Checking results from query in memory"
      ]
    },
    {
      "cell_type": "markdown",
      "metadata": {
        "id": "d9LeYFsPTjAb"
      },
      "source": [
        "# Setting up PySpark"
      ]
    },
    {
      "cell_type": "code",
      "execution_count": null,
      "metadata": {
        "colab": {
          "base_uri": "https://localhost:8080/"
        },
        "id": "uYXeODL0T1fO",
        "outputId": "c410e46c-4a50-43aa-926f-d0417c6280d2"
      },
      "outputs": [
        {
          "name": "stdout",
          "output_type": "stream",
          "text": [
            "Requirement already satisfied: pyspark in /usr/local/lib/python3.10/dist-packages (3.5.3)\n",
            "Requirement already satisfied: py4j==0.10.9.7 in /usr/local/lib/python3.10/dist-packages (from pyspark) (0.10.9.7)\n"
          ]
        }
      ],
      "source": [
        "%pip install pyspark"
      ]
    },
    {
      "cell_type": "code",
      "execution_count": 3,
      "metadata": {
        "id": "637HFw00T3LP"
      },
      "outputs": [],
      "source": [
        "from pyspark.sql import SparkSession\n",
        "\n",
        "spark = SparkSession.builder.master('local').appName('Test streaming').getOrCreate()"
      ]
    },
    {
      "cell_type": "markdown",
      "source": [
        "# Write output in memory"
      ],
      "metadata": {
        "id": "NwzaZIoxqvrd"
      }
    },
    {
      "cell_type": "code",
      "execution_count": 4,
      "metadata": {
        "id": "I4mGPfB-Xg_C"
      },
      "outputs": [],
      "source": [
        "import pyspark.sql.functions as F\n",
        "\n",
        "# read stream\n",
        "stream1 = spark.readStream.format(\"rate\").option(\"rowsPerSecond\", 10).load()\n",
        "\n",
        "# transform\n",
        "transformed = stream1.withColumn(\"minute\", F.minute(\"timestamp\"))\n",
        "agg = transformed.groupBy(F.window(transformed.timestamp, \"5 seconds\")).count()\n",
        "\n",
        "# write stream in memory\n",
        "query = (agg.writeStream\n",
        ".format('memory')\n",
        ".queryName('my_query')\n",
        ".outputMode('complete')\n",
        ".start()\n",
        ")"
      ]
    },
    {
      "cell_type": "code",
      "execution_count": 52,
      "metadata": {
        "colab": {
          "base_uri": "https://localhost:8080/"
        },
        "id": "UmLQLr1uX6w-",
        "outputId": "8835d049-f8d6-49c4-f03e-692918261215"
      },
      "outputs": [
        {
          "output_type": "stream",
          "name": "stdout",
          "text": [
            "+------------------------------------------+-----+\n",
            "|window                                    |count|\n",
            "+------------------------------------------+-----+\n",
            "|{2024-11-22 15:45:15, 2024-11-22 15:45:20}|47   |\n",
            "|{2024-11-22 15:45:10, 2024-11-22 15:45:15}|50   |\n",
            "|{2024-11-22 15:45:05, 2024-11-22 15:45:10}|50   |\n",
            "|{2024-11-22 15:45:00, 2024-11-22 15:45:05}|50   |\n",
            "|{2024-11-22 15:44:55, 2024-11-22 15:45:00}|50   |\n",
            "|{2024-11-22 15:44:50, 2024-11-22 15:44:55}|50   |\n",
            "|{2024-11-22 15:44:45, 2024-11-22 15:44:50}|50   |\n",
            "|{2024-11-22 15:44:40, 2024-11-22 15:44:45}|50   |\n",
            "|{2024-11-22 15:44:35, 2024-11-22 15:44:40}|50   |\n",
            "|{2024-11-22 15:44:30, 2024-11-22 15:44:35}|50   |\n",
            "+------------------------------------------+-----+\n",
            "only showing top 10 rows\n",
            "\n"
          ]
        }
      ],
      "source": [
        "spark.sql(\"select * from my_query order by window desc\").show(10,False)"
      ]
    },
    {
      "cell_type": "code",
      "execution_count": 53,
      "metadata": {
        "id": "TbLt4cUkX-JZ"
      },
      "outputs": [],
      "source": [
        "query.stop()"
      ]
    },
    {
      "cell_type": "markdown",
      "source": [
        "# Write output as json"
      ],
      "metadata": {
        "id": "Dc3r3j-wj16K"
      }
    },
    {
      "cell_type": "code",
      "source": [
        "!rm -rf content/output"
      ],
      "metadata": {
        "id": "N_BZRFCCpGq9"
      },
      "execution_count": 131,
      "outputs": []
    },
    {
      "cell_type": "code",
      "execution_count": 132,
      "metadata": {
        "id": "v180mzIciVZH"
      },
      "outputs": [],
      "source": [
        "import pyspark.sql.functions as F\n",
        "from pyspark.sql import DataFrame\n",
        "\n",
        "def save_parquet(df, batch_id):\n",
        "  (df\n",
        "   .withColumn(\"batch_id\",F.lit(batch_id))\n",
        "   .withColumn(\"load_time\",F.current_timestamp())\n",
        "   .write.mode(\"append\")\n",
        "   .parquet(\"content/output/rate_parquet\")\n",
        "  )\n",
        "\n",
        "# read stream\n",
        "stream1 = spark.readStream.format(\"rate\").option(\"rowsPerSecond\", 10).load()\n",
        "\n",
        "# transform\n",
        "transformed = stream1.withWatermark(\"timestamp\", \"5 seconds\").withColumn(\"minute\", F.minute(\"timestamp\"))\n",
        "agg = transformed.groupBy(F.window(transformed.timestamp, \"5 seconds\")).count()\n",
        "\n",
        "# write stream as parquet with foreachBatch\n",
        "query = (agg.writeStream\n",
        ".option('checkpointLocation', 'content/output/checkpoint')\n",
        ".trigger(processingTime='20 seconds')\n",
        ".outputMode('append')\n",
        ".foreachBatch(save_parquet)\n",
        ".start()\n",
        ")\n"
      ]
    },
    {
      "cell_type": "code",
      "source": [
        "result = spark.read.format(\"parquet\").load(\"content/output/rate_parquet/\")\n",
        "result.sort(F.asc(\"window\")).show(100, False)"
      ],
      "metadata": {
        "id": "-3SWIR6Ml8Al",
        "outputId": "e579771a-7fcc-409d-b938-0c0ce4d5fae9",
        "colab": {
          "base_uri": "https://localhost:8080/"
        }
      },
      "execution_count": 143,
      "outputs": [
        {
          "output_type": "stream",
          "name": "stdout",
          "text": [
            "+------------------------------------------+-----+--------+--------------------------+\n",
            "|window                                    |count|batch_id|load_time                 |\n",
            "+------------------------------------------+-----+--------+--------------------------+\n",
            "|{2024-11-22 16:36:45, 2024-11-22 16:36:50}|17   |2       |2024-11-22 16:37:20.187321|\n",
            "|{2024-11-22 16:36:50, 2024-11-22 16:36:55}|50   |2       |2024-11-22 16:37:20.187321|\n",
            "|{2024-11-22 16:36:55, 2024-11-22 16:37:00}|50   |3       |2024-11-22 16:37:40.240769|\n",
            "|{2024-11-22 16:37:00, 2024-11-22 16:37:05}|50   |3       |2024-11-22 16:37:40.240769|\n",
            "|{2024-11-22 16:37:05, 2024-11-22 16:37:10}|50   |3       |2024-11-22 16:37:40.240769|\n",
            "|{2024-11-22 16:37:10, 2024-11-22 16:37:15}|50   |4       |2024-11-22 16:38:00.20902 |\n",
            "|{2024-11-22 16:37:15, 2024-11-22 16:37:20}|50   |4       |2024-11-22 16:38:00.20902 |\n",
            "|{2024-11-22 16:37:20, 2024-11-22 16:37:25}|50   |4       |2024-11-22 16:38:00.20902 |\n",
            "|{2024-11-22 16:37:25, 2024-11-22 16:37:30}|50   |4       |2024-11-22 16:38:00.20902 |\n",
            "|{2024-11-22 16:37:30, 2024-11-22 16:37:35}|50   |5       |2024-11-22 16:38:20.204491|\n",
            "|{2024-11-22 16:37:35, 2024-11-22 16:37:40}|50   |5       |2024-11-22 16:38:20.204491|\n",
            "|{2024-11-22 16:37:40, 2024-11-22 16:37:45}|50   |5       |2024-11-22 16:38:20.204491|\n",
            "|{2024-11-22 16:37:45, 2024-11-22 16:37:50}|50   |5       |2024-11-22 16:38:20.204491|\n",
            "+------------------------------------------+-----+--------+--------------------------+\n",
            "\n"
          ]
        }
      ]
    },
    {
      "cell_type": "code",
      "source": [
        "query.stop()"
      ],
      "metadata": {
        "id": "DKB-MAPOoEre"
      },
      "execution_count": null,
      "outputs": []
    },
    {
      "cell_type": "markdown",
      "source": [
        "# Enrich data with faker"
      ],
      "metadata": {
        "id": "GjAp1IKnvteX"
      }
    },
    {
      "cell_type": "code",
      "source": [
        "!pip install faker"
      ],
      "metadata": {
        "id": "_gauZX8MFP5f",
        "outputId": "e6820854-14aa-4cfd-e2c6-37688b02999a",
        "colab": {
          "base_uri": "https://localhost:8080/"
        }
      },
      "execution_count": 145,
      "outputs": [
        {
          "output_type": "stream",
          "name": "stdout",
          "text": [
            "Collecting faker\n",
            "  Downloading Faker-33.0.0-py3-none-any.whl.metadata (15 kB)\n",
            "Requirement already satisfied: python-dateutil>=2.4 in /usr/local/lib/python3.10/dist-packages (from faker) (2.8.2)\n",
            "Requirement already satisfied: typing-extensions in /usr/local/lib/python3.10/dist-packages (from faker) (4.12.2)\n",
            "Requirement already satisfied: six>=1.5 in /usr/local/lib/python3.10/dist-packages (from python-dateutil>=2.4->faker) (1.16.0)\n",
            "Downloading Faker-33.0.0-py3-none-any.whl (1.9 MB)\n",
            "\u001b[2K   \u001b[90m━━━━━━━━━━━━━━━━━━━━━━━━━━━━━━━━━━━━━━━━\u001b[0m \u001b[32m1.9/1.9 MB\u001b[0m \u001b[31m17.8 MB/s\u001b[0m eta \u001b[36m0:00:00\u001b[0m\n",
            "\u001b[?25hInstalling collected packages: faker\n",
            "Successfully installed faker-33.0.0\n"
          ]
        }
      ]
    },
    {
      "cell_type": "code",
      "source": [
        "import pyspark.sql.functions as F\n",
        "from pyspark.sql import DataFrame\n",
        "from faker import Faker\n",
        "\n",
        "def enrich_df(df, batch_id) -> DataFrame:\n",
        "  fake = Faker()\n",
        "  new_columns = {\n",
        "      'name': F.lit(fake.name()),\n",
        "      'address': F.lit(fake.address()),\n",
        "      'email': F.lit(fake.email()),\n",
        "      'dob': F.lit(fake.date_of_birth()),\n",
        "      'phone': F.lit(fake.phone_number())\n",
        "  }\n",
        "  df = df.withColumns(new_columns)\n",
        "  return df\n",
        "\n",
        "# read stream\n",
        "df_stream = spark.readStream.format(\"rate\").option(\"rowsPerSecond\", 10).load()\n",
        "\n",
        "# write stream\n",
        "query = (df_stream.writeStream\n",
        ".format('memory')\n",
        ".queryName('enriched')\n",
        ".outputMode('append')\n",
        ".start()\n",
        ")"
      ],
      "metadata": {
        "id": "WCUhAzDOD4Q3"
      },
      "execution_count": null,
      "outputs": []
    },
    {
      "cell_type": "code",
      "source": [
        "spark.sql(\"select * from enriched\").show()"
      ],
      "metadata": {
        "id": "89s50dHjECqk",
        "outputId": "07561df0-e789-41fc-85c6-e37fa9d55aa7",
        "colab": {
          "base_uri": "https://localhost:8080/"
        }
      },
      "execution_count": null,
      "outputs": [
        {
          "output_type": "stream",
          "name": "stdout",
          "text": [
            "+--------------------+-----+----------+--------------------+--------------------+----------+------------+\n",
            "|           timestamp|value|      name|             address|               email|       dob|       phone|\n",
            "+--------------------+-----+----------+--------------------+--------------------+----------+------------+\n",
            "|2024-11-19 20:32:...|    0|John Silva|21383 Davis Green...|isabelsalas@examp...|1942-01-04|775.239.3916|\n",
            "|2024-11-19 20:32:...|    1|John Silva|21383 Davis Green...|isabelsalas@examp...|1942-01-04|775.239.3916|\n",
            "|2024-11-19 20:32:...|    2|John Silva|21383 Davis Green...|isabelsalas@examp...|1942-01-04|775.239.3916|\n",
            "|2024-11-19 20:32:...|    3|John Silva|21383 Davis Green...|isabelsalas@examp...|1942-01-04|775.239.3916|\n",
            "|2024-11-19 20:32:...|    4|John Silva|21383 Davis Green...|isabelsalas@examp...|1942-01-04|775.239.3916|\n",
            "|2024-11-19 20:32:...|    5|John Silva|21383 Davis Green...|isabelsalas@examp...|1942-01-04|775.239.3916|\n",
            "|2024-11-19 20:32:...|    6|John Silva|21383 Davis Green...|isabelsalas@examp...|1942-01-04|775.239.3916|\n",
            "|2024-11-19 20:32:...|    7|John Silva|21383 Davis Green...|isabelsalas@examp...|1942-01-04|775.239.3916|\n",
            "|2024-11-19 20:32:...|    8|John Silva|21383 Davis Green...|isabelsalas@examp...|1942-01-04|775.239.3916|\n",
            "|2024-11-19 20:32:...|    9|John Silva|21383 Davis Green...|isabelsalas@examp...|1942-01-04|775.239.3916|\n",
            "|2024-11-19 20:32:...|   10|John Silva|21383 Davis Green...|isabelsalas@examp...|1942-01-04|775.239.3916|\n",
            "|2024-11-19 20:32:...|   11|John Silva|21383 Davis Green...|isabelsalas@examp...|1942-01-04|775.239.3916|\n",
            "|2024-11-19 20:32:...|   12|John Silva|21383 Davis Green...|isabelsalas@examp...|1942-01-04|775.239.3916|\n",
            "|2024-11-19 20:32:...|   13|John Silva|21383 Davis Green...|isabelsalas@examp...|1942-01-04|775.239.3916|\n",
            "|2024-11-19 20:32:...|   14|John Silva|21383 Davis Green...|isabelsalas@examp...|1942-01-04|775.239.3916|\n",
            "|2024-11-19 20:32:...|   15|John Silva|21383 Davis Green...|isabelsalas@examp...|1942-01-04|775.239.3916|\n",
            "|2024-11-19 20:32:...|   16|John Silva|21383 Davis Green...|isabelsalas@examp...|1942-01-04|775.239.3916|\n",
            "|2024-11-19 20:32:...|   17|John Silva|21383 Davis Green...|isabelsalas@examp...|1942-01-04|775.239.3916|\n",
            "|2024-11-19 20:32:...|   18|John Silva|21383 Davis Green...|isabelsalas@examp...|1942-01-04|775.239.3916|\n",
            "|2024-11-19 20:32:...|   19|John Silva|21383 Davis Green...|isabelsalas@examp...|1942-01-04|775.239.3916|\n",
            "+--------------------+-----+----------+--------------------+--------------------+----------+------------+\n",
            "only showing top 20 rows\n",
            "\n"
          ]
        }
      ]
    },
    {
      "cell_type": "code",
      "source": [
        "query.stop()"
      ],
      "metadata": {
        "id": "m22vpxcxIUNa"
      },
      "execution_count": null,
      "outputs": []
    },
    {
      "cell_type": "code",
      "source": [],
      "metadata": {
        "id": "KhoudBI7EG0o"
      },
      "execution_count": null,
      "outputs": []
    }
  ],
  "metadata": {
    "colab": {
      "provenance": [],
      "include_colab_link": true
    },
    "kernelspec": {
      "display_name": "Python 3",
      "name": "python3"
    },
    "language_info": {
      "name": "python"
    }
  },
  "nbformat": 4,
  "nbformat_minor": 0
}
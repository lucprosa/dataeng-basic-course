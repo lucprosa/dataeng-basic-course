{
  "cells": [
    {
      "cell_type": "markdown",
      "metadata": {
        "id": "view-in-github",
        "colab_type": "text"
      },
      "source": [
        "<a href=\"https://colab.research.google.com/github/lucprosa/dataeng-basic-course/blob/main/spark_streaming/examples/example_3_api_json.ipynb\" target=\"_parent\"><img src=\"https://colab.research.google.com/assets/colab-badge.svg\" alt=\"Open In Colab\"/></a>"
      ]
    },
    {
      "cell_type": "markdown",
      "metadata": {
        "id": "4_GBE9UsyxwK"
      },
      "source": []
    },
    {
      "cell_type": "markdown",
      "metadata": {
        "id": "d9LeYFsPTjAb"
      },
      "source": [
        "# Setting up PySpark"
      ]
    },
    {
      "cell_type": "code",
      "execution_count": 1,
      "metadata": {
        "colab": {
          "base_uri": "https://localhost:8080/"
        },
        "id": "uYXeODL0T1fO",
        "outputId": "b805aca4-2d12-47de-d985-2b8a22eeb565"
      },
      "outputs": [
        {
          "output_type": "stream",
          "name": "stdout",
          "text": [
            "Requirement already satisfied: pyspark in /usr/local/lib/python3.10/dist-packages (3.5.3)\n",
            "Requirement already satisfied: py4j==0.10.9.7 in /usr/local/lib/python3.10/dist-packages (from pyspark) (0.10.9.7)\n"
          ]
        }
      ],
      "source": [
        "%pip install pyspark"
      ]
    },
    {
      "cell_type": "code",
      "execution_count": 4,
      "metadata": {
        "id": "637HFw00T3LP"
      },
      "outputs": [],
      "source": [
        "from pyspark.sql import SparkSession\n",
        "\n",
        "spark = SparkSession.builder.master('local').appName('Test streaming').getOrCreate()\n",
        "sc = spark.sparkContext"
      ]
    },
    {
      "cell_type": "code",
      "source": [
        "import datetime\n",
        "datetime.datetime.now().strftime(\"%Y%m%d%H%M%S\")"
      ],
      "metadata": {
        "id": "jINzte8WI_51",
        "outputId": "c6cea38b-9673-476e-de67-68f6ce92f11a",
        "colab": {
          "base_uri": "https://localhost:8080/",
          "height": 36
        }
      },
      "execution_count": 13,
      "outputs": [
        {
          "output_type": "execute_result",
          "data": {
            "text/plain": [
              "'20241128002111'"
            ],
            "application/vnd.google.colaboratory.intrinsic+json": {
              "type": "string"
            }
          },
          "metadata": {},
          "execution_count": 13
        }
      ]
    },
    {
      "cell_type": "code",
      "source": [
        "!rm -rf /content/landing\n",
        "!mkdir -p /content/landing"
      ],
      "metadata": {
        "id": "aF7fzyYIJi0l"
      },
      "execution_count": 72,
      "outputs": []
    },
    {
      "cell_type": "code",
      "source": [
        "import requests\n",
        "from pyspark.sql.types import *\n",
        "import json\n",
        "import datetime\n",
        "import asyncio\n",
        "\n",
        "async def ingest_from_api(url: str, table: str, schema: StructType = None):\n",
        "  response = requests.get(url)\n",
        "  timestamp = datetime.datetime.now().strftime(\"%Y%m%d%H%M%S\")\n",
        "  if response.status_code == 200:\n",
        "    data = response.json()\n",
        "    with open(f\"/content/landing/{table}_{int(timestamp)}.json\", \"w\") as f:\n",
        "        json.dump(data, f)\n",
        "\n",
        "async def producer(loop: int, interval_time: int):\n",
        "  for i in range(loop):\n",
        "    await ingest_from_api(\"https://api.carrismetropolitana.pt/vehicles\", \"vehicles\")\n",
        "    await ingest_from_api(\"https://api.carrismetropolitana.pt/lines\", \"lines\")\n",
        "    await asyncio.sleep(interval_time)\n",
        "\n",
        "async def main():\n",
        "  asyncio.create_task(producer(10, 30))\n",
        "\n",
        "await main()"
      ],
      "metadata": {
        "id": "tTQhp8UbFUCl"
      },
      "execution_count": 74,
      "outputs": []
    },
    {
      "cell_type": "code",
      "source": [
        "from pyspark.sql.types import *\n",
        "\n",
        "vehicle_schema = StructType([StructField('bearing', IntegerType(), True),\n",
        "                             StructField('block_id', StringType(), True),\n",
        "                             StructField('current_status', StringType(), True),\n",
        "                             StructField('id', StringType(), True),\n",
        "                             StructField('lat', FloatType(), True),\n",
        "                             StructField('line_id', StringType(), True),\n",
        "                             StructField('lon', FloatType(), True),\n",
        "                             StructField('pattern_id', StringType(), True),\n",
        "                             StructField('route_id', StringType(), True),\n",
        "                             StructField('schedule_relationship', StringType(), True),\n",
        "                             StructField('shift_id', StringType(), True),\n",
        "                             StructField('speed', FloatType(), True),\n",
        "                             StructField('stop_id', StringType(), True),\n",
        "                             StructField('timestamp', TimestampType(), True),\n",
        "                             StructField('trip_id', StringType(), True)])\n",
        "\n",
        "stream = spark.readStream.format(\"json\").schema(vehicle_schema).load(\"/content/landing/vehicles*\")\n",
        "\n",
        "dedup = stream.dropDuplicates()\n",
        "\n",
        "query = (dedup.writeStream.format(\"memory\").option(\"queryName\", \"vehicles\").start())"
      ],
      "metadata": {
        "id": "_dTSf527Fhy0",
        "outputId": "6d61b57a-282c-4f83-8bbf-ae09961ec04f",
        "colab": {
          "base_uri": "https://localhost:8080/",
          "height": 348
        }
      },
      "execution_count": 75,
      "outputs": [
        {
          "output_type": "error",
          "ename": "IllegalArgumentException",
          "evalue": "Cannot start query with name vehicles as a query with that name is already active in this SparkSession",
          "traceback": [
            "\u001b[0;31m---------------------------------------------------------------------------\u001b[0m",
            "\u001b[0;31mIllegalArgumentException\u001b[0m                  Traceback (most recent call last)",
            "\u001b[0;32m<ipython-input-75-f8d98ef0c155>\u001b[0m in \u001b[0;36m<cell line: 23>\u001b[0;34m()\u001b[0m\n\u001b[1;32m     21\u001b[0m \u001b[0mdedup\u001b[0m \u001b[0;34m=\u001b[0m \u001b[0mstream\u001b[0m\u001b[0;34m.\u001b[0m\u001b[0mdropDuplicates\u001b[0m\u001b[0;34m(\u001b[0m\u001b[0;34m)\u001b[0m\u001b[0;34m\u001b[0m\u001b[0;34m\u001b[0m\u001b[0m\n\u001b[1;32m     22\u001b[0m \u001b[0;34m\u001b[0m\u001b[0m\n\u001b[0;32m---> 23\u001b[0;31m \u001b[0mquery\u001b[0m \u001b[0;34m=\u001b[0m \u001b[0;34m(\u001b[0m\u001b[0mdedup\u001b[0m\u001b[0;34m.\u001b[0m\u001b[0mwriteStream\u001b[0m\u001b[0;34m.\u001b[0m\u001b[0mformat\u001b[0m\u001b[0;34m(\u001b[0m\u001b[0;34m\"memory\"\u001b[0m\u001b[0;34m)\u001b[0m\u001b[0;34m.\u001b[0m\u001b[0moption\u001b[0m\u001b[0;34m(\u001b[0m\u001b[0;34m\"queryName\"\u001b[0m\u001b[0;34m,\u001b[0m \u001b[0;34m\"vehicles\"\u001b[0m\u001b[0;34m)\u001b[0m\u001b[0;34m.\u001b[0m\u001b[0mstart\u001b[0m\u001b[0;34m(\u001b[0m\u001b[0;34m)\u001b[0m\u001b[0;34m)\u001b[0m\u001b[0;34m\u001b[0m\u001b[0;34m\u001b[0m\u001b[0m\n\u001b[0m",
            "\u001b[0;32m/usr/local/lib/python3.10/dist-packages/pyspark/sql/streaming/readwriter.py\u001b[0m in \u001b[0;36mstart\u001b[0;34m(self, path, format, outputMode, partitionBy, queryName, **options)\u001b[0m\n\u001b[1;32m   1525\u001b[0m             \u001b[0mself\u001b[0m\u001b[0;34m.\u001b[0m\u001b[0mqueryName\u001b[0m\u001b[0;34m(\u001b[0m\u001b[0mqueryName\u001b[0m\u001b[0;34m)\u001b[0m\u001b[0;34m\u001b[0m\u001b[0;34m\u001b[0m\u001b[0m\n\u001b[1;32m   1526\u001b[0m         \u001b[0;32mif\u001b[0m \u001b[0mpath\u001b[0m \u001b[0;32mis\u001b[0m \u001b[0;32mNone\u001b[0m\u001b[0;34m:\u001b[0m\u001b[0;34m\u001b[0m\u001b[0;34m\u001b[0m\u001b[0m\n\u001b[0;32m-> 1527\u001b[0;31m             \u001b[0;32mreturn\u001b[0m \u001b[0mself\u001b[0m\u001b[0;34m.\u001b[0m\u001b[0m_sq\u001b[0m\u001b[0;34m(\u001b[0m\u001b[0mself\u001b[0m\u001b[0;34m.\u001b[0m\u001b[0m_jwrite\u001b[0m\u001b[0;34m.\u001b[0m\u001b[0mstart\u001b[0m\u001b[0;34m(\u001b[0m\u001b[0;34m)\u001b[0m\u001b[0;34m)\u001b[0m\u001b[0;34m\u001b[0m\u001b[0;34m\u001b[0m\u001b[0m\n\u001b[0m\u001b[1;32m   1528\u001b[0m         \u001b[0;32melse\u001b[0m\u001b[0;34m:\u001b[0m\u001b[0;34m\u001b[0m\u001b[0;34m\u001b[0m\u001b[0m\n\u001b[1;32m   1529\u001b[0m             \u001b[0;32mreturn\u001b[0m \u001b[0mself\u001b[0m\u001b[0;34m.\u001b[0m\u001b[0m_sq\u001b[0m\u001b[0;34m(\u001b[0m\u001b[0mself\u001b[0m\u001b[0;34m.\u001b[0m\u001b[0m_jwrite\u001b[0m\u001b[0;34m.\u001b[0m\u001b[0mstart\u001b[0m\u001b[0;34m(\u001b[0m\u001b[0mpath\u001b[0m\u001b[0;34m)\u001b[0m\u001b[0;34m)\u001b[0m\u001b[0;34m\u001b[0m\u001b[0;34m\u001b[0m\u001b[0m\n",
            "\u001b[0;32m/usr/local/lib/python3.10/dist-packages/py4j/java_gateway.py\u001b[0m in \u001b[0;36m__call__\u001b[0;34m(self, *args)\u001b[0m\n\u001b[1;32m   1320\u001b[0m \u001b[0;34m\u001b[0m\u001b[0m\n\u001b[1;32m   1321\u001b[0m         \u001b[0manswer\u001b[0m \u001b[0;34m=\u001b[0m \u001b[0mself\u001b[0m\u001b[0;34m.\u001b[0m\u001b[0mgateway_client\u001b[0m\u001b[0;34m.\u001b[0m\u001b[0msend_command\u001b[0m\u001b[0;34m(\u001b[0m\u001b[0mcommand\u001b[0m\u001b[0;34m)\u001b[0m\u001b[0;34m\u001b[0m\u001b[0;34m\u001b[0m\u001b[0m\n\u001b[0;32m-> 1322\u001b[0;31m         return_value = get_return_value(\n\u001b[0m\u001b[1;32m   1323\u001b[0m             answer, self.gateway_client, self.target_id, self.name)\n\u001b[1;32m   1324\u001b[0m \u001b[0;34m\u001b[0m\u001b[0m\n",
            "\u001b[0;32m/usr/local/lib/python3.10/dist-packages/pyspark/errors/exceptions/captured.py\u001b[0m in \u001b[0;36mdeco\u001b[0;34m(*a, **kw)\u001b[0m\n\u001b[1;32m    183\u001b[0m                 \u001b[0;31m# Hide where the exception came from that shows a non-Pythonic\u001b[0m\u001b[0;34m\u001b[0m\u001b[0;34m\u001b[0m\u001b[0m\n\u001b[1;32m    184\u001b[0m                 \u001b[0;31m# JVM exception message.\u001b[0m\u001b[0;34m\u001b[0m\u001b[0;34m\u001b[0m\u001b[0m\n\u001b[0;32m--> 185\u001b[0;31m                 \u001b[0;32mraise\u001b[0m \u001b[0mconverted\u001b[0m \u001b[0;32mfrom\u001b[0m \u001b[0;32mNone\u001b[0m\u001b[0;34m\u001b[0m\u001b[0;34m\u001b[0m\u001b[0m\n\u001b[0m\u001b[1;32m    186\u001b[0m             \u001b[0;32melse\u001b[0m\u001b[0;34m:\u001b[0m\u001b[0;34m\u001b[0m\u001b[0;34m\u001b[0m\u001b[0m\n\u001b[1;32m    187\u001b[0m                 \u001b[0;32mraise\u001b[0m\u001b[0;34m\u001b[0m\u001b[0;34m\u001b[0m\u001b[0m\n",
            "\u001b[0;31mIllegalArgumentException\u001b[0m: Cannot start query with name vehicles as a query with that name is already active in this SparkSession"
          ]
        }
      ]
    },
    {
      "cell_type": "code",
      "source": [
        "query.stop()"
      ],
      "metadata": {
        "id": "bGQCwwrMPj_z"
      },
      "execution_count": 71,
      "outputs": []
    },
    {
      "cell_type": "code",
      "source": [
        "spark.sql(\"select count(1) from vehicles\").show()"
      ],
      "metadata": {
        "id": "pyDwzbdmO29f",
        "outputId": "386218ba-b993-4b16-f375-d7651ba2fade",
        "colab": {
          "base_uri": "https://localhost:8080/"
        }
      },
      "execution_count": 85,
      "outputs": [
        {
          "output_type": "stream",
          "name": "stdout",
          "text": [
            "+--------+\n",
            "|count(1)|\n",
            "+--------+\n",
            "|     181|\n",
            "+--------+\n",
            "\n"
          ]
        }
      ]
    },
    {
      "cell_type": "code",
      "source": [
        "spark.read.format(\"json\").schema(vehicle_schema).load(\"/content/landing/vehicles*\").count()"
      ],
      "metadata": {
        "id": "uzfdzJv5PCB2",
        "outputId": "4129f31a-846a-4780-e659-a11409cd5b51",
        "colab": {
          "base_uri": "https://localhost:8080/"
        }
      },
      "execution_count": 84,
      "outputs": [
        {
          "output_type": "execute_result",
          "data": {
            "text/plain": [
              "184"
            ]
          },
          "metadata": {},
          "execution_count": 84
        }
      ]
    },
    {
      "cell_type": "code",
      "source": [
        "spark.sql(\"select * from vehicles\").show()"
      ],
      "metadata": {
        "id": "sGpXKu65P71w",
        "outputId": "0ea2d421-f96d-4598-f70b-2b9a9ef871cc",
        "colab": {
          "base_uri": "https://localhost:8080/"
        }
      },
      "execution_count": 70,
      "outputs": [
        {
          "output_type": "stream",
          "name": "stdout",
          "text": [
            "+-------+--------------------+--------------+--------+---------+-------+---------+----------+--------+---------------------+------------+---------+-------+-------------------+--------------------+\n",
            "|bearing|            block_id|current_status|      id|      lat|line_id|      lon|pattern_id|route_id|schedule_relationship|    shift_id|    speed|stop_id|          timestamp|             trip_id|\n",
            "+-------+--------------------+--------------+--------+---------+-------+---------+----------+--------+---------------------+------------+---------+-------+-------------------+--------------------+\n",
            "|    212|             1080-11| IN_TRANSIT_TO|  42|263| 38.90714|   2303|-9.051232|  2303_0_1|  2303_0|            SCHEDULED|        1206|4.1666665| 180131|2024-11-28 00:46:44|2303_0_1|1|1|2430...|\n",
            "|    170|       ESC_DU_EU2058|    STOPPED_AT| 43|2121|38.695377|   3708|-9.178453|  3708_0_2|  3708_0|            SCHEDULED|      EU2207| 16.11111| 060019|2024-11-28 00:47:57|3708_0_2_2430_245...|\n",
            "|    106|             1705-11| IN_TRANSIT_TO| 42|2507| 38.90367|   2750|-9.126852|  2750_0_2|  2750_0|            SCHEDULED|        1769|22.777779| 070974|2024-11-28 00:47:59|2750_0_2|1|1|2400...|\n",
            "|    170|       ESC_DU_EU1066| IN_TRANSIT_TO| 43|2373|38.655773|   3509|-9.154205|  3509_0_1|  3509_0|            SCHEDULED|      EU1185|5.2777777| 020683|2024-11-28 00:48:08|3509_0_1_2430_245...|\n",
            "|      0|           1_1227-11|    STOPPED_AT| 41|1157| 38.76952|   1219|-9.295204|  1219_0_1|  1219_0|            SCHEDULED|        1259|      0.0| 170459|2024-11-28 00:47:58|1219_0_1_2430_245...|\n",
            "|     28|           1_1057-11| IN_TRANSIT_TO| 41|1161| 38.75961|   1709|-9.192323|  1709_0_2|  1709_0|            SCHEDULED|        1137| 8.333333| 060069|2024-11-28 00:47:52|1709_0_2_2430_245...|\n",
            "|    130|20241127-64010050...| IN_TRANSIT_TO|44|12589|38.652836|   4600|-9.005774|  4600_0_2|  4600_0|            SCHEDULED|121930234560|6.9444447| 090205|2024-11-28 00:48:04|4600_0_2|2700|243...|\n",
            "|      0|             1809-11|    STOPPED_AT| 42|2519|38.814137|   2769|-9.161433|  2769_1_1|  2769_1|            SCHEDULED|        1840|      0.0| 071270|2024-11-28 00:46:46|2769_1_1|1|1|2500...|\n",
            "|    198|       ESC_DU_EU1015| IN_TRANSIT_TO| 43|2391|38.620045|   3509|-9.082926|  3509_0_2|  3509_0|            SCHEDULED|      EU1161|11.944445| 140270|2024-11-28 00:47:48|3509_0_2_2430_245...|\n",
            "|    202|20241127-64010003...| IN_TRANSIT_TO|44|12666|38.725597|   4702|-8.938367|  4702_0_2|  4702_0|            SCHEDULED|123440234560|27.777779| 060005|2024-11-28 00:48:01|4702_0_2|2700|243...|\n",
            "|    253|20241127-64010006...|   INCOMING_AT|44|12654| 38.68374|   4701|-8.953631|  4701_0_1|  4701_0|            SCHEDULED|123550234560|13.611111| 100417|2024-11-28 00:48:09|4701_0_1|2700|243...|\n",
            "|     20|                1060| IN_TRANSIT_TO| 42|1060|38.936165|   2751|-9.304981|  2751_1_2|  2751_1|            SCHEDULED|       39743| 8.055555| 080346|2024-11-28 00:47:46|2751_1_2|130|1|23...|\n",
            "|    337|             1040-11| IN_TRANSIT_TO| 42|2332|38.766636|   2713|-9.157628|  2713_1_1|  2713_1|            SCHEDULED|        1209|10.555555| 060159|2024-11-28 00:47:44|2713_1_1|1|1|2445...|\n",
            "|     54|           1_1341-11| IN_TRANSIT_TO| 41|1397|38.738754|   1622|-9.339438|  1622_0_2|  1622_0|            SCHEDULED|        1362| 6.111111| 050116|2024-11-28 00:47:47|1622_0_2_2430_245...|\n",
            "|     28|           1_1411-11|   INCOMING_AT| 41|1358|38.704914|   1101|-9.240546|  1101_0_1|  1101_0|            SCHEDULED|        1502|      7.5| 120069|2024-11-28 00:47:38|1101_0_1_2400_242...|\n",
            "|    341|             1830-11| IN_TRANSIT_TO| 42|2579|38.813644|   2772|-9.180512|  2772_3_2|  2772_3|            SCHEDULED|        1830|11.666667| 070323|2024-11-28 00:47:19|2772_3_2|1|1|2445...|\n",
            "|     93|             91_1925| IN_TRANSIT_TO| 41|1154| 38.69614|   1998|-9.368416|  1998_1_2|  1998_1|            SCHEDULED|        1925|7.7777777| 050048|2024-11-28 00:47:57|1998_1_2_2430_245...|\n",
            "|     22|             1158-11|   INCOMING_AT|  42|292|38.833195|   2730|-9.097212|  2730_0_1|  2730_0|            SCHEDULED|        1231|      0.0| 071284|2024-11-28 00:47:59|2730_0_1|1|1|2420...|\n",
            "|    263|             91_1928|    STOPPED_AT| 41|1319|38.687492|   1998|-9.336349|  1998_0_2|  1998_0|            SCHEDULED|        1928|      0.0| 050050|2024-11-28 00:48:00|1998_0_2_2430_245...|\n",
            "|    157|       ESC_DU_EU2044|    STOPPED_AT| 43|2043|38.643047|   3023|-9.232582|  3023_0_2|  3023_0|            SCHEDULED|      EU2228|      0.0| 020703|2024-11-28 00:47:47|3023_0_2_2400_242...|\n",
            "+-------+--------------------+--------------+--------+---------+-------+---------+----------+--------+---------------------+------------+---------+-------+-------------------+--------------------+\n",
            "only showing top 20 rows\n",
            "\n"
          ]
        }
      ]
    },
    {
      "cell_type": "code",
      "source": [
        "# question\n",
        "# aggregate by 5 minute window time\n",
        "# count vehicles by status (INCOMING, STOPPED, INTRANSIT)"
      ],
      "metadata": {
        "id": "qPf3aB5RQ1Fo"
      },
      "execution_count": null,
      "outputs": []
    },
    {
      "cell_type": "code",
      "source": [
        "# question 2\n",
        "# enrich latitude and longitude\n",
        "# join dataframes"
      ],
      "metadata": {
        "id": "fzq2NBHnTc7i"
      },
      "execution_count": null,
      "outputs": []
    }
  ],
  "metadata": {
    "colab": {
      "provenance": [],
      "include_colab_link": true
    },
    "kernelspec": {
      "display_name": "Python 3",
      "name": "python3"
    },
    "language_info": {
      "name": "python"
    }
  },
  "nbformat": 4,
  "nbformat_minor": 0
}
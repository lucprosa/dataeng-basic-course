{
  "cells": [
    {
      "cell_type": "markdown",
      "metadata": {
        "id": "view-in-github",
        "colab_type": "text"
      },
      "source": [
        "<a href=\"https://colab.research.google.com/github/lucprosa/dataeng-basic-course/blob/main/spark_streaming/examples/example_4_using_dataproc.ipynb\" target=\"_parent\"><img src=\"https://colab.research.google.com/assets/colab-badge.svg\" alt=\"Open In Colab\"/></a>"
      ]
    },
    {
      "cell_type": "markdown",
      "metadata": {
        "id": "4_GBE9UsyxwK"
      },
      "source": []
    },
    {
      "cell_type": "markdown",
      "metadata": {
        "id": "d9LeYFsPTjAb"
      },
      "source": [
        "# Setting up PySpark"
      ]
    },
    {
      "cell_type": "code",
      "execution_count": null,
      "metadata": {
        "colab": {
          "base_uri": "https://localhost:8080/"
        },
        "id": "uYXeODL0T1fO",
        "outputId": "b805aca4-2d12-47de-d985-2b8a22eeb565"
      },
      "outputs": [
        {
          "name": "stdout",
          "output_type": "stream",
          "text": [
            "Requirement already satisfied: pyspark in /usr/local/lib/python3.10/dist-packages (3.5.3)\n",
            "Requirement already satisfied: py4j==0.10.9.7 in /usr/local/lib/python3.10/dist-packages (from pyspark) (0.10.9.7)\n"
          ]
        }
      ],
      "source": [
        "%pip install pyspark"
      ]
    },
    {
      "cell_type": "code",
      "execution_count": null,
      "metadata": {
        "id": "637HFw00T3LP"
      },
      "outputs": [],
      "source": []
    },
    {
      "cell_type": "markdown",
      "metadata": {
        "id": "RZdHGoFyTlMt"
      },
      "source": [
        "## Simulate producer:\n",
        "- extract data from API\n",
        "- store data as json in the lake\n",
        "- run task async"
      ]
    },
    {
      "cell_type": "code",
      "execution_count": null,
      "metadata": {
        "id": "tTQhp8UbFUCl"
      },
      "outputs": [],
      "source": [
        "import requests\n",
        "from pyspark.sql.types import *\n",
        "import json\n",
        "import datetime\n",
        "import asyncio\n",
        "\n",
        "landing_path=f\"gs://{bucket_name}/datalake/landing/{table_path}\"\n",
        "\n",
        "async def ingest_from_api(url: str, table: str, schema: StructType = None):\n",
        "  response = requests.get(url)\n",
        "  timestamp = datetime.datetime.now().strftime(\"%Y%m%d%H%M%S\")\n",
        "  if response.status_code == 200:\n",
        "    data = response.json()\n",
        "    with open(f\"{landing_path}_{int(timestamp)}.json\", \"w\") as f:\n",
        "        json.dump(data, f)\n",
        "\n",
        "async def producer(loop: int, interval_time: int):\n",
        "  for i in range(loop):\n",
        "    await ingest_from_api(\"https://api.carrismetropolitana.pt/vehicles\", \"vehicles\")\n",
        "    await ingest_from_api(\"https://api.carrismetropolitana.pt/lines\", \"lines\")\n",
        "    await asyncio.sleep(interval_time)\n",
        "\n",
        "async def main():\n",
        "  asyncio.create_task(producer(10, 30))\n",
        "\n",
        "await main()"
      ]
    },
    {
      "cell_type": "markdown",
      "metadata": {
        "id": "kIqHdZEKUEmo"
      },
      "source": [
        "- Read from /content/landing as streaming\n",
        "- store data in memory (for testing)\n",
        "- store data in the bronze layer"
      ]
    },
    {
      "cell_type": "code",
      "execution_count": null,
      "metadata": {
        "id": "_dTSf527Fhy0"
      },
      "outputs": [],
      "source": [
        "from pyspark.sql import SparkSession\n",
        "from pyspark.sql.types import *\n",
        "from pyspark.sql.functions import *\n",
        "\n",
        "spark = SparkSession.builder.appName('Test streaming').getOrCreate()\n",
        "sc = spark.sparkContext\n",
        "\n",
        "def insert_vehicles(df, batch_id, path):\n",
        "  df.write.format(\"parquet\").mode(\"append\").save(path)\n",
        "\n",
        "vehicle_schema = StructType([StructField('bearing', IntegerType(), True),\n",
        "                             StructField('block_id', StringType(), True),\n",
        "                             StructField('current_status', StringType(), True),\n",
        "                             StructField('id', StringType(), True),\n",
        "                             StructField('lat', FloatType(), True),\n",
        "                             StructField('line_id', StringType(), True),\n",
        "                             StructField('lon', FloatType(), True),\n",
        "                             StructField('pattern_id', StringType(), True),\n",
        "                             StructField('route_id', StringType(), True),\n",
        "                             StructField('schedule_relationship', StringType(), True),\n",
        "                             StructField('shift_id', StringType(), True),\n",
        "                             StructField('speed', FloatType(), True),\n",
        "                             StructField('stop_id', StringType(), True),\n",
        "                             StructField('timestamp', TimestampType(), True),\n",
        "                             StructField('trip_id', StringType(), True)])\n",
        "\n",
        "# define paths\n",
        "bucket_name=\"edit-data-eng-dev\"\n",
        "table_path=\"vehicles\"\n",
        "landing_path=f\"gs://{bucket_name}/datalake/landing/{table_path}\"\n",
        "bronze_path=f\"gs://{bucket_name}/datalake/bronze/{table_path}\"\n",
        "\n",
        "stream = spark.readStream.format(\"parquet\").schema(schema).load(landing_path)\n",
        "\n",
        "query = (stream\n",
        "          .writeStream\n",
        "          .outputMode(\"append\")\n",
        "          .foreachBatch(insert_vehicles(bronze_path))\n",
        "          .option(\"checkpointLocation\", \"/content/bronze/checkpoint\")\n",
        "          .trigger(processingTime='20 seconds')\n",
        "          .start()\n",
        "          .awaitTermination(60)"
      ]
    },
    {
      "cell_type": "code",
      "source": [
        "!rm -rf /content/content"
      ],
      "metadata": {
        "id": "rW0A89D6fU0Y"
      },
      "execution_count": 99,
      "outputs": []
    },
    {
      "cell_type": "code",
      "source": [
        "import pyspark.sql.functions as F\n",
        "from pyspark.sql import DataFrame\n",
        "from faker import Faker\n",
        "\n",
        "def insert_into_table(df, batch_id):\n",
        "  fake = Faker()\n",
        "  new_columns = {\n",
        "      'name': F.lit(fake.name()),\n",
        "      'address': F.lit(fake.address()),\n",
        "      'email': F.lit(fake.email()),\n",
        "      'dob': F.lit(fake.date_of_birth()),\n",
        "      'phone': F.lit(fake.phone_number())\n",
        "  }\n",
        "  df = df.withColumns(new_columns)\n",
        "  df.write.mode(\"append\").format(\"parquet\").save(\"content/output/events\")\n",
        "\n",
        "# read stream\n",
        "df_stream = spark.readStream.format(\"rate\").option(\"rowsPerSecond\", 1).load()\n",
        "\n",
        "# write stream\n",
        "query = (df_stream.writeStream\n",
        ".outputMode('append')\n",
        ".trigger(processingTime='1 seconds')\n",
        ".foreach(insert_into_table)\n",
        ".start()\n",
        ")\n",
        "\n"
      ],
      "metadata": {
        "id": "9uQNlSwkZYee"
      },
      "execution_count": 82,
      "outputs": []
    },
    {
      "cell_type": "code",
      "source": [
        "query.stop"
      ],
      "metadata": {
        "id": "cnqTKcjrZY3A",
        "outputId": "be69d029-7ca3-4146-a666-1d9aaf55cf14",
        "colab": {
          "base_uri": "https://localhost:8080/",
          "height": 185
        }
      },
      "execution_count": 97,
      "outputs": [
        {
          "output_type": "execute_result",
          "data": {
            "text/plain": [
              "<bound method StreamingQuery.stop of <pyspark.sql.streaming.query.StreamingQuery object at 0x7b2b0fd7d600>>"
            ],
            "text/html": [
              "<div style=\"max-width:800px; border: 1px solid var(--colab-border-color);\"><style>\n",
              "      pre.function-repr-contents {\n",
              "        overflow-x: auto;\n",
              "        padding: 8px 12px;\n",
              "        max-height: 500px;\n",
              "      }\n",
              "\n",
              "      pre.function-repr-contents.function-repr-contents-collapsed {\n",
              "        cursor: pointer;\n",
              "        max-height: 100px;\n",
              "      }\n",
              "    </style>\n",
              "    <pre style=\"white-space: initial; background:\n",
              "         var(--colab-secondary-surface-color); padding: 8px 12px;\n",
              "         border-bottom: 1px solid var(--colab-border-color);\"><b>pyspark.sql.streaming.query.StreamingQuery.stop</b><br/>def stop() -&gt; None</pre><pre class=\"function-repr-contents function-repr-contents-collapsed\" style=\"\"><a class=\"filepath\" style=\"display:none\" href=\"#\">/usr/local/lib/python3.10/dist-packages/pyspark/sql/streaming/query.py</a>Stop this streaming query.\n",
              "\n",
              ".. versionadded:: 2.0.0\n",
              "\n",
              ".. versionchanged:: 3.5.0\n",
              "    Supports Spark Connect.\n",
              "\n",
              "Examples\n",
              "--------\n",
              "&gt;&gt;&gt; sdf = spark.readStream.format(&quot;rate&quot;).load()\n",
              "&gt;&gt;&gt; sq = sdf.writeStream.format(&#x27;memory&#x27;).queryName(&#x27;this_query&#x27;).start()\n",
              "&gt;&gt;&gt; sq.isActive\n",
              "True\n",
              "\n",
              "Stop streaming query\n",
              "\n",
              "&gt;&gt;&gt; sq.stop()\n",
              "\n",
              "&gt;&gt;&gt; sq.isActive\n",
              "False</pre>\n",
              "      <script>\n",
              "      if (google.colab.kernel.accessAllowed && google.colab.files && google.colab.files.view) {\n",
              "        for (const element of document.querySelectorAll('.filepath')) {\n",
              "          element.style.display = 'block'\n",
              "          element.onclick = (event) => {\n",
              "            event.preventDefault();\n",
              "            event.stopPropagation();\n",
              "            google.colab.files.view(element.textContent, 349);\n",
              "          };\n",
              "        }\n",
              "      }\n",
              "      for (const element of document.querySelectorAll('.function-repr-contents')) {\n",
              "        element.onclick = (event) => {\n",
              "          event.preventDefault();\n",
              "          event.stopPropagation();\n",
              "          element.classList.toggle('function-repr-contents-collapsed');\n",
              "        };\n",
              "      }\n",
              "      </script>\n",
              "      </div>"
            ]
          },
          "metadata": {},
          "execution_count": 97
        }
      ]
    },
    {
      "cell_type": "code",
      "source": [
        "df = spark.read.format(\"parquet\").load(\"content/output/events\")\n",
        "\n",
        "df.show()"
      ],
      "metadata": {
        "id": "c4BGJlctZdon",
        "outputId": "d6638166-94ce-4b71-cd88-e4d4040a5fc5",
        "colab": {
          "base_uri": "https://localhost:8080/"
        }
      },
      "execution_count": 87,
      "outputs": [
        {
          "output_type": "stream",
          "name": "stdout",
          "text": [
            "+--------------------+-----+--------------------+--------------------+--------------------+----------+--------------------+\n",
            "|           timestamp|value|                name|             address|               email|       dob|               phone|\n",
            "+--------------------+-----+--------------------+--------------------+--------------------+----------+--------------------+\n",
            "|2024-11-29 19:55:...| 1465|Mrs. Kimberly Stuart|19491 Makayla Loc...|zacharylawson@exa...|2000-03-11|001-981-340-6489x061|\n",
            "|2024-11-29 19:56:...| 1486|   Jessica Carpenter|3118 Whitaker Sho...|smithhenry@exampl...|1913-06-16|  442.965.8651x17486|\n",
            "|2024-11-29 19:55:...| 1419|        Donald Green|88028 Daniel Trai...|jasonmclaughlin@e...|1918-07-21|+1-707-706-2607x1...|\n",
            "|2024-11-29 19:55:...| 1455| Christopher Ray Jr.|702 Ramirez Villa...|lucascourtney@exa...|1959-04-17|001-875-201-4285x717|\n",
            "|2024-11-29 19:56:...| 1510|Mr. Xavier Jacobs MD|5873 Chan Plain S...|howelljohn@exampl...|1916-03-14|     +1-216-896-0881|\n",
            "|2024-11-29 19:54:...| 1412|   Nicholas Williams|053 Douglas Ports...|harmondenise@exam...|1925-01-14| +1-604-535-7360x208|\n",
            "|2024-11-29 19:56:...| 1496|     Roger Ortega II|9622 Wilkinson Cr...|sarahyoung@exampl...|1953-01-29|    920-216-4713x843|\n",
            "|2024-11-29 19:56:...| 1481|     Darrell Alvarez|4058 Wanda Corner...|deborahrodriguez@...|1986-07-31|  (278)677-3566x4022|\n",
            "|2024-11-29 19:55:...| 1475|  Jennifer Daugherty|9952 Kelly Glens ...|millerdeborah@exa...|1923-10-15|    741-376-6744x484|\n",
            "|2024-11-29 19:55:...| 1460| Mr. Nicholas Palmer|2512 Jennifer Lod...|stephanie03@examp...|1953-05-05|    722.730.1981x156|\n",
            "|2024-11-29 19:55:...| 1462|        Amanda Lewis|30978 Lee Unions ...|eileenatkinson@ex...|1938-02-15|001-525-632-6923x384|\n",
            "|2024-11-29 19:56:...| 1488|       Anthony Perez|6028 Roberts Fall...|cassandrahudson@e...|1933-03-15|    001-849-217-3436|\n",
            "|2024-11-29 19:56:...| 1483|       Victor Vargas|106 Roberson Inle...|sanchezrichard@ex...|1955-07-10|001-660-434-7868x602|\n",
            "|2024-11-29 19:54:...| 1415|          Judy Perez|15369 Lawson Port...|michael91@example...|1976-07-10|+1-718-362-1499x1...|\n",
            "|2024-11-29 19:55:...| 1434|    Elizabeth Orozco|339 Murphy Isle A...|johnporter@exampl...|1951-06-13|+1-767-967-7106x9...|\n",
            "|2024-11-29 19:55:...| 1458|      Courtney Perez|36840 Curry Squar...|whitelaura@exampl...|1948-04-19|001-927-424-6593x796|\n",
            "|2024-11-29 19:56:...| 1487| Stephanie Schneider|578 Berry Junctio...|  mary64@example.org|2009-03-12|+1-427-525-8683x5...|\n",
            "|2024-11-29 19:55:...| 1424|Mrs. Jordan Burke MD|5440 Christian Ca...|  tina79@example.org|1964-07-17|+1-765-250-9706x6464|\n",
            "|2024-11-29 19:55:...| 1432|         Keith Clark|90608 Edward Port...|desireesmith@exam...|1934-09-24|001-689-901-7348x700|\n",
            "|2024-11-29 19:55:...| 1463|         Audrey Ball|3872 Nicholas Str...|johnmills@example...|1943-05-24|    001-202-819-7902|\n",
            "+--------------------+-----+--------------------+--------------------+--------------------+----------+--------------------+\n",
            "only showing top 20 rows\n",
            "\n"
          ]
        }
      ]
    },
    {
      "cell_type": "code",
      "source": [
        "timestamp\n",
        "id\n",
        "message_type (OPEN, RECEIVED, SENT, CREATED)\n",
        "message_id\n",
        "user"
      ],
      "metadata": {
        "id": "XtCo5_4mf8cl"
      },
      "execution_count": null,
      "outputs": []
    },
    {
      "cell_type": "code",
      "source": [
        "query.stop"
      ],
      "metadata": {
        "id": "K8b2hZFwiW5E",
        "outputId": "693c3744-4b5f-4e14-8152-f69f5039795e",
        "colab": {
          "base_uri": "https://localhost:8080/",
          "height": 185
        }
      },
      "execution_count": 94,
      "outputs": [
        {
          "output_type": "execute_result",
          "data": {
            "text/plain": [
              "<bound method StreamingQuery.stop of <pyspark.sql.streaming.query.StreamingQuery object at 0x7b2b0fd7d600>>"
            ],
            "text/html": [
              "<div style=\"max-width:800px; border: 1px solid var(--colab-border-color);\"><style>\n",
              "      pre.function-repr-contents {\n",
              "        overflow-x: auto;\n",
              "        padding: 8px 12px;\n",
              "        max-height: 500px;\n",
              "      }\n",
              "\n",
              "      pre.function-repr-contents.function-repr-contents-collapsed {\n",
              "        cursor: pointer;\n",
              "        max-height: 100px;\n",
              "      }\n",
              "    </style>\n",
              "    <pre style=\"white-space: initial; background:\n",
              "         var(--colab-secondary-surface-color); padding: 8px 12px;\n",
              "         border-bottom: 1px solid var(--colab-border-color);\"><b>pyspark.sql.streaming.query.StreamingQuery.stop</b><br/>def stop() -&gt; None</pre><pre class=\"function-repr-contents function-repr-contents-collapsed\" style=\"\"><a class=\"filepath\" style=\"display:none\" href=\"#\">/usr/local/lib/python3.10/dist-packages/pyspark/sql/streaming/query.py</a>Stop this streaming query.\n",
              "\n",
              ".. versionadded:: 2.0.0\n",
              "\n",
              ".. versionchanged:: 3.5.0\n",
              "    Supports Spark Connect.\n",
              "\n",
              "Examples\n",
              "--------\n",
              "&gt;&gt;&gt; sdf = spark.readStream.format(&quot;rate&quot;).load()\n",
              "&gt;&gt;&gt; sq = sdf.writeStream.format(&#x27;memory&#x27;).queryName(&#x27;this_query&#x27;).start()\n",
              "&gt;&gt;&gt; sq.isActive\n",
              "True\n",
              "\n",
              "Stop streaming query\n",
              "\n",
              "&gt;&gt;&gt; sq.stop()\n",
              "\n",
              "&gt;&gt;&gt; sq.isActive\n",
              "False</pre>\n",
              "      <script>\n",
              "      if (google.colab.kernel.accessAllowed && google.colab.files && google.colab.files.view) {\n",
              "        for (const element of document.querySelectorAll('.filepath')) {\n",
              "          element.style.display = 'block'\n",
              "          element.onclick = (event) => {\n",
              "            event.preventDefault();\n",
              "            event.stopPropagation();\n",
              "            google.colab.files.view(element.textContent, 349);\n",
              "          };\n",
              "        }\n",
              "      }\n",
              "      for (const element of document.querySelectorAll('.function-repr-contents')) {\n",
              "        element.onclick = (event) => {\n",
              "          event.preventDefault();\n",
              "          event.stopPropagation();\n",
              "          element.classList.toggle('function-repr-contents-collapsed');\n",
              "        };\n",
              "      }\n",
              "      </script>\n",
              "      </div>"
            ]
          },
          "metadata": {},
          "execution_count": 94
        }
      ]
    },
    {
      "cell_type": "code",
      "source": [
        "import pyspark.sql.functions as F\n",
        "from pyspark.sql import DataFrame\n",
        "from faker import Faker\n",
        "\n",
        "def insert_into_table(df, batch_id):\n",
        "  fake = Faker()\n",
        "  new_columns = {\n",
        "      'event_type': fake.random_element(elements=('OPEN', 'RECEIVED', 'SENT', 'CREATED', 'CLICKED')),\n",
        "      'event_id': fake.uuid4(),\n",
        "      'country': fake.country(),\n",
        "      'user_id': fake.random_int(min=1000, max=1050),\n",
        "  }\n",
        "  df = df.withColumns(new_columns)\n",
        "  df.write.mode(\"append\").format(\"parquet\").save(\"content/output/messages\")\n",
        "\n",
        "# read stream\n",
        "df_stream = spark.readStream.format(\"rate\").option(\"rowsPerSecond\", 1).load()\n",
        "\n",
        "# write stream\n",
        "query = (df_stream.writeStream\n",
        ".outputMode('append')\n",
        ".trigger(processingTime='1 seconds')\n",
        ".foreach(insert_into_table)\n",
        ".start()\n",
        ")\n",
        "\n"
      ],
      "metadata": {
        "id": "tPCOdivrfhYh"
      },
      "execution_count": null,
      "outputs": []
    }
  ],
  "metadata": {
    "colab": {
      "provenance": [],
      "include_colab_link": true
    },
    "kernelspec": {
      "display_name": "Python 3",
      "name": "python3"
    },
    "language_info": {
      "name": "python"
    }
  },
  "nbformat": 4,
  "nbformat_minor": 0
}